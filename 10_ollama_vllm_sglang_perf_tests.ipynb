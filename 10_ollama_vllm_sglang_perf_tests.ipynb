{
 "cells": [
  {
   "cell_type": "markdown",
   "id": "7249409e-3e87-4e64-875c-624a78033472",
   "metadata": {},
   "source": [
    "## Install prerequisites"
   ]
  },
  {
   "cell_type": "code",
   "execution_count": 27,
   "id": "24e11987-23f3-44e8-8184-b83679f0ee02",
   "metadata": {
    "execution": {
     "iopub.execute_input": "2024-09-20T21:30:05.806413Z",
     "iopub.status.busy": "2024-09-20T21:30:05.806024Z",
     "iopub.status.idle": "2024-09-20T21:30:05.816874Z",
     "shell.execute_reply": "2024-09-20T21:30:05.816083Z",
     "shell.execute_reply.started": "2024-09-20T21:30:05.806383Z"
    }
   },
   "outputs": [
    {
     "data": {
      "text/plain": [
       "'2.4.0'"
      ]
     },
     "execution_count": 27,
     "metadata": {},
     "output_type": "execute_result"
    }
   ],
   "source": [
    "from importlib.metadata import version\n",
    "version('torch')"
   ]
  },
  {
   "cell_type": "code",
   "execution_count": null,
   "id": "ee55718c-4310-4aa9-b363-acae522d8197",
   "metadata": {},
   "outputs": [],
   "source": [
    "pip install --upgrade transformers"
   ]
  },
  {
   "cell_type": "markdown",
   "id": "9f72e89a-3941-4ee1-97cf-18c2e15b1842",
   "metadata": {},
   "source": [
    "https://docs.vllm.ai/en/latest/"
   ]
  },
  {
   "cell_type": "code",
   "execution_count": 12,
   "id": "459e66c0-05d6-4651-b62b-e486f5b0a961",
   "metadata": {
    "execution": {
     "iopub.execute_input": "2024-09-20T19:18:21.579202Z",
     "iopub.status.busy": "2024-09-20T19:18:21.578852Z",
     "iopub.status.idle": "2024-09-20T19:18:21.586959Z",
     "shell.execute_reply": "2024-09-20T19:18:21.586649Z",
     "shell.execute_reply.started": "2024-09-20T19:18:21.579175Z"
    }
   },
   "outputs": [
    {
     "data": {
      "text/plain": [
       "'4.44.2'"
      ]
     },
     "execution_count": 12,
     "metadata": {},
     "output_type": "execute_result"
    }
   ],
   "source": [
    "version('transformers')"
   ]
  },
  {
   "cell_type": "code",
   "execution_count": null,
   "id": "3d35b0e6-a186-447d-a035-9af71e3358af",
   "metadata": {},
   "outputs": [],
   "source": [
    "pip install --upgrade vllm"
   ]
  },
  {
   "cell_type": "code",
   "execution_count": 3,
   "id": "876ca82b-1cd6-4aae-a964-2b047a9fc4a0",
   "metadata": {
    "execution": {
     "iopub.execute_input": "2024-09-20T18:38:51.786662Z",
     "iopub.status.busy": "2024-09-20T18:38:51.786290Z",
     "iopub.status.idle": "2024-09-20T18:38:51.794793Z",
     "shell.execute_reply": "2024-09-20T18:38:51.794417Z",
     "shell.execute_reply.started": "2024-09-20T18:38:51.786630Z"
    }
   },
   "outputs": [
    {
     "data": {
      "text/plain": [
       "'0.6.1.post2'"
      ]
     },
     "execution_count": 3,
     "metadata": {},
     "output_type": "execute_result"
    }
   ],
   "source": [
    "version('vllm')"
   ]
  },
  {
   "cell_type": "markdown",
   "id": "6874cffb-8745-418f-9194-0c2f04060567",
   "metadata": {},
   "source": [
    "https://sglang.readthedocs.io/en/latest/"
   ]
  },
  {
   "cell_type": "code",
   "execution_count": null,
   "id": "56019c95-b5b3-4fe9-8170-2d3873db36cc",
   "metadata": {},
   "outputs": [],
   "source": [
    "pip install --upgrade \"sglang[all]\""
   ]
  },
  {
   "cell_type": "code",
   "execution_count": null,
   "id": "d0ea3fca-704a-4b5e-a8c0-80496ce179f8",
   "metadata": {},
   "outputs": [],
   "source": [
    "pip install flashinfer -i https://flashinfer.ai/whl/cu124/torch2.4/"
   ]
  },
  {
   "cell_type": "code",
   "execution_count": 7,
   "id": "9e703628-1345-49f5-b310-b4b93b36c620",
   "metadata": {
    "execution": {
     "iopub.execute_input": "2024-09-20T18:44:48.981904Z",
     "iopub.status.busy": "2024-09-20T18:44:48.981514Z",
     "iopub.status.idle": "2024-09-20T18:44:48.993669Z",
     "shell.execute_reply": "2024-09-20T18:44:48.993228Z",
     "shell.execute_reply.started": "2024-09-20T18:44:48.981875Z"
    }
   },
   "outputs": [
    {
     "data": {
      "text/plain": [
       "'0.3.1.post2'"
      ]
     },
     "execution_count": 7,
     "metadata": {},
     "output_type": "execute_result"
    }
   ],
   "source": [
    "version('sglang')"
   ]
  },
  {
   "cell_type": "code",
   "execution_count": 28,
   "id": "7cb9d3f5-621d-4e1f-b30e-c616ecb2df83",
   "metadata": {
    "execution": {
     "iopub.execute_input": "2024-09-20T21:30:11.967166Z",
     "iopub.status.busy": "2024-09-20T21:30:11.966769Z",
     "iopub.status.idle": "2024-09-20T21:30:11.975092Z",
     "shell.execute_reply": "2024-09-20T21:30:11.974357Z",
     "shell.execute_reply.started": "2024-09-20T21:30:11.967143Z"
    }
   },
   "outputs": [
    {
     "data": {
      "text/plain": [
       "'0.1.6+cu124torch2.4'"
      ]
     },
     "execution_count": 28,
     "metadata": {},
     "output_type": "execute_result"
    }
   ],
   "source": [
    "version('flashinfer')"
   ]
  },
  {
   "cell_type": "markdown",
   "id": "c2783c62-8361-4e45-9fdc-07a9ced35e81",
   "metadata": {},
   "source": [
    "https://github.com/ollama/ollama-python\n",
    "\n",
    "https://github.com/ollama/ollama/tree/main/docs"
   ]
  },
  {
   "cell_type": "code",
   "execution_count": null,
   "id": "80b56434-da15-42f4-9974-4f24be59902c",
   "metadata": {},
   "outputs": [],
   "source": [
    "pip install --upgrade ollama"
   ]
  },
  {
   "cell_type": "code",
   "execution_count": 10,
   "id": "48ac7f1f-81db-4643-90d8-2355f26de1c9",
   "metadata": {
    "execution": {
     "iopub.execute_input": "2024-09-20T19:08:15.201708Z",
     "iopub.status.busy": "2024-09-20T19:08:15.200981Z",
     "iopub.status.idle": "2024-09-20T19:08:15.210161Z",
     "shell.execute_reply": "2024-09-20T19:08:15.209607Z",
     "shell.execute_reply.started": "2024-09-20T19:08:15.201674Z"
    }
   },
   "outputs": [
    {
     "data": {
      "text/plain": [
       "'0.3.3'"
      ]
     },
     "execution_count": 10,
     "metadata": {},
     "output_type": "execute_result"
    }
   ],
   "source": [
    "version('ollama')"
   ]
  },
  {
   "cell_type": "markdown",
   "id": "6de95a90-29e7-4dc4-974b-8b601a86c16a",
   "metadata": {},
   "source": [
    "## Test installation"
   ]
  },
  {
   "cell_type": "code",
   "execution_count": 1,
   "id": "6570564c-6fbb-4eb2-b716-1a161c7d9787",
   "metadata": {
    "execution": {
     "iopub.execute_input": "2024-09-20T21:33:00.659963Z",
     "iopub.status.busy": "2024-09-20T21:33:00.659657Z",
     "iopub.status.idle": "2024-09-20T21:33:00.664208Z",
     "shell.execute_reply": "2024-09-20T21:33:00.663816Z",
     "shell.execute_reply.started": "2024-09-20T21:33:00.659949Z"
    }
   },
   "outputs": [],
   "source": [
    "test_messages = [\n",
    "[\n",
    "    {\"role\": \"system\", \"content\": \"Tu es un assistant utile et professionnel qui répond toujours en français.\"},\n",
    "    {\"role\": \"user\", \"content\": \"Quels sont les avantages du Crédit Mutuel ?\"}\n",
    "],\n",
    "[\n",
    "    {\"role\": \"system\", \"content\": \"Tu es un assistant utile et professionnel qui répond toujours en français.\"},\n",
    "    {\"role\": \"user\", \"content\": \"Quels sont les avantages du Crédit Agricole ?\"}\n",
    "],\n",
    "[\n",
    "    {\"role\": \"system\", \"content\": \"Tu es un assistant utile et professionnel qui répond toujours en français.\"},\n",
    "    {\"role\": \"user\", \"content\": \"Quels sont les avantages de la Société Générale ?\"}\n",
    "],\n",
    "[\n",
    "    {\"role\": \"system\", \"content\": \"Tu es un assistant utile et professionnel qui répond toujours en français.\"},\n",
    "    {\"role\": \"user\", \"content\": \"Quels sont les avantages de la BNP ?\"}\n",
    "]\n",
    "]"
   ]
  },
  {
   "cell_type": "code",
   "execution_count": 2,
   "id": "e93cb29b-8c75-4187-846a-832024247f03",
   "metadata": {
    "execution": {
     "iopub.execute_input": "2024-09-20T21:33:01.102419Z",
     "iopub.status.busy": "2024-09-20T21:33:01.102164Z",
     "iopub.status.idle": "2024-09-20T21:33:01.104425Z",
     "shell.execute_reply": "2024-09-20T21:33:01.104016Z",
     "shell.execute_reply.started": "2024-09-20T21:33:01.102408Z"
    }
   },
   "outputs": [],
   "source": [
    "test_models = {\n",
    "    \"llama-3.1\" : \"meta-llama/Meta-Llama-3.1-8B-Instruct\"\n",
    "}"
   ]
  },
  {
   "cell_type": "code",
   "execution_count": 3,
   "id": "8a427640-100e-49cb-a2fc-f5fa8c18a6e3",
   "metadata": {
    "execution": {
     "iopub.execute_input": "2024-09-20T21:33:01.838654Z",
     "iopub.status.busy": "2024-09-20T21:33:01.838393Z",
     "iopub.status.idle": "2024-09-20T21:33:03.469281Z",
     "shell.execute_reply": "2024-09-20T21:33:03.468887Z",
     "shell.execute_reply.started": "2024-09-20T21:33:01.838644Z"
    }
   },
   "outputs": [],
   "source": [
    "from transformers import AutoTokenizer\n",
    "\n",
    "def format_prompt(messages, model):\n",
    "    tokenizer = AutoTokenizer.from_pretrained(model)\n",
    "    prompt = tokenizer.apply_chat_template(messages, tokenize=False, add_generation_prompt=True)\n",
    "    return prompt"
   ]
  },
  {
   "cell_type": "code",
   "execution_count": 4,
   "id": "267c07a4-c9f1-4d16-8697-d4a1204e2c84",
   "metadata": {
    "execution": {
     "iopub.execute_input": "2024-09-20T21:33:03.470080Z",
     "iopub.status.busy": "2024-09-20T21:33:03.469897Z",
     "iopub.status.idle": "2024-09-20T21:33:03.903562Z",
     "shell.execute_reply": "2024-09-20T21:33:03.903000Z",
     "shell.execute_reply.started": "2024-09-20T21:33:03.470071Z"
    }
   },
   "outputs": [
    {
     "data": {
      "text/plain": [
       "['<|begin_of_text|><|start_header_id|>system<|end_header_id|>\\n\\nCutting Knowledge Date: December 2023\\nToday Date: 26 Jul 2024\\n\\nTu es un assistant utile et professionnel qui répond toujours en français.<|eot_id|><|start_header_id|>user<|end_header_id|>\\n\\nQuels sont les avantages du Crédit Mutuel ?<|eot_id|><|start_header_id|>assistant<|end_header_id|>\\n\\n',\n",
       " '<|begin_of_text|><|start_header_id|>system<|end_header_id|>\\n\\nCutting Knowledge Date: December 2023\\nToday Date: 26 Jul 2024\\n\\nTu es un assistant utile et professionnel qui répond toujours en français.<|eot_id|><|start_header_id|>user<|end_header_id|>\\n\\nQuels sont les avantages du Crédit Agricole ?<|eot_id|><|start_header_id|>assistant<|end_header_id|>\\n\\n',\n",
       " '<|begin_of_text|><|start_header_id|>system<|end_header_id|>\\n\\nCutting Knowledge Date: December 2023\\nToday Date: 26 Jul 2024\\n\\nTu es un assistant utile et professionnel qui répond toujours en français.<|eot_id|><|start_header_id|>user<|end_header_id|>\\n\\nQuels sont les avantages de la Société Générale ?<|eot_id|><|start_header_id|>assistant<|end_header_id|>\\n\\n',\n",
       " '<|begin_of_text|><|start_header_id|>system<|end_header_id|>\\n\\nCutting Knowledge Date: December 2023\\nToday Date: 26 Jul 2024\\n\\nTu es un assistant utile et professionnel qui répond toujours en français.<|eot_id|><|start_header_id|>user<|end_header_id|>\\n\\nQuels sont les avantages de la BNP ?<|eot_id|><|start_header_id|>assistant<|end_header_id|>\\n\\n']"
      ]
     },
     "execution_count": 4,
     "metadata": {},
     "output_type": "execute_result"
    }
   ],
   "source": [
    "format_prompt(test_messages, test_models[\"llama-3.1\"])"
   ]
  },
  {
   "cell_type": "markdown",
   "id": "5d16d245-b3ef-418e-8d3b-5f494f5e6deb",
   "metadata": {},
   "source": [
    "### vLLM"
   ]
  },
  {
   "cell_type": "code",
   "execution_count": 5,
   "id": "4f997ac1-6001-493b-b118-61ca0ff29449",
   "metadata": {
    "execution": {
     "iopub.execute_input": "2024-09-20T21:00:01.950285Z",
     "iopub.status.busy": "2024-09-20T21:00:01.949785Z",
     "iopub.status.idle": "2024-09-20T21:00:01.966016Z",
     "shell.execute_reply": "2024-09-20T21:00:01.965321Z",
     "shell.execute_reply.started": "2024-09-20T21:00:01.950258Z"
    }
   },
   "outputs": [],
   "source": [
    "# Authenticate VLLM with Huggingface Hub\n",
    "import os\n",
    "\n",
    "with open(\"/workspace/hftoken\", 'r') as file:\n",
    "    myhftoken = file.read().strip()\n",
    "\n",
    "os.environ[\"HF_TOKEN\"]=myhftoken"
   ]
  },
  {
   "cell_type": "code",
   "execution_count": 13,
   "id": "15a8369c-d660-4d64-897d-4d5929200a42",
   "metadata": {
    "execution": {
     "iopub.execute_input": "2024-09-20T21:06:17.822129Z",
     "iopub.status.busy": "2024-09-20T21:06:17.821784Z",
     "iopub.status.idle": "2024-09-20T21:06:17.828218Z",
     "shell.execute_reply": "2024-09-20T21:06:17.827887Z",
     "shell.execute_reply.started": "2024-09-20T21:06:17.822105Z"
    }
   },
   "outputs": [],
   "source": [
    "import time\n",
    "from vllm import LLM, SamplingParams\n",
    "\n",
    "def vllm_load(model):    \n",
    "    llm = LLM(model, gpu_memory_utilization=0.99, max_model_len=8192)\n",
    "    llm._model = model\n",
    "    return llm\n",
    "\n",
    "def vllm_generate(messages, llm):       \n",
    "    prompts = format_prompt(messages, llm._model)\n",
    "    sampling_params = SamplingParams(temperature=0.7, top_p=0.8, repetition_penalty=1.05, max_tokens=512)\n",
    "    # warmup\n",
    "    outputs = llm.generate(prompts[0], sampling_params)\n",
    "    print(f\"Generated text: {outputs[0].outputs[0].text!r}\")\n",
    "    \n",
    "    print(f\"VLLM performance test:\")\n",
    "    for batch_size in range(1, len(messages) + 1):\n",
    "        start_time = time.time()  # Record the start time\n",
    "        outputs = llm.generate(prompts[0:batch_size], sampling_params)\n",
    "        end_time = time.time()  # Record the end time\n",
    "            \n",
    "        # Print the outputs.\n",
    "        tokenscount = 0\n",
    "        for output in outputs:\n",
    "            generated_text = output.outputs[0].text\n",
    "            tokenscount = tokenscount + len(output.outputs[0].token_ids)\n",
    "\n",
    "        tokens_per_sec = tokenscount/(end_time-start_time)\n",
    "        print(f\"- batch size {batch_size}: {tokens_per_sec:.2f} tokens/sec ({batch_size} x {tokens_per_sec/batch_size:.2f})\")"
   ]
  },
  {
   "cell_type": "code",
   "execution_count": 7,
   "id": "2267f691-7b8f-44a7-82c6-7e85598c7a3e",
   "metadata": {
    "execution": {
     "iopub.execute_input": "2024-09-20T21:00:08.502824Z",
     "iopub.status.busy": "2024-09-20T21:00:08.502196Z",
     "iopub.status.idle": "2024-09-20T21:00:31.753859Z",
     "shell.execute_reply": "2024-09-20T21:00:31.753460Z",
     "shell.execute_reply.started": "2024-09-20T21:00:08.502794Z"
    }
   },
   "outputs": [
    {
     "name": "stdout",
     "output_type": "stream",
     "text": [
      "INFO 09-20 23:00:08 llm_engine.py:184] Initializing an LLM engine (v0.5.5) with config: model='meta-llama/Meta-Llama-3.1-8B-Instruct', speculative_config=None, tokenizer='meta-llama/Meta-Llama-3.1-8B-Instruct', skip_tokenizer_init=False, tokenizer_mode=auto, revision=None, rope_scaling=None, rope_theta=None, tokenizer_revision=None, trust_remote_code=False, dtype=torch.bfloat16, max_seq_len=8192, download_dir=None, load_format=LoadFormat.AUTO, tensor_parallel_size=1, pipeline_parallel_size=1, disable_custom_all_reduce=False, quantization=None, enforce_eager=False, kv_cache_dtype=auto, quantization_param_path=None, device_config=cuda, decoding_config=DecodingConfig(guided_decoding_backend='outlines'), observability_config=ObservabilityConfig(otlp_traces_endpoint=None, collect_model_forward_time=False, collect_model_execute_time=False), seed=0, served_model_name=meta-llama/Meta-Llama-3.1-8B-Instruct, use_v2_block_manager=False, enable_prefix_caching=False)\n",
      "WARNING 09-20 23:00:09 utils.py:721] Using 'pin_memory=False' as WSL is detected. This may slow down the performance.\n",
      "INFO 09-20 23:00:09 model_runner.py:879] Starting to load model meta-llama/Meta-Llama-3.1-8B-Instruct...\n",
      "INFO 09-20 23:00:10 weight_utils.py:236] Using model weights format ['*.safetensors']\n"
     ]
    },
    {
     "data": {
      "application/vnd.jupyter.widget-view+json": {
       "model_id": "68577689a2214df1a87b84e46c17b9c0",
       "version_major": 2,
       "version_minor": 0
      },
      "text/plain": [
       "Loading safetensors checkpoint shards:   0% Completed | 0/4 [00:00<?, ?it/s]\n"
      ]
     },
     "metadata": {},
     "output_type": "display_data"
    },
    {
     "name": "stdout",
     "output_type": "stream",
     "text": [
      "INFO 09-20 23:00:19 model_runner.py:890] Loading model weights took 14.9888 GB\n",
      "INFO 09-20 23:00:20 gpu_executor.py:121] # GPU blocks: 3610, # CPU blocks: 2048\n",
      "INFO 09-20 23:00:20 model_runner.py:1181] Capturing the model for CUDA graphs. This may lead to unexpected consequences if the model is not static. To run the model in eager mode, set 'enforce_eager=True' or use '--enforce-eager' in the CLI.\n",
      "INFO 09-20 23:00:20 model_runner.py:1185] CUDA graphs can take additional 1~3 GiB memory per GPU. If you are running out of memory, consider decreasing `gpu_memory_utilization` or enforcing eager mode. You can also reduce the `max_num_seqs` as needed to decrease memory usage.\n",
      "INFO 09-20 23:00:31 model_runner.py:1300] Graph capturing finished in 11 secs.\n"
     ]
    }
   ],
   "source": [
    "llm = vllm_load(test_models[\"llama-3.1\"])"
   ]
  },
  {
   "cell_type": "code",
   "execution_count": 14,
   "id": "8d938178-167d-4df8-a5db-43aaa6026140",
   "metadata": {
    "execution": {
     "iopub.execute_input": "2024-09-20T21:06:19.963437Z",
     "iopub.status.busy": "2024-09-20T21:06:19.963082Z",
     "iopub.status.idle": "2024-09-20T21:07:07.700309Z",
     "shell.execute_reply": "2024-09-20T21:07:07.699926Z",
     "shell.execute_reply.started": "2024-09-20T21:06:19.963412Z"
    }
   },
   "outputs": [
    {
     "name": "stderr",
     "output_type": "stream",
     "text": [
      "Processed prompts: 100%|█████████████| 1/1 [00:09<00:00,  9.43s/it, est. speed input: 6.68 toks/s, output: 54.27 toks/s]\n"
     ]
    },
    {
     "name": "stdout",
     "output_type": "stream",
     "text": [
      "Generated text: \"Le Crédit Mutuel est une banque coopérative française qui offre divers avantages à ses membres. Voici quelques-uns des principaux avantages du Crédit Mutuel :\\n\\n1. **Intérêts plus faibles** : Le Crédit Mutuel propose souvent des taux d'intérêt plus bas que les banques traditionnelles pour les prêts et les comptes courants.\\n2. **Tarifs attractifs** : Les frais de gestion, les commissions et les tarifs associés aux services bancaires sont généralement moins élevés chez le Crédit Mutuel.\\n3. **Services personnalisés** : Les membres du Crédit Mutuel bénéficient d'un service personnalisé, avec des conseillers bancaires disponibles pour les accompagner dans leurs projets financiers.\\n4. **Accès à des produits innovants** : Le Crédit Mutuel propose des produits financiers innovants, tels que des prêts à taux zéro ou des comptes courants avec des intérêts positifs.\\n5. **Soutien local** : En tant que banque coopérative, le Crédit Mutuel est ancrée dans la communauté locale et soutient les initiatives économiques et sociales des régions où il est présent.\\n6. **Transparence et responsabilité** : Le Crédit Mutuel est soumis à une gouvernance démocratique et transparente, ce qui garantit que les décisions sont prises dans l'intérêt des membres.\\n7. **Participation aux bénéfices** : Les membres du Crédit Mutuel peuvent participer aux bénéfices de l'organisation, ce qui leur permet de bénéficier d'une rémunération sur leurs épargnes.\\n8. **Sécurité et protection** : Le Crédit Mutuel propose des mesures de sécurité renforcées pour protéger les comptes et les données personnelles de ses membres.\\n9. **Partenariats et offres exclusives** : Le Crédit Mutuel collabore avec des partenaires pour offrir des offres exclusives et des avantages spéciaux à ses membres.\\n10. **Diversification des services** : Le Crédit Mutuel propose une gamme complète de services bancaires, allant des comptes courants aux prêts, en pass\"\n",
      "VLLM performance test:\n"
     ]
    },
    {
     "name": "stderr",
     "output_type": "stream",
     "text": [
      "Processed prompts: 100%|█████████████| 1/1 [00:09<00:00,  9.22s/it, est. speed input: 6.83 toks/s, output: 55.51 toks/s]\n"
     ]
    },
    {
     "name": "stdout",
     "output_type": "stream",
     "text": [
      "- batch size 1: 55.50 tokens/sec (1 x 55.50)\n"
     ]
    },
    {
     "name": "stderr",
     "output_type": "stream",
     "text": [
      "Processed prompts: 100%|███████████| 2/2 [00:09<00:00,  4.77s/it, est. speed input: 13.30 toks/s, output: 107.23 toks/s]\n"
     ]
    },
    {
     "name": "stdout",
     "output_type": "stream",
     "text": [
      "- batch size 2: 107.22 tokens/sec (2 x 53.61)\n"
     ]
    },
    {
     "name": "stderr",
     "output_type": "stream",
     "text": [
      "Processed prompts: 100%|███████████| 3/3 [00:09<00:00,  3.20s/it, est. speed input: 19.87 toks/s, output: 158.84 toks/s]\n"
     ]
    },
    {
     "name": "stdout",
     "output_type": "stream",
     "text": [
      "- batch size 3: 158.81 tokens/sec (3 x 52.94)\n"
     ]
    },
    {
     "name": "stderr",
     "output_type": "stream",
     "text": [
      "Processed prompts: 100%|███████████| 4/4 [00:09<00:00,  2.41s/it, est. speed input: 26.12 toks/s, output: 212.31 toks/s]"
     ]
    },
    {
     "name": "stdout",
     "output_type": "stream",
     "text": [
      "- batch size 4: 212.26 tokens/sec (4 x 53.06)\n"
     ]
    },
    {
     "name": "stderr",
     "output_type": "stream",
     "text": [
      "\n"
     ]
    }
   ],
   "source": [
    "vllm_generate(test_messages, llm)"
   ]
  },
  {
   "cell_type": "markdown",
   "id": "b84d1f3d-603b-4cf3-be32-ed0312caf5bc",
   "metadata": {},
   "source": [
    "### SGLang"
   ]
  },
  {
   "cell_type": "code",
   "execution_count": 5,
   "id": "98445cbd-0312-4cf5-8832-53b2da13e83c",
   "metadata": {
    "execution": {
     "iopub.execute_input": "2024-09-20T21:33:09.198458Z",
     "iopub.status.busy": "2024-09-20T21:33:09.197962Z",
     "iopub.status.idle": "2024-09-20T21:33:09.205012Z",
     "shell.execute_reply": "2024-09-20T21:33:09.204376Z",
     "shell.execute_reply.started": "2024-09-20T21:33:09.198444Z"
    }
   },
   "outputs": [],
   "source": [
    "import json, time\n",
    "import sglang\n",
    "\n",
    "def sglang_load(model):\n",
    "    runtime = sglang.Runtime(model_path=model)\n",
    "    return runtime\n",
    "\n",
    "def sglang_generate(messages, runtime):\n",
    "    sampling_params = { \"temperature\":0.7, \"top_p\":0.8, \"repetition_penalty\":1.05, \"max_new_tokens\":512 }\n",
    "    return runtime.generate(prompt=messages, sampling_params=sampling_params)"
   ]
  },
  {
   "cell_type": "code",
   "execution_count": 6,
   "id": "128fac7f-aa20-4429-b6b1-31a30fc7ff83",
   "metadata": {
    "execution": {
     "iopub.execute_input": "2024-09-20T21:33:10.342557Z",
     "iopub.status.busy": "2024-09-20T21:33:10.341895Z",
     "iopub.status.idle": "2024-09-20T21:33:52.548831Z",
     "shell.execute_reply": "2024-09-20T21:33:52.548111Z",
     "shell.execute_reply.started": "2024-09-20T21:33:10.342529Z"
    }
   },
   "outputs": [
    {
     "name": "stdout",
     "output_type": "stream",
     "text": [
      "INFO 09-20 23:33:16 weight_utils.py:236] Using model weights format ['*.safetensors']\n"
     ]
    },
    {
     "data": {
      "application/vnd.jupyter.widget-view+json": {
       "model_id": "dde3a129d9514371a3693f9cbec2847a",
       "version_major": 2,
       "version_minor": 0
      },
      "text/plain": [
       "Loading safetensors checkpoint shards:   0% Completed | 0/4 [00:00<?, ?it/s]\n"
      ]
     },
     "metadata": {},
     "output_type": "display_data"
    },
    {
     "name": "stderr",
     "output_type": "stream",
     "text": [
      "[rank0]:W0920 23:33:16.625000 140334516344512 torch/_inductor/compile_worker/subproc_pool.py:126] SubprocPool unclean exit\n",
      "Traceback (most recent call last):\n",
      "  File \"/root/miniconda3/envs/wordslab-notebooks/lib/python3.11/site-packages/torch/_inductor/compile_worker/__main__.py\", line 45, in <module>\n",
      "    main()\n",
      "  File \"/root/miniconda3/envs/wordslab-notebooks/lib/python3.11/site-packages/torch/_inductor/compile_worker/__main__.py\", line 38, in main\n",
      "    pre_fork_setup()\n",
      "  File \"/root/miniconda3/envs/wordslab-notebooks/lib/python3.11/site-packages/torch/_inductor/async_compile.py\", line 62, in pre_fork_setup\n",
      "    from triton.compiler.compiler import triton_key\n",
      "ImportError: cannot import name 'triton_key' from 'triton.compiler.compiler' (/workspace/wordslab-llms/.venv/lib/python3.11/site-packages/triton/compiler/compiler.py)\n"
     ]
    }
   ],
   "source": [
    "runtime = sglang_load(test_models[\"llama-3.1\"])"
   ]
  },
  {
   "cell_type": "code",
   "execution_count": 17,
   "id": "c23096e8-950c-48fd-adf7-1bef1b423521",
   "metadata": {
    "execution": {
     "iopub.execute_input": "2024-09-20T21:45:55.699054Z",
     "iopub.status.busy": "2024-09-20T21:45:55.698900Z",
     "iopub.status.idle": "2024-09-20T21:46:05.657895Z",
     "shell.execute_reply": "2024-09-20T21:46:05.657501Z",
     "shell.execute_reply.started": "2024-09-20T21:45:55.699046Z"
    }
   },
   "outputs": [],
   "source": [
    "prompts = format_prompt(test_messages[0], test_models[\"llama-3.1\"])\n",
    "outputs = sglang_generate(prompts, runtime)"
   ]
  },
  {
   "cell_type": "code",
   "execution_count": 19,
   "id": "8041fbe5-fba8-40ad-9002-76382973abb5",
   "metadata": {
    "execution": {
     "iopub.execute_input": "2024-09-20T21:46:30.819346Z",
     "iopub.status.busy": "2024-09-20T21:46:30.819198Z",
     "iopub.status.idle": "2024-09-20T21:46:30.822130Z",
     "shell.execute_reply": "2024-09-20T21:46:30.821844Z",
     "shell.execute_reply.started": "2024-09-20T21:46:30.819337Z"
    }
   },
   "outputs": [
    {
     "data": {
      "text/plain": [
       "\"Le Crédit Mutuel est une banque coopérative française qui offre divers avantages à ses adhérents et clients. Voici quelques-uns des principaux avantages :\\n\\n1. **Intérêts plus élevés sur les épargnes** : Le Crédit Mutuel propose des taux d'intérêt plus élevés que de nombreux autres établissements bancaires traditionnels, ce qui peut permettre aux épargnants de gagner davantage sur leurs économies.\\n\\n2. **Prêts à taux réduits** : Les prêts accordés par le Crédit Mutuel sont souvent moins chers que ceux proposés par d'autres banques, ce qui peut aider les emprunteurs à se procurer un financement à des conditions plus avantageuses.\\n\\n3. **Services bancaires personnalisés** : En tant qu'établissement coopératif, le Crédit Mutuel est tenu de donner la priorité aux besoins et aux intérêts de ses membres et clients. Cela signifie qu'il peut offrir des services bancaires personnalisés et adaptés à leurs situations individuelles.\\n\\n4. **Participation aux décisions** : En tant que membre du Crédit Mutuel, vous avez la possibilité de participer aux assemblées générales et de voter pour les décisions importantes concernant l'établissement. Cela vous donne un certain contrôle sur la direction de votre banque.\\n\\n5. **Services financiers complémentaires** : Le Crédit Mutuel propose également une gamme de services financiers complémentaires, tels que des assurances, des investissements, des services de gestion de patrimoine et des conseils financiers.\\n\\n6. **Sécurité et confidentialité** : En tant que banque coopérative, le Crédit Mutuel met l'accent sur la sécurité et la confidentialité de vos informations personnelles et financières.\\n\\n7. **Réseau de guichets automatiques étendu** : Le Crédit Mutuel dispose d'un large réseau de guichets automatiques et de distributeurs de billets, ce qui facilite l'accès à vos fonds partout en France.\\n\\n8. **Télébanque et mobile** : Le Crédit Mutuel propose des applications mobiles et des plateformes en ligne sécurisées pour\""
      ]
     },
     "execution_count": 19,
     "metadata": {},
     "output_type": "execute_result"
    }
   ],
   "source": [
    "import json\n",
    "\n",
    "json.loads(outputs)[0][\"text\"]"
   ]
  },
  {
   "cell_type": "markdown",
   "id": "41dd047a-5a98-485d-a451-55e7482b6999",
   "metadata": {},
   "source": [
    "https://docs.vllm.ai/en/latest/quantization/fp8.html#quantization-process"
   ]
  },
  {
   "cell_type": "code",
   "execution_count": null,
   "id": "7ff46698-bf76-4a60-ba91-44bf2467f38f",
   "metadata": {},
   "outputs": [],
   "source": []
  }
 ],
 "metadata": {
  "kernelspec": {
   "display_name": "wordslab-llms",
   "language": "python",
   "name": "wordslab-llms"
  },
  "language_info": {
   "codemirror_mode": {
    "name": "ipython",
    "version": 3
   },
   "file_extension": ".py",
   "mimetype": "text/x-python",
   "name": "python",
   "nbconvert_exporter": "python",
   "pygments_lexer": "ipython3",
   "version": "3.11.9"
  }
 },
 "nbformat": 4,
 "nbformat_minor": 5
}
