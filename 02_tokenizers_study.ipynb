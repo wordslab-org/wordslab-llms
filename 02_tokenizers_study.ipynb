{
 "cells": [
  {
   "cell_type": "markdown",
   "id": "6f0dde2f-a557-4173-9b1c-7ecc55d33e80",
   "metadata": {},
   "source": [
    "# Most popular open weights LLMs - December 2023"
   ]
  },
  {
   "cell_type": "markdown",
   "id": "acdc0d7c-9695-4959-b827-5c9a6c421e30",
   "metadata": {},
   "source": [
    "## Load datasets"
   ]
  },
  {
   "cell_type": "code",
   "execution_count": 3,
   "id": "d329e974-6c2a-42c6-b33d-f454dcbb0707",
   "metadata": {
    "execution": {
     "iopub.execute_input": "2024-01-11T22:24:10.134655Z",
     "iopub.status.busy": "2024-01-11T22:24:10.134476Z",
     "iopub.status.idle": "2024-01-11T22:24:10.147351Z",
     "shell.execute_reply": "2024-01-11T22:24:10.146875Z",
     "shell.execute_reply.started": "2024-01-11T22:24:10.134643Z"
    },
    "tags": []
   },
   "outputs": [],
   "source": [
    "with open(\"/workspace/hftoken\", 'r') as file:\n",
    "    myhftoken = file.read().strip()"
   ]
  },
  {
   "cell_type": "code",
   "execution_count": 1,
   "id": "edd9a946-5d3e-4b66-9891-848d0e649593",
   "metadata": {
    "execution": {
     "iopub.execute_input": "2024-01-11T22:22:18.811042Z",
     "iopub.status.busy": "2024-01-11T22:22:18.809571Z",
     "iopub.status.idle": "2024-01-11T22:22:20.856143Z",
     "shell.execute_reply": "2024-01-11T22:22:20.855684Z",
     "shell.execute_reply.started": "2024-01-11T22:22:18.810781Z"
    }
   },
   "outputs": [],
   "source": [
    "from datasets import load_dataset"
   ]
  },
  {
   "cell_type": "code",
   "execution_count": 16,
   "id": "f04f5954-0188-4dec-9c77-f56609e5c0c2",
   "metadata": {
    "execution": {
     "iopub.execute_input": "2024-01-11T22:46:30.085018Z",
     "iopub.status.busy": "2024-01-11T22:46:30.084534Z",
     "iopub.status.idle": "2024-01-11T22:46:44.442611Z",
     "shell.execute_reply": "2024-01-11T22:46:44.442137Z",
     "shell.execute_reply.started": "2024-01-11T22:46:30.084999Z"
    },
    "tags": []
   },
   "outputs": [
    {
     "data": {
      "application/vnd.jupyter.widget-view+json": {
       "model_id": "e3a9e0690bbc433f988ece2af5e41062",
       "version_major": 2,
       "version_minor": 0
      },
      "text/plain": [
       "Resolving data files:   0%|          | 0/42 [00:00<?, ?it/s]"
      ]
     },
     "metadata": {},
     "output_type": "display_data"
    },
    {
     "data": {
      "application/vnd.jupyter.widget-view+json": {
       "model_id": "4d2e2fdc13a6475eb9a3f0c8d2eaae96",
       "version_major": 2,
       "version_minor": 0
      },
      "text/plain": [
       "Resolving data files:   0%|          | 0/42 [00:00<?, ?it/s]"
      ]
     },
     "metadata": {},
     "output_type": "display_data"
    },
    {
     "data": {
      "application/vnd.jupyter.widget-view+json": {
       "model_id": "99aa5a267d5f4f0792a94b12318471e9",
       "version_major": 2,
       "version_minor": 0
      },
      "text/plain": [
       "Resolving data files:   0%|          | 0/42 [00:00<?, ?it/s]"
      ]
     },
     "metadata": {},
     "output_type": "display_data"
    },
    {
     "data": {
      "application/vnd.jupyter.widget-view+json": {
       "model_id": "30fff23fe2824d0087b332d94dbae9cc",
       "version_major": 2,
       "version_minor": 0
      },
      "text/plain": [
       "Resolving data files:   0%|          | 0/42 [00:00<?, ?it/s]"
      ]
     },
     "metadata": {},
     "output_type": "display_data"
    },
    {
     "data": {
      "application/vnd.jupyter.widget-view+json": {
       "model_id": "3e313b45737847e9a5944189714e4dd7",
       "version_major": 2,
       "version_minor": 0
      },
      "text/plain": [
       "Resolving data files:   0%|          | 0/42 [00:00<?, ?it/s]"
      ]
     },
     "metadata": {},
     "output_type": "display_data"
    },
    {
     "data": {
      "application/vnd.jupyter.widget-view+json": {
       "model_id": "059bb233e1864783830b70a02c9e0a5c",
       "version_major": 2,
       "version_minor": 0
      },
      "text/plain": [
       "Resolving data files:   0%|          | 0/42 [00:00<?, ?it/s]"
      ]
     },
     "metadata": {},
     "output_type": "display_data"
    },
    {
     "data": {
      "application/vnd.jupyter.widget-view+json": {
       "model_id": "1cfe1bfd55ba407ba7e5db4bb01741b0",
       "version_major": 2,
       "version_minor": 0
      },
      "text/plain": [
       "Filter:   0%|          | 0/68166 [00:00<?, ? examples/s]"
      ]
     },
     "metadata": {},
     "output_type": "display_data"
    },
    {
     "data": {
      "application/vnd.jupyter.widget-view+json": {
       "model_id": "b47d94a6be7d4938864bad0ff5ad4298",
       "version_major": 2,
       "version_minor": 0
      },
      "text/plain": [
       "Filter:   0%|          | 0/8541 [00:00<?, ? examples/s]"
      ]
     },
     "metadata": {},
     "output_type": "display_data"
    }
   ],
   "source": [
    "dataset_name_fr = \"frenchtext/banque-fr-2311\"\n",
    "dataset_fr = load_dataset(dataset_name_fr, token=myhftoken).filter(lambda example: example[\"Words\"]>15)"
   ]
  },
  {
   "cell_type": "code",
   "execution_count": 17,
   "id": "d807e23c-144c-4b95-b588-96b43cdc1cc1",
   "metadata": {
    "execution": {
     "iopub.execute_input": "2024-01-11T22:46:54.793521Z",
     "iopub.status.busy": "2024-01-11T22:46:54.793033Z",
     "iopub.status.idle": "2024-01-11T22:46:59.591451Z",
     "shell.execute_reply": "2024-01-11T22:46:59.590699Z",
     "shell.execute_reply.started": "2024-01-11T22:46:54.793495Z"
    },
    "tags": []
   },
   "outputs": [
    {
     "data": {
      "application/vnd.jupyter.widget-view+json": {
       "model_id": "fc025601529442d3a6110f4368846471",
       "version_major": 2,
       "version_minor": 0
      },
      "text/plain": [
       "Resolving data files:   0%|          | 0/48 [00:00<?, ?it/s]"
      ]
     },
     "metadata": {},
     "output_type": "display_data"
    },
    {
     "data": {
      "application/vnd.jupyter.widget-view+json": {
       "model_id": "1e9342c284f94db4b3c52500d0b873b4",
       "version_major": 2,
       "version_minor": 0
      },
      "text/plain": [
       "Resolving data files:   0%|          | 0/48 [00:00<?, ?it/s]"
      ]
     },
     "metadata": {},
     "output_type": "display_data"
    },
    {
     "data": {
      "application/vnd.jupyter.widget-view+json": {
       "model_id": "4d0e5187052d4e3f8cb93c00187450ad",
       "version_major": 2,
       "version_minor": 0
      },
      "text/plain": [
       "Resolving data files:   0%|          | 0/48 [00:00<?, ?it/s]"
      ]
     },
     "metadata": {},
     "output_type": "display_data"
    },
    {
     "data": {
      "application/vnd.jupyter.widget-view+json": {
       "model_id": "20c58730b4ea4c139b6b5ab7374229c0",
       "version_major": 2,
       "version_minor": 0
      },
      "text/plain": [
       "Resolving data files:   0%|          | 0/48 [00:00<?, ?it/s]"
      ]
     },
     "metadata": {},
     "output_type": "display_data"
    },
    {
     "data": {
      "application/vnd.jupyter.widget-view+json": {
       "model_id": "c9578a9ab8dd473ca13a5a21dc97c1fd",
       "version_major": 2,
       "version_minor": 0
      },
      "text/plain": [
       "Resolving data files:   0%|          | 0/48 [00:00<?, ?it/s]"
      ]
     },
     "metadata": {},
     "output_type": "display_data"
    },
    {
     "data": {
      "application/vnd.jupyter.widget-view+json": {
       "model_id": "aa459ba66c51473799c7b1b8ee8adf03",
       "version_major": 2,
       "version_minor": 0
      },
      "text/plain": [
       "Resolving data files:   0%|          | 0/48 [00:00<?, ?it/s]"
      ]
     },
     "metadata": {},
     "output_type": "display_data"
    },
    {
     "data": {
      "application/vnd.jupyter.widget-view+json": {
       "model_id": "2985580d2b264ab19e749fa32b3acbe0",
       "version_major": 2,
       "version_minor": 0
      },
      "text/plain": [
       "Filter:   0%|          | 0/23776 [00:00<?, ? examples/s]"
      ]
     },
     "metadata": {},
     "output_type": "display_data"
    },
    {
     "data": {
      "application/vnd.jupyter.widget-view+json": {
       "model_id": "ba9660cef04b4aeaac99237b55bf6be2",
       "version_major": 2,
       "version_minor": 0
      },
      "text/plain": [
       "Filter:   0%|          | 0/2977 [00:00<?, ? examples/s]"
      ]
     },
     "metadata": {},
     "output_type": "display_data"
    },
    {
     "data": {
      "application/vnd.jupyter.widget-view+json": {
       "model_id": "7bde692533e24984bed9da20e97af787",
       "version_major": 2,
       "version_minor": 0
      },
      "text/plain": [
       "Filter:   0%|          | 0/2992 [00:00<?, ? examples/s]"
      ]
     },
     "metadata": {},
     "output_type": "display_data"
    }
   ],
   "source": [
    "dataset_name_de = \"frenchtext/bank-de-2401\"\n",
    "dataset_de = load_dataset(dataset_name_de, token=myhftoken).filter(lambda example: example[\"Words\"]>15)"
   ]
  },
  {
   "cell_type": "code",
   "execution_count": 18,
   "id": "78a95e14-5beb-4b0b-be79-3e69a11709bd",
   "metadata": {
    "execution": {
     "iopub.execute_input": "2024-01-11T22:47:04.388992Z",
     "iopub.status.busy": "2024-01-11T22:47:04.388313Z",
     "iopub.status.idle": "2024-01-11T22:47:08.223653Z",
     "shell.execute_reply": "2024-01-11T22:47:08.223003Z",
     "shell.execute_reply.started": "2024-01-11T22:47:04.388961Z"
    },
    "tags": []
   },
   "outputs": [
    {
     "data": {
      "application/vnd.jupyter.widget-view+json": {
       "model_id": "80b383c121a940ebb6f89622be9c465e",
       "version_major": 2,
       "version_minor": 0
      },
      "text/plain": [
       "Resolving data files:   0%|          | 0/43 [00:00<?, ?it/s]"
      ]
     },
     "metadata": {},
     "output_type": "display_data"
    },
    {
     "data": {
      "application/vnd.jupyter.widget-view+json": {
       "model_id": "e8f7718f8ce64548a91fd5b0178f49fb",
       "version_major": 2,
       "version_minor": 0
      },
      "text/plain": [
       "Resolving data files:   0%|          | 0/43 [00:00<?, ?it/s]"
      ]
     },
     "metadata": {},
     "output_type": "display_data"
    },
    {
     "data": {
      "application/vnd.jupyter.widget-view+json": {
       "model_id": "2f4a54cea68147648221ea4806fb2153",
       "version_major": 2,
       "version_minor": 0
      },
      "text/plain": [
       "Resolving data files:   0%|          | 0/43 [00:00<?, ?it/s]"
      ]
     },
     "metadata": {},
     "output_type": "display_data"
    },
    {
     "data": {
      "application/vnd.jupyter.widget-view+json": {
       "model_id": "5a5ec5c1d84c4b318a3faff54757dfd0",
       "version_major": 2,
       "version_minor": 0
      },
      "text/plain": [
       "Resolving data files:   0%|          | 0/43 [00:00<?, ?it/s]"
      ]
     },
     "metadata": {},
     "output_type": "display_data"
    },
    {
     "data": {
      "application/vnd.jupyter.widget-view+json": {
       "model_id": "f5dcbd3760f24f40bc038cf822e075d7",
       "version_major": 2,
       "version_minor": 0
      },
      "text/plain": [
       "Resolving data files:   0%|          | 0/43 [00:00<?, ?it/s]"
      ]
     },
     "metadata": {},
     "output_type": "display_data"
    },
    {
     "data": {
      "application/vnd.jupyter.widget-view+json": {
       "model_id": "8155e803f4094a909fc8db30f704bdae",
       "version_major": 2,
       "version_minor": 0
      },
      "text/plain": [
       "Resolving data files:   0%|          | 0/43 [00:00<?, ?it/s]"
      ]
     },
     "metadata": {},
     "output_type": "display_data"
    },
    {
     "data": {
      "application/vnd.jupyter.widget-view+json": {
       "model_id": "28e275c4a72e4081ba2bb9702785bb8f",
       "version_major": 2,
       "version_minor": 0
      },
      "text/plain": [
       "Filter:   0%|          | 0/20451 [00:00<?, ? examples/s]"
      ]
     },
     "metadata": {},
     "output_type": "display_data"
    },
    {
     "data": {
      "application/vnd.jupyter.widget-view+json": {
       "model_id": "662e7d447dc74fee92e97f4d47ff8241",
       "version_major": 2,
       "version_minor": 0
      },
      "text/plain": [
       "Filter:   0%|          | 0/2555 [00:00<?, ? examples/s]"
      ]
     },
     "metadata": {},
     "output_type": "display_data"
    },
    {
     "data": {
      "application/vnd.jupyter.widget-view+json": {
       "model_id": "21e36fdf58c942c4b1469db164d628d0",
       "version_major": 2,
       "version_minor": 0
      },
      "text/plain": [
       "Filter:   0%|          | 0/2579 [00:00<?, ? examples/s]"
      ]
     },
     "metadata": {},
     "output_type": "display_data"
    }
   ],
   "source": [
    "dataset_name_en = \"frenchtext/bank-en-2401\"\n",
    "dataset_en = load_dataset(dataset_name_en, token=myhftoken).filter(lambda example: example[\"Words\"]>15)"
   ]
  },
  {
   "cell_type": "code",
   "execution_count": 19,
   "id": "bfa47711-076d-46d1-8488-8edcbb4af925",
   "metadata": {
    "execution": {
     "iopub.execute_input": "2024-01-11T22:47:10.837908Z",
     "iopub.status.busy": "2024-01-11T22:47:10.836880Z",
     "iopub.status.idle": "2024-01-11T22:47:12.828913Z",
     "shell.execute_reply": "2024-01-11T22:47:12.828419Z",
     "shell.execute_reply.started": "2024-01-11T22:47:10.837870Z"
    },
    "tags": []
   },
   "outputs": [
    {
     "data": {
      "application/vnd.jupyter.widget-view+json": {
       "model_id": "6cc0ff4342f84d3197b173454a03a596",
       "version_major": 2,
       "version_minor": 0
      },
      "text/plain": [
       "Resolving data files:   0%|          | 0/34 [00:00<?, ?it/s]"
      ]
     },
     "metadata": {},
     "output_type": "display_data"
    },
    {
     "data": {
      "application/vnd.jupyter.widget-view+json": {
       "model_id": "90356d2d6ae345c8a18fdf8b2adc347a",
       "version_major": 2,
       "version_minor": 0
      },
      "text/plain": [
       "Resolving data files:   0%|          | 0/34 [00:00<?, ?it/s]"
      ]
     },
     "metadata": {},
     "output_type": "display_data"
    },
    {
     "data": {
      "application/vnd.jupyter.widget-view+json": {
       "model_id": "d7956309f16045eb97cc6a6d8bb6de11",
       "version_major": 2,
       "version_minor": 0
      },
      "text/plain": [
       "Resolving data files:   0%|          | 0/34 [00:00<?, ?it/s]"
      ]
     },
     "metadata": {},
     "output_type": "display_data"
    },
    {
     "data": {
      "application/vnd.jupyter.widget-view+json": {
       "model_id": "b5d55a859648458a968b123c04426122",
       "version_major": 2,
       "version_minor": 0
      },
      "text/plain": [
       "Resolving data files:   0%|          | 0/34 [00:00<?, ?it/s]"
      ]
     },
     "metadata": {},
     "output_type": "display_data"
    },
    {
     "data": {
      "application/vnd.jupyter.widget-view+json": {
       "model_id": "5924a57937094820bce43f054b3aed4a",
       "version_major": 2,
       "version_minor": 0
      },
      "text/plain": [
       "Resolving data files:   0%|          | 0/34 [00:00<?, ?it/s]"
      ]
     },
     "metadata": {},
     "output_type": "display_data"
    },
    {
     "data": {
      "application/vnd.jupyter.widget-view+json": {
       "model_id": "0673b41863d348e29b8e0baf514b591c",
       "version_major": 2,
       "version_minor": 0
      },
      "text/plain": [
       "Resolving data files:   0%|          | 0/34 [00:00<?, ?it/s]"
      ]
     },
     "metadata": {},
     "output_type": "display_data"
    },
    {
     "data": {
      "application/vnd.jupyter.widget-view+json": {
       "model_id": "356e9e6bf3ea42d8a29de537db1259e0",
       "version_major": 2,
       "version_minor": 0
      },
      "text/plain": [
       "Filter:   0%|          | 0/20350 [00:00<?, ? examples/s]"
      ]
     },
     "metadata": {},
     "output_type": "display_data"
    },
    {
     "data": {
      "application/vnd.jupyter.widget-view+json": {
       "model_id": "938ac3dd720f446fa1717874b2550722",
       "version_major": 2,
       "version_minor": 0
      },
      "text/plain": [
       "Filter:   0%|          | 0/2545 [00:00<?, ? examples/s]"
      ]
     },
     "metadata": {},
     "output_type": "display_data"
    },
    {
     "data": {
      "application/vnd.jupyter.widget-view+json": {
       "model_id": "8d0187ce181b49bbbdaab4781a8c5b3e",
       "version_major": 2,
       "version_minor": 0
      },
      "text/plain": [
       "Filter:   0%|          | 0/2560 [00:00<?, ? examples/s]"
      ]
     },
     "metadata": {},
     "output_type": "display_data"
    }
   ],
   "source": [
    "dataset_name_es = \"frenchtext/bank-es-2401\"\n",
    "dataset_es = load_dataset(dataset_name_es, token=myhftoken).filter(lambda example: example[\"Words\"]>15)"
   ]
  },
  {
   "cell_type": "code",
   "execution_count": 21,
   "id": "35d8439f-3491-4395-9b6a-d0f2fb933901",
   "metadata": {
    "execution": {
     "iopub.execute_input": "2024-01-11T22:57:11.165449Z",
     "iopub.status.busy": "2024-01-11T22:57:11.163925Z",
     "iopub.status.idle": "2024-01-11T22:57:11.463895Z",
     "shell.execute_reply": "2024-01-11T22:57:11.463465Z",
     "shell.execute_reply.started": "2024-01-11T22:57:11.165430Z"
    },
    "tags": []
   },
   "outputs": [
    {
     "name": "stdout",
     "output_type": "stream",
     "text": [
      "Bank dataset - french\n"
     ]
    },
    {
     "data": {
      "text/plain": [
       "{'train': 53324064, 'valid': 6907609, 'test': 6810691}"
      ]
     },
     "execution_count": 21,
     "metadata": {},
     "output_type": "execute_result"
    }
   ],
   "source": [
    "print(\"Bank dataset - french\")\n",
    "{split:sum(dataset_fr[split][\"Words\"]) for split in [\"train\",\"valid\",\"test\"]}"
   ]
  },
  {
   "cell_type": "code",
   "execution_count": 22,
   "id": "4803ab36-d705-41f9-a56a-c40c01475f4c",
   "metadata": {
    "execution": {
     "iopub.execute_input": "2024-01-11T22:57:14.378822Z",
     "iopub.status.busy": "2024-01-11T22:57:14.377355Z",
     "iopub.status.idle": "2024-01-11T22:57:14.431522Z",
     "shell.execute_reply": "2024-01-11T22:57:14.431065Z",
     "shell.execute_reply.started": "2024-01-11T22:57:14.378773Z"
    },
    "tags": []
   },
   "outputs": [
    {
     "name": "stdout",
     "output_type": "stream",
     "text": [
      "Bank dataset - english\n"
     ]
    },
    {
     "data": {
      "text/plain": [
       "{'train': 45859733, 'valid': 5405499, 'test': 6336240}"
      ]
     },
     "execution_count": 22,
     "metadata": {},
     "output_type": "execute_result"
    }
   ],
   "source": [
    "print(\"Bank dataset - english\")\n",
    "{split:sum(dataset_en[split][\"Words\"]) for split in [\"train\",\"valid\",\"test\"]}"
   ]
  },
  {
   "cell_type": "code",
   "execution_count": 23,
   "id": "5a31d81b-33f6-475b-a485-4ca63f7105f9",
   "metadata": {
    "execution": {
     "iopub.execute_input": "2024-01-11T22:57:30.222860Z",
     "iopub.status.busy": "2024-01-11T22:57:30.222294Z",
     "iopub.status.idle": "2024-01-11T22:57:30.281927Z",
     "shell.execute_reply": "2024-01-11T22:57:30.281417Z",
     "shell.execute_reply.started": "2024-01-11T22:57:30.222836Z"
    },
    "tags": []
   },
   "outputs": [
    {
     "name": "stdout",
     "output_type": "stream",
     "text": [
      "Bank dataset - german\n"
     ]
    },
    {
     "data": {
      "text/plain": [
       "{'train': 29757323, 'valid': 3980888, 'test': 3519436}"
      ]
     },
     "execution_count": 23,
     "metadata": {},
     "output_type": "execute_result"
    }
   ],
   "source": [
    "print(\"Bank dataset - german\")\n",
    "{split:sum(dataset_de[split][\"Words\"]) for split in [\"train\",\"valid\",\"test\"]}"
   ]
  },
  {
   "cell_type": "code",
   "execution_count": 24,
   "id": "fc1dc500-bd48-443d-b367-16c9b5af7ee8",
   "metadata": {
    "execution": {
     "iopub.execute_input": "2024-01-11T22:57:50.288059Z",
     "iopub.status.busy": "2024-01-11T22:57:50.287183Z",
     "iopub.status.idle": "2024-01-11T22:57:50.399830Z",
     "shell.execute_reply": "2024-01-11T22:57:50.399317Z",
     "shell.execute_reply.started": "2024-01-11T22:57:50.288023Z"
    },
    "tags": []
   },
   "outputs": [
    {
     "name": "stdout",
     "output_type": "stream",
     "text": [
      "Bank dataset - spanish\n"
     ]
    },
    {
     "data": {
      "text/plain": [
       "{'train': 23607708, 'valid': 2821917, 'test': 2749084}"
      ]
     },
     "execution_count": 24,
     "metadata": {},
     "output_type": "execute_result"
    }
   ],
   "source": [
    "print(\"Bank dataset - spanish\")\n",
    "{split:sum(dataset_es[split][\"Words\"]) for split in [\"train\",\"valid\",\"test\"]}"
   ]
  },
  {
   "cell_type": "markdown",
   "id": "ceed61bc-c555-4ddd-a933-1c8c33a73f8f",
   "metadata": {},
   "source": [
    "Validation datasets size\n",
    "- fr: 6,907,609\n",
    "- en: 5,405,499\n",
    "- de: 3,980,888\n",
    "- es: 2,821,917"
   ]
  },
  {
   "cell_type": "code",
   "execution_count": null,
   "id": "3873a05a-cda0-402c-99aa-a4c8e7e1abc5",
   "metadata": {},
   "outputs": [],
   "source": []
  }
 ],
 "metadata": {
  "kernelspec": {
   "display_name": "wordslab-llms",
   "language": "python",
   "name": "wordslab-llms"
  },
  "language_info": {
   "codemirror_mode": {
    "name": "ipython",
    "version": 3
   },
   "file_extension": ".py",
   "mimetype": "text/x-python",
   "name": "python",
   "nbconvert_exporter": "python",
   "pygments_lexer": "ipython3",
   "version": "3.10.12"
  }
 },
 "nbformat": 4,
 "nbformat_minor": 5
}
