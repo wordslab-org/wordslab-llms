{
 "cells": [
  {
   "cell_type": "markdown",
   "id": "80116353-d28e-42bc-8669-f8d388d5a2bc",
   "metadata": {},
   "source": [
    "# Neural Translation models tests"
   ]
  },
  {
   "cell_type": "code",
   "execution_count": 1,
   "id": "a3aeba66-c3fb-493f-a295-26036948fe2e",
   "metadata": {
    "execution": {
     "iopub.execute_input": "2023-10-29T13:51:23.674195Z",
     "iopub.status.busy": "2023-10-29T13:51:23.673306Z",
     "iopub.status.idle": "2023-10-29T13:51:23.680685Z",
     "shell.execute_reply": "2023-10-29T13:51:23.680130Z",
     "shell.execute_reply.started": "2023-10-29T13:51:23.674156Z"
    },
    "tags": []
   },
   "outputs": [],
   "source": [
    "import os\n",
    "os.environ['TF_CPP_MIN_LOG_LEVEL'] = '1' "
   ]
  },
  {
   "cell_type": "code",
   "execution_count": null,
   "id": "4e5d47e9-d601-4243-86dd-6473c83e735c",
   "metadata": {
    "tags": []
   },
   "outputs": [],
   "source": [
    "pip install git+https://github.com/huggingface/transformers"
   ]
  },
  {
   "cell_type": "code",
   "execution_count": null,
   "id": "338c9062-ea46-42bb-b370-e9d3791155b5",
   "metadata": {
    "tags": []
   },
   "outputs": [],
   "source": [
    "pip install datasets"
   ]
  },
  {
   "cell_type": "markdown",
   "id": "3cf1bc9c-d67e-4604-951c-f4aae64abf6c",
   "metadata": {},
   "source": [
    "## Dataset to translate"
   ]
  },
  {
   "cell_type": "code",
   "execution_count": 2,
   "id": "7c86be33-d228-467b-a056-d05174e048c0",
   "metadata": {
    "execution": {
     "iopub.execute_input": "2023-10-29T13:51:25.713708Z",
     "iopub.status.busy": "2023-10-29T13:51:25.713421Z",
     "iopub.status.idle": "2023-10-29T13:51:28.455688Z",
     "shell.execute_reply": "2023-10-29T13:51:28.455219Z",
     "shell.execute_reply.started": "2023-10-29T13:51:25.713693Z"
    },
    "tags": []
   },
   "outputs": [],
   "source": [
    "from datasets import load_dataset\n",
    "\n",
    "dataset = load_dataset(\"databricks/databricks-dolly-15k\", split=\"train\")"
   ]
  },
  {
   "cell_type": "code",
   "execution_count": 3,
   "id": "f443a067-c681-4bab-a3f0-7dabc507c77a",
   "metadata": {
    "execution": {
     "iopub.execute_input": "2023-10-29T13:51:28.456362Z",
     "iopub.status.busy": "2023-10-29T13:51:28.456204Z",
     "iopub.status.idle": "2023-10-29T13:51:28.458846Z",
     "shell.execute_reply": "2023-10-29T13:51:28.458505Z",
     "shell.execute_reply.started": "2023-10-29T13:51:28.456352Z"
    },
    "tags": []
   },
   "outputs": [
    {
     "name": "stdout",
     "output_type": "stream",
     "text": [
      "Number of prompts: 15011\n",
      "Column names are: ['instruction', 'context', 'response', 'category']\n"
     ]
    }
   ],
   "source": [
    "print(f'Number of prompts: {len(dataset)}')\n",
    "print(f'Column names are: {dataset.column_names}')"
   ]
  },
  {
   "cell_type": "markdown",
   "id": "ae6a955d-8e50-4cba-adfe-c72ae309b44a",
   "metadata": {},
   "source": [
    "Each sample is a dictionary that contains:\n",
    "\n",
    "- An **instruction**: What could be entered by the user, such as a question\n",
    "- A **context**: Help to interpret the sample\n",
    "- A **response**: Answer to the instruction\n",
    "- A **category**: Classify the sample between Open Q&A, Closed Q&A, Extract information from Wikipedia, Summarize information from Wikipedia, Brainstorming, Classification, Creative writing"
   ]
  },
  {
   "cell_type": "code",
   "execution_count": 4,
   "id": "b47e1d42-b618-4f75-b449-87c5647cc615",
   "metadata": {
    "execution": {
     "iopub.execute_input": "2023-10-29T13:51:28.459410Z",
     "iopub.status.busy": "2023-10-29T13:51:28.459311Z",
     "iopub.status.idle": "2023-10-29T13:51:28.480375Z",
     "shell.execute_reply": "2023-10-29T13:51:28.479987Z",
     "shell.execute_reply.started": "2023-10-29T13:51:28.459402Z"
    },
    "tags": []
   },
   "outputs": [
    {
     "data": {
      "text/html": [
       "<div>\n",
       "<style scoped>\n",
       "    .dataframe tbody tr th:only-of-type {\n",
       "        vertical-align: middle;\n",
       "    }\n",
       "\n",
       "    .dataframe tbody tr th {\n",
       "        vertical-align: top;\n",
       "    }\n",
       "\n",
       "    .dataframe thead th {\n",
       "        text-align: right;\n",
       "    }\n",
       "</style>\n",
       "<table border=\"1\" class=\"dataframe\">\n",
       "  <thead>\n",
       "    <tr style=\"text-align: right;\">\n",
       "      <th></th>\n",
       "      <th>instruction</th>\n",
       "      <th>context</th>\n",
       "      <th>response</th>\n",
       "      <th>category</th>\n",
       "    </tr>\n",
       "  </thead>\n",
       "  <tbody>\n",
       "    <tr>\n",
       "      <th>0</th>\n",
       "      <td>Extract the awards that Bob Sanders gained thr...</td>\n",
       "      <td>Demond \"Bob\" Sanders (born February 24, 1981) ...</td>\n",
       "      <td>NFL Defensive Player of the Year in 2007</td>\n",
       "      <td>information_extraction</td>\n",
       "    </tr>\n",
       "    <tr>\n",
       "      <th>1</th>\n",
       "      <td>My manager is available on Tuesday, Wednesday,...</td>\n",
       "      <td></td>\n",
       "      <td>Your manager is available after 3 PM EST but h...</td>\n",
       "      <td>general_qa</td>\n",
       "    </tr>\n",
       "    <tr>\n",
       "      <th>2</th>\n",
       "      <td>Is pizza a healthy food or junk food?</td>\n",
       "      <td></td>\n",
       "      <td>Pizza is very popular and each restaurant or c...</td>\n",
       "      <td>general_qa</td>\n",
       "    </tr>\n",
       "    <tr>\n",
       "      <th>3</th>\n",
       "      <td>What is the Azure equivalent of EKS?</td>\n",
       "      <td></td>\n",
       "      <td>Microsoft Azure offers the Azure Kubernetes Se...</td>\n",
       "      <td>open_qa</td>\n",
       "    </tr>\n",
       "    <tr>\n",
       "      <th>4</th>\n",
       "      <td>How can teachers address health disparities in...</td>\n",
       "      <td></td>\n",
       "      <td>The teacher works with children in the positiv...</td>\n",
       "      <td>general_qa</td>\n",
       "    </tr>\n",
       "    <tr>\n",
       "      <th>5</th>\n",
       "      <td>How can one loose weight</td>\n",
       "      <td></td>\n",
       "      <td>There are several ways to shed some pounds whi...</td>\n",
       "      <td>general_qa</td>\n",
       "    </tr>\n",
       "    <tr>\n",
       "      <th>6</th>\n",
       "      <td>Who was given the Booker Prize 2020?</td>\n",
       "      <td></td>\n",
       "      <td>Douglas Stuart</td>\n",
       "      <td>open_qa</td>\n",
       "    </tr>\n",
       "    <tr>\n",
       "      <th>7</th>\n",
       "      <td>Summarize the following paragraph about modern...</td>\n",
       "      <td>Currently the cutting edge of fighter design, ...</td>\n",
       "      <td>Fifth-generation fighter jets take advantage o...</td>\n",
       "      <td>summarization</td>\n",
       "    </tr>\n",
       "    <tr>\n",
       "      <th>8</th>\n",
       "      <td>What were the best TV shows of 2022?</td>\n",
       "      <td></td>\n",
       "      <td>The best television shows from 2022 (with the ...</td>\n",
       "      <td>brainstorming</td>\n",
       "    </tr>\n",
       "    <tr>\n",
       "      <th>9</th>\n",
       "      <td>Did automobiles exist prior to the invention o...</td>\n",
       "      <td>Development of the automobile started in 1672 ...</td>\n",
       "      <td>The first engines that were capable of enablin...</td>\n",
       "      <td>summarization</td>\n",
       "    </tr>\n",
       "  </tbody>\n",
       "</table>\n",
       "</div>"
      ],
      "text/plain": [
       "                                         instruction  \\\n",
       "0  Extract the awards that Bob Sanders gained thr...   \n",
       "1  My manager is available on Tuesday, Wednesday,...   \n",
       "2              Is pizza a healthy food or junk food?   \n",
       "3               What is the Azure equivalent of EKS?   \n",
       "4  How can teachers address health disparities in...   \n",
       "5                           How can one loose weight   \n",
       "6               Who was given the Booker Prize 2020?   \n",
       "7  Summarize the following paragraph about modern...   \n",
       "8               What were the best TV shows of 2022?   \n",
       "9  Did automobiles exist prior to the invention o...   \n",
       "\n",
       "                                             context  \\\n",
       "0  Demond \"Bob\" Sanders (born February 24, 1981) ...   \n",
       "1                                                      \n",
       "2                                                      \n",
       "3                                                      \n",
       "4                                                      \n",
       "5                                                      \n",
       "6                                                      \n",
       "7  Currently the cutting edge of fighter design, ...   \n",
       "8                                                      \n",
       "9  Development of the automobile started in 1672 ...   \n",
       "\n",
       "                                            response                category  \n",
       "0           NFL Defensive Player of the Year in 2007  information_extraction  \n",
       "1  Your manager is available after 3 PM EST but h...              general_qa  \n",
       "2  Pizza is very popular and each restaurant or c...              general_qa  \n",
       "3  Microsoft Azure offers the Azure Kubernetes Se...                 open_qa  \n",
       "4  The teacher works with children in the positiv...              general_qa  \n",
       "5  There are several ways to shed some pounds whi...              general_qa  \n",
       "6                                     Douglas Stuart                 open_qa  \n",
       "7  Fifth-generation fighter jets take advantage o...           summarization  \n",
       "8  The best television shows from 2022 (with the ...           brainstorming  \n",
       "9  The first engines that were capable of enablin...           summarization  "
      ]
     },
     "metadata": {},
     "output_type": "display_data"
    }
   ],
   "source": [
    "import random\n",
    "import pandas as pd\n",
    "\n",
    "# Generate random indices\n",
    "nb_samples = 10\n",
    "random_indices = random.sample(range(len(dataset)), nb_samples)\n",
    "samples = []\n",
    "\n",
    "for idx in random_indices:\n",
    "    sample = dataset[idx]\n",
    "    \n",
    "    sample_data = {\n",
    "        'instruction': sample['instruction'],\n",
    "        'context': sample['context'],\n",
    "        'response': sample['response'],\n",
    "        'category': sample['category']\n",
    "    }\n",
    "    samples.append(sample_data)\n",
    "\n",
    "# Create a DataFrame and display it\n",
    "df = pd.DataFrame(samples)      \n",
    "display(df)"
   ]
  },
  {
   "cell_type": "code",
   "execution_count": 5,
   "id": "bab1d9c3-6cfb-4a49-bfb6-dccec4cf1c79",
   "metadata": {
    "execution": {
     "iopub.execute_input": "2023-10-29T13:51:28.481239Z",
     "iopub.status.busy": "2023-10-29T13:51:28.480986Z",
     "iopub.status.idle": "2023-10-29T13:51:28.594694Z",
     "shell.execute_reply": "2023-10-29T13:51:28.594146Z",
     "shell.execute_reply.started": "2023-10-29T13:51:28.481227Z"
    },
    "tags": []
   },
   "outputs": [],
   "source": [
    "import matplotlib.pyplot as plt"
   ]
  },
  {
   "cell_type": "code",
   "execution_count": 6,
   "id": "4319e36c-1df8-4e71-ac7a-3914480b5ccf",
   "metadata": {
    "execution": {
     "iopub.execute_input": "2023-10-29T13:51:28.595418Z",
     "iopub.status.busy": "2023-10-29T13:51:28.595256Z",
     "iopub.status.idle": "2023-10-29T13:51:28.679209Z",
     "shell.execute_reply": "2023-10-29T13:51:28.678706Z",
     "shell.execute_reply.started": "2023-10-29T13:51:28.595409Z"
    },
    "tags": []
   },
   "outputs": [
    {
     "data": {
      "image/png": "[encoded data removed]",
      "text/plain": [
       "<Figure size 432x288 with 1 Axes>"
      ]
     },
     "metadata": {
      "needs_background": "light"
     },
     "output_type": "display_data"
    }
   ],
   "source": [
    "# Calculate the lengths of strings in the specified column ('text' in this case)\n",
    "lengths = [len(str(x)) for x in dataset['instruction']]\n",
    "\n",
    "# Display the distribution using a histogram\n",
    "plt.hist(lengths, bins=[0,50,100,150,200,250,300], alpha=0.75)\n",
    "plt.title('Distribution of String Lengths in the \"instruction\" Column')\n",
    "plt.xlabel('String Length')\n",
    "plt.ylabel('Frequency')\n",
    "plt.grid(True)\n",
    "plt.show()"
   ]
  },
  {
   "cell_type": "code",
   "execution_count": 7,
   "id": "70f6ed8f-e1e5-4b31-8393-96d19c945947",
   "metadata": {
    "execution": {
     "iopub.execute_input": "2023-10-29T13:51:28.679876Z",
     "iopub.status.busy": "2023-10-29T13:51:28.679753Z",
     "iopub.status.idle": "2023-10-29T13:51:28.683389Z",
     "shell.execute_reply": "2023-10-29T13:51:28.682932Z",
     "shell.execute_reply.started": "2023-10-29T13:51:28.679868Z"
    },
    "tags": []
   },
   "outputs": [
    {
     "data": {
      "text/plain": [
       "(121, 15011)"
      ]
     },
     "execution_count": 7,
     "metadata": {},
     "output_type": "execute_result"
    }
   ],
   "source": [
    "# Count the number of lengths bigger than 500\n",
    "len([length for length in lengths if length > 300]),len(lengths)"
   ]
  },
  {
   "cell_type": "code",
   "execution_count": 8,
   "id": "268d84d9-1eb9-4855-9717-4302b67d041a",
   "metadata": {
    "execution": {
     "iopub.execute_input": "2023-10-29T13:51:28.684034Z",
     "iopub.status.busy": "2023-10-29T13:51:28.683865Z",
     "iopub.status.idle": "2023-10-29T13:51:28.762604Z",
     "shell.execute_reply": "2023-10-29T13:51:28.762081Z",
     "shell.execute_reply.started": "2023-10-29T13:51:28.684022Z"
    },
    "tags": []
   },
   "outputs": [
    {
     "data": {
      "image/png": "[encoded data removed]",
      "text/plain": [
       "<Figure size 432x288 with 1 Axes>"
      ]
     },
     "metadata": {
      "needs_background": "light"
     },
     "output_type": "display_data"
    }
   ],
   "source": [
    "# Calculate the lengths of strings in the specified column\n",
    "lengths = [len(str(x)) for x in dataset['context']]\n",
    "\n",
    "# Display the distribution using a histogram\n",
    "plt.hist(lengths, bins=[0,250,500,1000,1500,2000,2500,3000], alpha=0.75)\n",
    "plt.title('Distribution of String Lengths in the \"context\" Column')\n",
    "plt.xlabel('String Length')\n",
    "plt.ylabel('Frequency')\n",
    "plt.grid(True)\n",
    "plt.show()"
   ]
  },
  {
   "cell_type": "code",
   "execution_count": 9,
   "id": "5c885363-8443-4063-88f6-269bc3463761",
   "metadata": {
    "execution": {
     "iopub.execute_input": "2023-10-29T13:51:30.193701Z",
     "iopub.status.busy": "2023-10-29T13:51:30.192805Z",
     "iopub.status.idle": "2023-10-29T13:51:30.198387Z",
     "shell.execute_reply": "2023-10-29T13:51:30.197985Z",
     "shell.execute_reply.started": "2023-10-29T13:51:30.193665Z"
    },
    "tags": []
   },
   "outputs": [
    {
     "data": {
      "text/plain": [
       "(234, 15011)"
      ]
     },
     "execution_count": 9,
     "metadata": {},
     "output_type": "execute_result"
    }
   ],
   "source": [
    "# Count the number of lengths bigger than 3000\n",
    "len([length for length in lengths if length > 3000]),len(lengths)"
   ]
  },
  {
   "cell_type": "code",
   "execution_count": 10,
   "id": "150df5bf-5ea0-4084-95a3-3aae031e8d34",
   "metadata": {
    "execution": {
     "iopub.execute_input": "2023-10-29T13:51:30.463529Z",
     "iopub.status.busy": "2023-10-29T13:51:30.463078Z",
     "iopub.status.idle": "2023-10-29T13:51:30.541645Z",
     "shell.execute_reply": "2023-10-29T13:51:30.541067Z",
     "shell.execute_reply.started": "2023-10-29T13:51:30.463503Z"
    },
    "tags": []
   },
   "outputs": [
    {
     "data": {
      "image/png": "[encoded data removed]",
      "text/plain": [
       "<Figure size 432x288 with 1 Axes>"
      ]
     },
     "metadata": {
      "needs_background": "light"
     },
     "output_type": "display_data"
    }
   ],
   "source": [
    "# Calculate the lengths of strings in the specified column\n",
    "lengths = [len(str(x)) for x in dataset['response']]\n",
    "\n",
    "# Display the distribution using a histogram\n",
    "plt.hist(lengths, bins=[0,250,500,1000,1500,2000,2500,3000], alpha=0.75)\n",
    "plt.title('Distribution of String Lengths in the \"response\" Column')\n",
    "plt.xlabel('String Length')\n",
    "plt.ylabel('Frequency')\n",
    "plt.grid(True)\n",
    "plt.show()"
   ]
  },
  {
   "cell_type": "code",
   "execution_count": 11,
   "id": "4d86bcff-f598-4e43-8d4b-9a9261d6424a",
   "metadata": {
    "execution": {
     "iopub.execute_input": "2023-10-29T13:51:32.489103Z",
     "iopub.status.busy": "2023-10-29T13:51:32.487744Z",
     "iopub.status.idle": "2023-10-29T13:51:32.492355Z",
     "shell.execute_reply": "2023-10-29T13:51:32.491958Z",
     "shell.execute_reply.started": "2023-10-29T13:51:32.489067Z"
    },
    "tags": []
   },
   "outputs": [
    {
     "data": {
      "text/plain": [
       "(110, 15011)"
      ]
     },
     "execution_count": 11,
     "metadata": {},
     "output_type": "execute_result"
    }
   ],
   "source": [
    "# Count the number of lengths bigger than 3000\n",
    "len([length for length in lengths if length > 3000]),len(lengths)"
   ]
  },
  {
   "cell_type": "markdown",
   "id": "92f42781-02ff-44c5-ada1-b427e6e5372b",
   "metadata": {},
   "source": [
    "## OPUS-MT"
   ]
  },
  {
   "cell_type": "code",
   "execution_count": null,
   "id": "db4d382f-710a-4ab2-8eba-26b80a08c3e2",
   "metadata": {},
   "outputs": [],
   "source": [
    "pip install sacremoses # tokenizer"
   ]
  },
  {
   "cell_type": "code",
   "execution_count": 12,
   "id": "9cba5820-581e-4b23-ab74-79fdfa632107",
   "metadata": {
    "execution": {
     "iopub.execute_input": "2023-10-29T13:51:34.743145Z",
     "iopub.status.busy": "2023-10-29T13:51:34.742780Z",
     "iopub.status.idle": "2023-10-29T13:51:36.461325Z",
     "shell.execute_reply": "2023-10-29T13:51:36.460897Z",
     "shell.execute_reply.started": "2023-10-29T13:51:34.743133Z"
    },
    "tags": []
   },
   "outputs": [],
   "source": [
    "from transformers import pipeline, AutoTokenizer, AutoModelForSeq2SeqLM\n",
    "import torch\n",
    "\n",
    "#set the device\n",
    "device = torch.cuda.current_device() if torch.cuda.is_available() else -1"
   ]
  },
  {
   "cell_type": "code",
   "execution_count": 13,
   "id": "da86028c-3052-4e6b-9da7-a2b377df76e5",
   "metadata": {
    "execution": {
     "iopub.execute_input": "2023-10-29T13:51:36.462336Z",
     "iopub.status.busy": "2023-10-29T13:51:36.462005Z",
     "iopub.status.idle": "2023-10-29T13:51:38.003873Z",
     "shell.execute_reply": "2023-10-29T13:51:38.003436Z",
     "shell.execute_reply.started": "2023-10-29T13:51:36.462325Z"
    },
    "tags": []
   },
   "outputs": [],
   "source": [
    "#load the model\n",
    "model_name_opusmt = 'Helsinki-NLP/opus-mt-en-fr'\n",
    "model_opusmt = AutoModelForSeq2SeqLM.from_pretrained(model_name_opusmt)\n",
    "\n",
    "#load the tokenizer\n",
    "tokenizer_opusmt = AutoTokenizer.from_pretrained(model_name_opusmt, max_length=model_opusmt.config.max_length, truncation=True)\n",
    "\n",
    "#create pipeline object\n",
    "translator_opusmt = pipeline('translation', model=model_opusmt, tokenizer=tokenizer_opusmt, device=device)"
   ]
  },
  {
   "cell_type": "code",
   "execution_count": 14,
   "id": "8ef4ebdc-c986-4474-b3a0-b5b1cc2faea0",
   "metadata": {
    "execution": {
     "iopub.execute_input": "2023-10-29T13:51:38.004639Z",
     "iopub.status.busy": "2023-10-29T13:51:38.004526Z",
     "iopub.status.idle": "2023-10-29T13:51:38.007288Z",
     "shell.execute_reply": "2023-10-29T13:51:38.006914Z",
     "shell.execute_reply.started": "2023-10-29T13:51:38.004631Z"
    },
    "tags": []
   },
   "outputs": [
    {
     "data": {
      "text/plain": [
       "512"
      ]
     },
     "execution_count": 14,
     "metadata": {},
     "output_type": "execute_result"
    }
   ],
   "source": [
    "model_opusmt.config.max_length"
   ]
  },
  {
   "cell_type": "code",
   "execution_count": 15,
   "id": "da7c6e1e-752b-4d91-8454-8085a8d56c0c",
   "metadata": {
    "execution": {
     "iopub.execute_input": "2023-10-29T13:51:43.246081Z",
     "iopub.status.busy": "2023-10-29T13:51:43.245775Z",
     "iopub.status.idle": "2023-10-29T13:51:43.249231Z",
     "shell.execute_reply": "2023-10-29T13:51:43.248855Z",
     "shell.execute_reply.started": "2023-10-29T13:51:43.246070Z"
    },
    "tags": []
   },
   "outputs": [],
   "source": [
    "nb_samples = 10\n",
    "random_indices = random.sample(range(len(dataset)), nb_samples)\n",
    "\n",
    "instructions = []\n",
    "contexts = []\n",
    "responses = []\n",
    "\n",
    "for idx in random_indices:\n",
    "    sample = dataset[idx]    \n",
    "    instructions.append(sample['instruction'])\n",
    "    contexts.append(sample['context'])\n",
    "    responses.append(sample['response'])"
   ]
  },
  {
   "cell_type": "code",
   "execution_count": 16,
   "id": "f0e6382a-f223-4f50-8a0a-3345e0910054",
   "metadata": {
    "execution": {
     "iopub.execute_input": "2023-10-29T13:51:45.537907Z",
     "iopub.status.busy": "2023-10-29T13:51:45.537393Z",
     "iopub.status.idle": "2023-10-29T13:51:47.073801Z",
     "shell.execute_reply": "2023-10-29T13:51:47.073149Z",
     "shell.execute_reply.started": "2023-10-29T13:51:45.537889Z"
    },
    "tags": []
   },
   "outputs": [
    {
     "name": "stdout",
     "output_type": "stream",
     "text": [
      "What is the national bird of New Zealand? =====> Quel est l'oiseau national de la Nouvelle-Zélande?\n",
      "Describe what it's like in Breckenridge, Colorado =====> Décrivez ce que c'est à Breckenridge, Colorado\n",
      "What are the two different continental tournaments that Roger Lemerre won ? =====> Quels sont les deux tournois continentaux que Roger Lemerre a gagnés ?\n",
      "What were the horcruxes in the Harry Potter book series? =====> Quelles étaient les horreurs de la série de livres Harry Potter ?\n",
      "What is the best kind of lightbulb? =====> Quel est le meilleur type d'ampoule ?\n",
      "Extract all the years mentioned in this text, separated by a comma =====> Extrait toutes les années mentionnées dans ce texte, séparées par une virgule\n",
      "How easy and safe is it to replace the brakes on your car by yourself? =====> Comment est-il facile et sûr de remplacer les freins sur votre voiture par vous-même?\n",
      "What is nomadism? =====> Qu'est-ce que le nomadisme ?\n",
      "Classify the following as living things and non-living things: Car, Desk, Parrot, Cheetah, Phone =====> Classez les choses suivantes comme des êtres vivants et des êtres non vivants: Voiture, Bureau, Parrot, Cheetah, Téléphone\n",
      "Who was the first female to swim the English Channel? =====> Qui a été la première femme à nager dans la Manche ?\n"
     ]
    }
   ],
   "source": [
    "#get the translated sentence\n",
    "instructions_fr = [d['translation_text'] for d in translator_opusmt(instructions)]\n",
    "\n",
    "#display the translated sentence\n",
    "for (instr_en,instr_fr) in zip(instructions,instructions_fr):\n",
    "    print(instr_en, \"=====>\", instr_fr)"
   ]
  },
  {
   "cell_type": "code",
   "execution_count": 17,
   "id": "5f7ec23b-0309-4571-80a6-0e42f4448289",
   "metadata": {
    "execution": {
     "iopub.execute_input": "2023-10-29T13:51:47.074523Z",
     "iopub.status.busy": "2023-10-29T13:51:47.074412Z",
     "iopub.status.idle": "2023-10-29T13:51:49.568180Z",
     "shell.execute_reply": "2023-10-29T13:51:49.567780Z",
     "shell.execute_reply.started": "2023-10-29T13:51:47.074514Z"
    },
    "tags": []
   },
   "outputs": [
    {
     "name": "stdout",
     "output_type": "stream",
     "text": [
      "In September 2002, the Tunisian Football Federation announced that it was finalizing a contract with former France manager Roger Lemerre. Tunisia hosted the 2004 African Cup of Nations, winning the group. They defeated Senegal in the quarter-finals, and Nigeria in the semi-finals. Tunisia built a 1–0 lead after four minutes with Mehdi Nafti's concentration pushed by Francileudo Santos, before Morocco levelled. Tunisia restored their lead, giving them their first African Cup of Nations title. They also won the CAF's African National Team of the Year award. Lemerre became the first manager to win two different continental tournaments, having previously won Euro 2000 with France.\n",
      "\n",
      "As a result, Tunisia qualified for the 2005 FIFA Confederations Cup in Germany, playing the hosts, Argentina and Australia. The only points they would win was a victory over Australia. Before their 2006 World Cup appearance, Lemerre took the Tunisians to a training camp in Switzerland, where they played international friendlies against Swiss clubs. Tunisia would only record one draw in Germany, against Saudi Arabia, losing against Spain and Ukraine =====> En septembre 2002, la Fédération tunisienne de football a annoncé la finalisation d'un contrat avec l'ancien manager de France Roger Lemerre. La Tunisie a accueilli la Coupe africaine des Nations 2004 en remportant le groupe. Ils ont battu le Sénégal en quart de finale, et le Nigéria en demi-finale. La Tunisie a construit une avance de 1 à 0 après quatre minutes avec la concentration de Mehdi Nafti poussée par Francileudo Santos, avant le Maroc. La Tunisie a rétabli leur avance, leur donnant leur premier titre de Coupe africaine des Nations. Ils ont également remporté le prix de l'équipe nationale africaine de l'année des CAF. Lemerre est devenu le premier manager à remporter deux tournois continentaux différents, ayant déjà remporté l'Euro 2000 avec la France. En conséquence, la Tunisie s'est qualifiée pour la Coupe de la FIFA 2005 en Allemagne, jouant les hôtes, l'Argentine et l'Australie.\n",
      "The Apollo program, also known as Project Apollo, was the third United States human spaceflight program carried out by the National Aeronautics and Space Administration (NASA), which succeeded in preparing and landing the first humans on the Moon from 1968 to 1972. It was first conceived in 1960 during President Dwight D. Eisenhower's administration as a three-person spacecraft to follow the one-person Project Mercury, which put the first Americans in space. Apollo was later dedicated to President John F. Kennedy's national goal for the 1960s of \"landing a man on the Moon and returning him safely to the Earth\" in an address to Congress on May 25, 1961. It was the third US human spaceflight program to fly, preceded by the two-person Project Gemini conceived in 1961 to extend spaceflight capability in support of Apollo. =====> Le programme Apollo, également connu sous le nom de Projet Apollo, est le troisième programme de vol spatial humain des États-Unis exécuté par la National Aeronautics and Space Administration (NASA), qui a réussi à préparer et à atterrir les premiers humains sur la Lune de 1968 à 1972. Il a été conçu pour la première fois en 1960 sous l'administration du président Dwight D. Eisenhower comme un vaisseau spatial de trois personnes pour suivre le projet Mercure, qui a mis les premiers Américains dans l'espace. Apollo a ensuite été consacré à l'objectif national du président John F. Kennedy pour les années 1960 de « débarquer un homme sur la Lune et de le renvoyer en toute sécurité sur la Terre » dans une allocution au Congrès le 25 mai 1961.\n"
     ]
    }
   ],
   "source": [
    "#get the translated sentence\n",
    "contexts_fr = [d['translation_text'] for d in translator_opusmt(contexts)]\n",
    "\n",
    "#display the translated sentence\n",
    "for (ctx_en,ctx_fr) in zip(contexts,contexts_fr):\n",
    "    if len(ctx_en)>0:\n",
    "        print(ctx_en, \"=====>\", ctx_fr)"
   ]
  },
  {
   "cell_type": "code",
   "execution_count": 18,
   "id": "565a1d0a-8b90-48c9-b14b-dffc893f48b4",
   "metadata": {
    "execution": {
     "iopub.execute_input": "2023-10-29T13:51:49.568989Z",
     "iopub.status.busy": "2023-10-29T13:51:49.568877Z",
     "iopub.status.idle": "2023-10-29T13:51:54.134004Z",
     "shell.execute_reply": "2023-10-29T13:51:54.133595Z",
     "shell.execute_reply.started": "2023-10-29T13:51:49.568981Z"
    },
    "tags": []
   },
   "outputs": [
    {
     "name": "stdout",
     "output_type": "stream",
     "text": [
      "---\n",
      " The kiwi bird is the national bird of New Zealand.  This bird is particularly interesting because it cannot fly and it runs very fast.  If you see one in person consider yourself lucky because sightings are rare during the day and in highly populated areas.  It also has strong legs and no tail.  New Zealanders adore this bird and often refer to it as the 'humble kiwi.' \n",
      "===\n",
      " L'oiseau kiwi est l'oiseau national de la Nouvelle-Zélande. Cet oiseau est particulièrement intéressant parce qu'il ne peut pas voler et il court très vite. Si vous le voyez en personne vous considérez chanceux parce que les observations sont rares pendant la journée et dans des zones très peuplées. Il a aussi des jambes fortes et pas de queue.\n",
      "---\n",
      " Breckenridge, Colorado is largely known for its ski resort of the same name. Breckenridge is one of the highest-altitude tourist destinations in the United States, at an elevation of approximately 9600 feet (or 2926 meters). It has a small year-round resident population (a few thousand people), but has millions of visitors every year. Breckenridge Ski Resort operates across five peaks, and includes a chairlift that operates at 12,840 feet (the highest in North America). Although Breckenridge gets more than 300 inches of snow on average each year, it also has abundant sunshine with about 300 days being sunny. Breckenridge has cold winters and moderate summers. \n",
      "===\n",
      " Breckenridge, Colorado, est largement connu pour sa station de ski du même nom. Breckenridge est l'une des destinations touristiques les plus altitudes aux États-Unis, à une altitude d'environ 9600 pieds (ou 2926 mètres). Il a une petite population résidente toute l'année (quelques milliers de personnes), mais a des millions de visiteurs chaque année. Breckenridge Ski Resort fonctionne sur cinq pics, et comprend un télésiège qui fonctionne à 12 840 pieds (le plus élevé en Amérique du Nord). Bien que Breckenridge obtient plus de 300 pouces de neige en moyenne chaque année, il a également un soleil abondant avec environ 300 jours d'ensoleillement. Breckenridge a des hivers froids et des étés modérés.\n",
      "---\n",
      " Roger Lemerre won the Euro 2000 with France and the African Cup of Nations 2004 with Tunisia \n",
      "===\n",
      " Roger Lemerre a remporté l'Euro 2000 avec la France et la Coupe d'Afrique des Nations 2004 avec la Tunisie\n",
      "---\n",
      " In the Harry Potter book series, a horcrux is defined as an object that contains a shard of someones soul. The main villain of the story, Voldemort, performed a violent ceremony to split his soul a total of seven times (although one was accidental). The horcruxes he made were Tom Riddle's diary, Marvolo Gaunt's ring, Slytherin's locket, Hufflepuff's cup, Ravenclaw's diadem, Nagini (the snake), and Harry Potter. \n",
      "===\n",
      " Dans la série de livres Harry Potter, un horcrux est défini comme un objet qui contient un dur de l'âme de quelqu'un. Le principal méchant de l'histoire, Voldemort, a effectué une cérémonie violente pour diviser son âme sept fois (bien que l'une ait été accidentelle).Les horcruxes qu'il a fait étaient le journal de Tom Riddle, la bague de Marvolo Gaunt, le médaillon de Slytherin, la coupe de Hufflepuff, le diadem de Ravenclaw, Nagini (le serpent) et Harry Potter.\n",
      "---\n",
      " As with many home appliances, the definition of \"best\" for lightbulbs varies depending on your intended use. For example, a lightbulb you might use for a reading light might differ from how you illuminate a garage. Some important factors to consider:\n",
      "- Energy efficiency: the availability and cost effectiveness of LED bulbs has made them the new standard for home lighting purposes. Additionally, they are more efficient in terms of energy usage than incandescent lights, so will cost less to operate over time. \n",
      "- Color/hue: the \"color\" of the light from a bulb can vary from blue to white to yellow, or even to custom colors. Consider the ambiance or mood you are trying to set with the bulb.\n",
      "- Shape and style: different lamps require different bulbs, and you should make sure the bulb you are buying is compatible. Some bulb types have different styles as well, such as \"Edison style\" and bulbs meant to mimic the flicker of candles. \n",
      "===\n",
      " Comme pour beaucoup d'appareils ménagers, la définition de « meilleur » pour les ampoules varie en fonction de votre utilisation prévue. Par exemple, une ampoule que vous pouvez utiliser pour une lumière de lecture peut différer de la façon dont vous illuminez un garage. Certains facteurs importants à considérer: - Efficacité énergétique: la disponibilité et l'efficacité économique des ampoules LED a fait d'elles la nouvelle norme pour les besoins de l'éclairage à domicile. En outre, ils sont plus efficaces en termes d'utilisation d'énergie que les lumières incandescentes, ce qui coûtera moins cher à fonctionner au fil du temps. - Couleur/couleur: la « couleur » de la lumière d'une ampoule peut varier du bleu au blanc au jaune, ou même aux couleurs personnalisées. Considérez l'ambiance ou l'humeur que vous essayez de mettre avec l'ampoule. - Forme et style: différentes lampes nécessitent des ampoules différentes, et vous devriez vous assurer que l'ampoule que vous achetez est compatible.\n",
      "---\n",
      " 1968,1972,1960,1961 \n",
      "===\n",
      " 1968,1972,1960,1961\n",
      "---\n",
      " Brakes on a car are an essential system that requires the work to be done with confidence.  Unlike other systems in a car that can fail and not adversely affect safety of a car, the brakes are a critical safety system that must be done correctly.  Failure to repair brakes correctly can result in accidents and damage to property or loss of life in extreme cases.  With this said, however, the work required to replace brakes on a car is not that technically complicated.  In most cases specialized tools are not needed and most cars have a very similar mechanism to engage brakes making repairs easier.  You can consult other sources online to find detailed descriptions for your make and model.  Several tips include picking quality parts that are designed for your vehicle, always replacing brake rotors along with brake pads and double checking the tightness of caliper pins.  With some basic skills and proper preparation you can learn to perform this work yourself and save money.  It is always good to work with or consult with someone with experience the first time you attempt such a repair. \n",
      "===\n",
      " Contrairement à d'autres systèmes d'une voiture qui peuvent échouer et ne pas nuire à la sécurité d'une voiture, les freins sont un système de sécurité critique qui doit être fait correctement. Le défaut de réparer correctement les freins peut entraîner des accidents et des dommages à la propriété ou des pertes de vie dans des cas extrêmes. Cependant, cela dit, le travail nécessaire pour remplacer les freins d'une voiture n'est pas si compliqué techniquement. Dans la plupart des cas, des outils spécialisés ne sont pas nécessaires et la plupart des voitures ont un mécanisme très similaire pour engager les freins pour faciliter les réparations. Vous pouvez consulter d'autres sources en ligne pour trouver des descriptions détaillées pour votre marque et modèle. Plusieurs conseils incluent la cueillette de pièces de qualité qui sont conçues pour votre véhicule, toujours remplacer les rotors de frein avec des plaquettes de frein et double vérification de l'étanchéité des épingles de serrage. Avec quelques compétences de base et une préparation appropriée, vous pouvez apprendre à effectuer ce travail vous-même et économiser de l'argent.\n",
      "---\n",
      " Nomadism is a way of living in which people don't have a permanent place to live. Instead, they move around a certain area in search of food and grazing land. The change from being nomadic to staying in one place is what led to the first civilizations. \n",
      "===\n",
      " Le nomadisme est une façon de vivre dans laquelle les gens n'ont pas un endroit permanent pour vivre. Au lieu de cela, ils se déplacent autour d'une certaine zone à la recherche de nourriture et de pâturages. Le changement d'être nomade à rester dans un seul endroit est ce qui a conduit aux premières civilisations.\n",
      "---\n",
      " The list can be classified as living things and non-living things as follows:\n",
      "Car- Non-living thing.\n",
      "Desk- Non-living thing.\n",
      "Parrot- Living thing.\n",
      "Cheetah- Living thing.\n",
      "Phone- Non-living thing.\n",
      "\n",
      "You can classify anything that can breathe as a living thing and which cannot breathe as a non-living thing. \n",
      "===\n",
      " La liste peut être classée comme des choses vivantes et des choses non-vivantes comme suit: Voiture- chose non-vivante. Bureau- chose non-vivante. Parrot- chose vivante. Cheetah- chose vivante. Téléphone- chose non-vivante. Vous pouvez classer tout ce qui peut respirer comme une chose vivante et qui ne peut pas respirer comme une chose non-vivante.\n",
      "---\n",
      " In 1926, Gertrude Ederle was the first woman to swim the English Channel. She was only 19 years old and an Olympic medalist when she made the crossing. \n",
      "===\n",
      " En 1926, Gertrude Ederle est la première femme à nager dans la Manche. Elle n'a que 19 ans et est médaillée olympique lorsqu'elle fait la traversée.\n"
     ]
    }
   ],
   "source": [
    "#get the translated sentence\n",
    "responses_fr = [d['translation_text'] for d in translator_opusmt(responses)]\n",
    "\n",
    "#display the translated sentence\n",
    "for (resp_en,resp_fr) in zip(responses,responses_fr):\n",
    "    print(\"---\\n\",resp_en, \"\\n===\\n\", resp_fr)"
   ]
  },
  {
   "cell_type": "code",
   "execution_count": 22,
   "id": "a9e3b90a-04f2-419c-946e-9edbe39de37c",
   "metadata": {
    "execution": {
     "iopub.execute_input": "2023-10-29T13:58:24.806510Z",
     "iopub.status.busy": "2023-10-29T13:58:24.806231Z",
     "iopub.status.idle": "2023-10-29T13:58:24.808951Z",
     "shell.execute_reply": "2023-10-29T13:58:24.808489Z",
     "shell.execute_reply.started": "2023-10-29T13:58:24.806497Z"
    },
    "tags": []
   },
   "outputs": [],
   "source": [
    "batchds = dataset[0:10]"
   ]
  },
  {
   "cell_type": "code",
   "execution_count": 32,
   "id": "0b99e7dc-247f-484c-bd20-b696363c70be",
   "metadata": {
    "execution": {
     "iopub.execute_input": "2023-10-29T14:21:08.686679Z",
     "iopub.status.busy": "2023-10-29T14:21:08.686032Z",
     "iopub.status.idle": "2023-10-29T14:21:08.690577Z",
     "shell.execute_reply": "2023-10-29T14:21:08.690100Z",
     "shell.execute_reply.started": "2023-10-29T14:21:08.686649Z"
    },
    "tags": []
   },
   "outputs": [],
   "source": [
    "def translate_batch(batch):\n",
    "    # This function receives a batch and translates the 'instruction' field\n",
    "    result = {}\n",
    "    for column in [\"instruction\",\"context\",\"response\"]:\n",
    "        translations = translator_opusmt(batch[column], max_length=512, truncation=True)\n",
    "        translated_text = [translation[\"translation_text\"] for translation in translations]\n",
    "        result[f\"{column}_fr\"] = translated_text\n",
    "    return result"
   ]
  },
  {
   "cell_type": "code",
   "execution_count": 33,
   "id": "7f25a5c4-e0a3-47ea-b908-14f5b5f2dad7",
   "metadata": {
    "execution": {
     "iopub.execute_input": "2023-10-29T14:21:09.095095Z",
     "iopub.status.busy": "2023-10-29T14:21:09.094324Z",
     "iopub.status.idle": "2023-10-29T14:21:15.491084Z",
     "shell.execute_reply": "2023-10-29T14:21:15.490597Z",
     "shell.execute_reply.started": "2023-10-29T14:21:09.095060Z"
    },
    "tags": []
   },
   "outputs": [
    {
     "data": {
      "text/plain": [
       "{'instruction_fr': ['Quand Virgin Australia a-t-elle commencé à opérer ?',\n",
       "  'Quelle est une espèce de poisson? Tope ou corde',\n",
       "  'Pourquoi les chameaux peuvent - ils survivre longtemps sans eau?',\n",
       "  \"Les parents d'Alice ont trois filles: Amy, Jessy, et quel est le nom de la troisième fille?\",\n",
       "  'Quand Tomoaki Komorida est-il né ?',\n",
       "  \"Si j'ai plus de pièces au moment de l'impasse, ai-je gagné ?\",\n",
       "  \"Vu un texte de référence sur Lollapalooza, où cela se passe-t-il, qui l'a commencé et qu'est-ce que c'est ?\",\n",
       "  \"Qui a donné à l'ONU le terrain à New York pour construire leur QG\",\n",
       "  \"Pourquoi le mobile est mauvais pour l'humain\",\n",
       "  'Qui était Jean Moïse Browning?'],\n",
       " 'context_fr': [\"Virgin Australia, le nom commercial de Virgin Australia Airlines Pty Ltd, est une compagnie aérienne basée en Australie. Il est la plus grande compagnie aérienne par la taille de la flotte à utiliser la marque Virgin. Il a commencé les services le 31 août 2000 sous le nom de Virgin Blue, avec deux avions sur une seule route. Il s'est soudainement trouvé comme une compagnie aérienne majeure dans le marché intérieur de l'Australie après l'effondrement d'Ansett Australie en septembre 2001.\",\n",
       "  \"Le présent règlement entre en vigueur le jour suivant celui de sa publication au Journal officiel de l'Union européenne.\",\n",
       "  \"Le présent règlement entre en vigueur le jour suivant celui de sa publication au Journal officiel de l'Union européenne.\",\n",
       "  \"Le présent règlement entre en vigueur le jour suivant celui de sa publication au Journal officiel de l'Union européenne.\",\n",
       "  \"Komorida est né à la préfecture de Kumamoto le 10 juillet 1981. Après avoir obtenu son diplôme d'études secondaires, il a rejoint le club de la Ligue J1 Avispa Fukuoka en 2000. Bien qu'il ait débuté en tant que milieu de terrain en 2001, il n'a pas beaucoup joué et le club a été relégué à la Ligue J2 à la fin de la saison 2001. En 2002, il a déménagé au club J2 Oita Trinita. Il est devenu joueur régulier en tant que milieu de terrain défensif et le club a gagné le championnat en 2002 et a été promu en 2003. Il a joué de nombreux matchs jusqu'en 2005. En septembre 2005, il a déménagé au club J2 Montedio Yamagata. En 2006, il a déménagé au club J2 Vissel Kobe. Bien qu'il soit devenu joueur régulier en tant que milieu de terrain défensif, il a progressivement joué moins pendant l'été. En 2007, il a déménagé au club de la Ligue du Japon Rosso Kumamoto (plus tard Roasso Kumamoto) basé dans sa région.\",\n",
       "  \"Stalemate est une situation dans les échecs où le joueur dont le tour est de se déplacer n'est pas en échec et n'a aucun mouvement légal. Stalemate se traduit par un tirage au sort. Pendant le match final, l'impasse est une ressource qui peut permettre au joueur avec la position inférieure de dessiner le jeu plutôt que de perdre. Dans des positions plus complexes, l'impasse est beaucoup plus rare, prenant généralement la forme d'une escroquerie qui ne réussit que si le côté supérieur est inattentif.[citation nécessaire] Stalemate est également un thème commun dans les études de jeu final et d'autres problèmes d'échecs. Le résultat d'une impasse a été normalisé comme un tirage au sort au 19ème siècle. Avant cette normalisation, son traitement a varié largement, y compris être considéré comme une victoire pour le joueur stalematisant, un demi-gagnant pour ce joueur, ou une perte pour ce joueur; ne pas être permis; et résultant dans le joueur bloqué manque un tour. Stalemate règles varient dans d'autres jeux de la famille d'échecs.\",\n",
       "  \"Lollapalooza est un festival de musique américain de quatre jours qui s'est tenu à Grant Park à Chicago. Il a commencé en 1991 comme événement itinérant, mais plusieurs années plus tard, Chicago est devenu son emplacement permanent. Les genres musicaux comprennent mais ne se limitent pas à la musique alternative rock, heavy metal, punk rock, hip hop et danse électronique. Lollapalooza a également mis en vedette des arts visuels, des organisations à but non lucratif et des organisations politiques. Le festival, qui s'est tenu à Grant Park, accueille environ 400 000 personnes chaque mois en juillet et se vend chaque année. Lollapalooza est l'un des festivals de musique les plus importants et les plus emblématiques au monde et l'un des plus anciens aux États-Unis. Lollapalooza a été conçu et créé en 1991 comme une tournée d'adieu par Perry Farrell, chanteuse du groupe Jane's Addiction.\",\n",
       "  \"Le présent règlement entre en vigueur le jour suivant celui de sa publication au Journal officiel de l'Union européenne.\",\n",
       "  \"Le présent règlement entre en vigueur le jour suivant celui de sa publication au Journal officiel de l'Union européenne.\",\n",
       "  \"John Moses Browning (23 janvier 1855 - 26 novembre 1926) était un créateur d'armes à feu américain qui a développé de nombreuses variétés d'armes à feu militaires et civiles, de cartouches et de mécanismes d'armes à feu, dont beaucoup sont encore en usage dans le monde. Il a fait sa première arme à feu à 13 ans dans l'atelier d'armes à feu de son père et a reçu la première de ses 128 brevets d'armes à feu le 7 octobre 1879, à l'âge de 24 ans. Il est considéré comme l'un des concepteurs d'armes à feu les plus réussis des XIXe et XXe siècles et a lancé le développement d'armes à feu modernes répétitives, semi-automatiques et automatiques.\"],\n",
       " 'response_fr': ['Virgin Australia a commencé ses services le 31 août 2000 sous le nom de Virgin Blue, avec deux avions sur une seule route.',\n",
       "  'Tope',\n",
       "  \"Les chameaux utilisent la graisse dans leurs bosses pour les garder remplis d'énergie et d'hydratation pendant de longues périodes.\",\n",
       "  'Le nom de la troisième fille est Alice',\n",
       "  'Tomoaki Komorida est né le 10 juillet 1981.',\n",
       "  'Non. Stalemate est une position dessinée. Peu importe qui a capturé plus de pièces ou est dans une position gagnante',\n",
       "  \"Lollapalooze est un festival musical annuel organisé à Grant Park à Chicago, en Illinois. Il a été lancé en 1991 comme une tournée d'adieu par Perry Farrell, chanteur du groupe Jane's Addiction. Le festival comprend une série de genres musicaux incluant rock alternatif, heavy metal, punk rock, hip hop et musique de danse électronique. Les festivals accueillent environ 400 000 personnes chaque année et se vendent chaque année.\",\n",
       "  'John D Rockerfeller',\n",
       "  \"Nous sommes toujours fiancés à un téléphone ce qui n'est pas bon.\",\n",
       "  \"John Moses Browning est l'un des concepteurs les plus connus d'armes à feu modernes. Il a commencé à construire des armes à feu dans le magasin de son père à l'âge de 13 ans et a obtenu son premier brevet à l'âge de 24 ans. Il a conçu le premier pistolet automatique fiable, et la première arme à feu à gaz, ainsi que l'invention ou l'amélioration de fusils à simple tir, à levier et à pompe et de fusils de chasse. Aujourd'hui, il est le plus connu pour le pistolet M1911, le Browning Automatic Rifle et le fusil Auto-5, qui sont tous encore en cours de production dans leur conception originale, ou avec des changements mineurs.\"]}"
      ]
     },
     "execution_count": 33,
     "metadata": {},
     "output_type": "execute_result"
    }
   ],
   "source": [
    "translate_batch(batchds)"
   ]
  },
  {
   "cell_type": "code",
   "execution_count": null,
   "id": "bb6cc49b-ab9c-44f0-9f69-bb70cc4a2b7e",
   "metadata": {
    "tags": []
   },
   "outputs": [],
   "source": [
    "chunked_dataset = dataset.map(translate_batch, batched=True, batch_size=32)"
   ]
  }
 ],
 "metadata": {
  "kernelspec": {
   "display_name": "wordslab-llms",
   "language": "python",
   "name": "wordslab-llms"
  },
  "language_info": {
   "codemirror_mode": {
    "name": "ipython",
    "version": 3
   },
   "file_extension": ".py",
   "mimetype": "text/x-python",
   "name": "python",
   "nbconvert_exporter": "python",
   "pygments_lexer": "ipython3",
   "version": "3.10.12"
  }
 },
 "nbformat": 4,
 "nbformat_minor": 5
}
