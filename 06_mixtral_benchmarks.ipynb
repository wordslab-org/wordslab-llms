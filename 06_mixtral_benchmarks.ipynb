{
 "cells": [
  {
   "cell_type": "markdown",
   "id": "99b02285-f7ac-4153-a5e5-486baa6fdd78",
   "metadata": {},
   "source": [
    "# Mixtral-8x7B-v0.1 benchmarks - single GPU"
   ]
  },
  {
   "cell_type": "markdown",
   "id": "907384e6-5899-4278-89a2-ce962aaf5cb3",
   "metadata": {},
   "source": [
    "## Dependencies"
   ]
  },
  {
   "cell_type": "code",
   "execution_count": null,
   "id": "8c505fe8-eb30-4f48-91c2-30b3107defc9",
   "metadata": {},
   "outputs": [],
   "source": [
    "pip install --upgrade transformers"
   ]
  },
  {
   "cell_type": "code",
   "execution_count": null,
   "id": "0a1d391d-17ef-4c10-87c6-d5c281fc2b3f",
   "metadata": {},
   "outputs": [],
   "source": [
    "pip install --upgrade safetensors"
   ]
  },
  {
   "cell_type": "code",
   "execution_count": null,
   "id": "f0ea7da1-d5a1-45c5-aebc-e95a45a33663",
   "metadata": {},
   "outputs": [],
   "source": [
    "pip install --upgrade accelerate"
   ]
  },
  {
   "cell_type": "code",
   "execution_count": null,
   "id": "40bcaa48-499b-40e7-8ec2-7389958e8cf5",
   "metadata": {},
   "outputs": [],
   "source": [
    "pip install --upgrade bitsandbytes"
   ]
  },
  {
   "cell_type": "code",
   "execution_count": null,
   "id": "a91e292b-ac5f-4977-a29c-bc13b7bd5803",
   "metadata": {},
   "outputs": [],
   "source": [
    "pip install --upgrade flash-attn --no-build-isolation"
   ]
  },
  {
   "cell_type": "code",
   "execution_count": null,
   "id": "e7ee75a6-20da-4d3c-a4a3-ddf79dd48fcb",
   "metadata": {},
   "outputs": [],
   "source": [
    "pip install --upgrade auto-gptq"
   ]
  },
  {
   "cell_type": "code",
   "execution_count": null,
   "id": "1abbb181-2561-496f-958f-24e045c3023d",
   "metadata": {},
   "outputs": [],
   "source": [
    "pip install --upgrade optimum"
   ]
  },
  {
   "cell_type": "code",
   "execution_count": null,
   "id": "d0e916a2-4c9e-43b9-a447-62be56160086",
   "metadata": {},
   "outputs": [],
   "source": [
    "pip install --upgrade autoawq"
   ]
  },
  {
   "cell_type": "code",
   "execution_count": 17,
   "id": "6484fb21-f68d-4e74-ab15-b2d386109544",
   "metadata": {},
   "outputs": [
    {
     "data": {
      "text/plain": [
       "'4.36.2'"
      ]
     },
     "execution_count": 17,
     "metadata": {},
     "output_type": "execute_result"
    }
   ],
   "source": [
    "import importlib.metadata\n",
    "importlib.metadata.version(\"transformers\")"
   ]
  },
  {
   "cell_type": "code",
   "execution_count": 18,
   "id": "744019ab-360d-48c4-a485-9dfff831289b",
   "metadata": {},
   "outputs": [
    {
     "data": {
      "text/plain": [
       "'0.4.1'"
      ]
     },
     "execution_count": 18,
     "metadata": {},
     "output_type": "execute_result"
    }
   ],
   "source": [
    "importlib.metadata.version(\"safetensors\")"
   ]
  },
  {
   "cell_type": "code",
   "execution_count": 19,
   "id": "6c3f933f-7c94-4734-a1de-4bcc14542ddb",
   "metadata": {},
   "outputs": [
    {
     "data": {
      "text/plain": [
       "'0.26.1'"
      ]
     },
     "execution_count": 19,
     "metadata": {},
     "output_type": "execute_result"
    }
   ],
   "source": [
    "importlib.metadata.version(\"accelerate\")"
   ]
  },
  {
   "cell_type": "code",
   "execution_count": 20,
   "id": "48c5dc89-b322-4ab0-a4a9-0744f8aa50c1",
   "metadata": {},
   "outputs": [
    {
     "data": {
      "text/plain": [
       "'0.42.0'"
      ]
     },
     "execution_count": 20,
     "metadata": {},
     "output_type": "execute_result"
    }
   ],
   "source": [
    "importlib.metadata.version(\"bitsandbytes\")"
   ]
  },
  {
   "cell_type": "code",
   "execution_count": 21,
   "id": "9ce114ae-5431-453f-8b62-580317deca1d",
   "metadata": {},
   "outputs": [
    {
     "data": {
      "text/plain": [
       "'2.4.2'"
      ]
     },
     "execution_count": 21,
     "metadata": {},
     "output_type": "execute_result"
    }
   ],
   "source": [
    "importlib.metadata.version(\"flash-attn\")"
   ]
  },
  {
   "cell_type": "code",
   "execution_count": 22,
   "id": "f67edf1a-f345-404e-b197-c07d76bfb27e",
   "metadata": {},
   "outputs": [
    {
     "data": {
      "text/plain": [
       "'0.6.0'"
      ]
     },
     "execution_count": 22,
     "metadata": {},
     "output_type": "execute_result"
    }
   ],
   "source": [
    "importlib.metadata.version(\"auto-gptq\")"
   ]
  },
  {
   "cell_type": "code",
   "execution_count": 23,
   "id": "d19e2c0c-94f6-4c78-9105-12605d49f874",
   "metadata": {},
   "outputs": [
    {
     "data": {
      "text/plain": [
       "'1.16.1'"
      ]
     },
     "execution_count": 23,
     "metadata": {},
     "output_type": "execute_result"
    }
   ],
   "source": [
    "importlib.metadata.version(\"optimum\")"
   ]
  },
  {
   "cell_type": "code",
   "execution_count": 24,
   "id": "f0512e00-0643-4b21-b265-5f35014ab169",
   "metadata": {},
   "outputs": [
    {
     "data": {
      "text/plain": [
       "'0.1.8'"
      ]
     },
     "execution_count": 24,
     "metadata": {},
     "output_type": "execute_result"
    }
   ],
   "source": [
    "importlib.metadata.version(\"autoawq\")"
   ]
  },
  {
   "cell_type": "markdown",
   "id": "b7d0bbed-3a80-4b29-8aa4-03c635906b2f",
   "metadata": {},
   "source": [
    "## mistralai/Mixtral-8x7B-v0.1"
   ]
  },
  {
   "cell_type": "code",
   "execution_count": 1,
   "id": "6a8a2806-f49b-4cbc-bb13-346b50053131",
   "metadata": {},
   "outputs": [
    {
     "data": {
      "application/vnd.jupyter.widget-view+json": {
       "model_id": "aca61d4d43dc491ea17f0d544b668ab7",
       "version_major": 2,
       "version_minor": 0
      },
      "text/plain": [
       "Loading checkpoint shards:   0%|          | 0/19 [00:00<?, ?it/s]"
      ]
     },
     "metadata": {},
     "output_type": "display_data"
    }
   ],
   "source": [
    "from transformers import AutoModelForCausalLM, AutoTokenizer\n",
    "\n",
    "model_name = \"mistralai/Mixtral-8x7B-v0.1\"\n",
    "tokenizer = AutoTokenizer.from_pretrained(model_name)\n",
    "model = AutoModelForCausalLM.from_pretrained(model_name, use_safetensors=True, load_in_4bit=True, device_map=\"auto\", torch_dtype=\"auto\", attn_implementation=\"flash_attention_2\")"
   ]
  },
  {
   "cell_type": "markdown",
   "id": "39ae8345-2590-4056-b639-0d4a454996f4",
   "metadata": {},
   "source": [
    "## TheBloke/Mixtral-8x7B-v0.1-GPTQ"
   ]
  },
  {
   "cell_type": "markdown",
   "id": "7fed85a9-7a3c-43f0-98ff-4ecf3b164832",
   "metadata": {},
   "source": [
    "from transformers import AutoModelForCausalLM, AutoTokenizer\n",
    "\n",
    "model_name = \"TheBloke/Mixtral-8x7B-v0.1-GPTQ\"\n",
    "tokenizer = AutoTokenizer.from_pretrained(model_name)\n",
    "model = AutoModelForCausalLM.from_pretrained(model_name, use_safetensors=True, device_map=\"auto\", torch_dtype=\"auto\", attn_implementation=\"flash_attention_2\")"
   ]
  },
  {
   "cell_type": "markdown",
   "id": "ce9ac0e6-3801-44e8-a5a9-84a1415f6013",
   "metadata": {},
   "source": [
    "## casperhansen/mixtral-instruct-awq"
   ]
  },
  {
   "cell_type": "markdown",
   "id": "5433bb24-6634-4b9d-8d54-8f52db7fb3bb",
   "metadata": {},
   "source": [
    "from transformers import AutoModelForCausalLM, AutoTokenizer\n",
    "\n",
    "model_name = \"casperhansen/mixtral-instruct-awq\"\n",
    "tokenizer = AutoTokenizer.from_pretrained(model_name)\n",
    "model = AutoModelForCausalLM.from_pretrained(model_name, use_safetensors=True, device_map=\"auto\", torch_dtype=\"auto\", attn_implementation=\"flash_attention_2\")"
   ]
  },
  {
   "cell_type": "markdown",
   "id": "fdc05f5d-eee6-4e86-af01-0effec91b843",
   "metadata": {},
   "source": [
    "## Cuda memory"
   ]
  },
  {
   "cell_type": "code",
   "execution_count": 2,
   "id": "808aa5f5-9252-441c-bb30-f7ef39fd2ef2",
   "metadata": {},
   "outputs": [
    {
     "name": "stdout",
     "output_type": "stream",
     "text": [
      "NVIDIA RTX 6000 Ada Generation\n",
      "Total    : 48,647.1 MB\n",
      "------------------------------\n",
      "Overhead :    501.6 MB -   1 %\n",
      "Reserved : 26,286.0 MB -  54 %\n",
      "Free     : 21,859.5 MB -  44 %\n",
      "------------------------------\n",
      "Used     : 25,978.5 MB -  53 %\n",
      "Max used : 25,978.5 MB -  53 %\n"
     ]
    }
   ],
   "source": [
    "import torch\n",
    "from datetime import datetime\n",
    "from IPython.display import HTML\n",
    "import pickle\n",
    "\n",
    "memory_unit = 1024*1024\n",
    "total_memory = torch.cuda.get_device_properties(0).total_memory\n",
    "\n",
    "def display_memory():\n",
    "    print(torch.cuda.get_device_name(0))\n",
    "    print(f\"Total    : {(total_memory/memory_unit):8,.1f} MB\")\n",
    "    print(\"------------------------------\")\n",
    "    free_memory = torch.cuda.mem_get_info()[0]\n",
    "    reserved_memory = torch.cuda.memory_reserved(0)\n",
    "    used_memory = torch.cuda.memory_allocated(0)    \n",
    "    max_used_memory = torch.cuda.max_memory_allocated(0)\n",
    "    overhead_memory = total_memory - free_memory - reserved_memory\n",
    "    print(f\"Overhead : {(overhead_memory/memory_unit):8,.1f} MB - {int(overhead_memory/total_memory*100):3} %\")\n",
    "    print(f\"Reserved : {(reserved_memory/memory_unit):8,.1f} MB - {int(reserved_memory/total_memory*100):3} %\")\n",
    "    print(f\"Free     : {(free_memory/memory_unit):8,.1f} MB - {int(free_memory/total_memory*100):3} %\")\n",
    "    print(\"------------------------------\")\n",
    "    print(f\"Used     : {(used_memory/memory_unit):8,.1f} MB - {int(used_memory/total_memory*100):3} %\")\n",
    "    print(f\"Max used : {(max_used_memory/memory_unit):8,.1f} MB - {int(max_used_memory/total_memory*100):3} %\")\n",
    "    \n",
    "def display_memory_summary():\n",
    "    print(torch.cuda.memory_summary())\n",
    "    \n",
    "def release_cached_memory():\n",
    "    torch.cuda.empty_cache()\n",
    "    \n",
    "def reset_peak_memory_stats():\n",
    "    torch.cuda.reset_peak_memory_stats()\n",
    "\n",
    "def record_memory_history(enabled):\n",
    "    torch.cuda.memory._record_memory_history(enabled=enabled)\n",
    "    \n",
    "def dump_memory_snapshot():\n",
    "    filename_datetime = datetime.now().strftime(\"%Y%m%d_%H%M%S\")\n",
    "    filename = f\"memory_snapshot_{filename_datetime}.pickle\"\n",
    "    s = torch.cuda.memory._snapshot(0)\n",
    "    with open(filename, \"wb\") as f:\n",
    "        pickle.dump(s, f)\n",
    "    print(f\"Dumped memory snapshot to file: {filename}\")\n",
    "\n",
    "# https://zdevito.github.io/2022/08/16/memory-snapshots.html\n",
    "# https://zdevito.github.io/2022/12/09/memory-traces.html\n",
    "\n",
    "def display_memory_snapshot():\n",
    "    url = \"https://pytorch.org/memory_viz\"\n",
    "    return HTML(f\"Call dump_memory_snapshot(), <a href='{url}' target='_blank'>click here to open Pytorch memory viz</a>, then drag and drop the snapshot file\")\n",
    "    \n",
    "display_memory()"
   ]
  },
  {
   "cell_type": "code",
   "execution_count": 3,
   "id": "b6cf4763-e756-4802-b057-c9d2998fd7a4",
   "metadata": {},
   "outputs": [
    {
     "name": "stdout",
     "output_type": "stream",
     "text": [
      "Model mistralai/Mixtral-8x7B-v0.1 size on disk:\n",
      "- model files size   : 86.99 GB\n",
      "- stored in directory: /home/.cache/huggingface/hub/models--mistralai--Mixtral-8x7B-v0.1/snapshots\n"
     ]
    }
   ],
   "source": [
    "import os\n",
    "from transformers import AutoModelForCausalLM, AutoTokenizer\n",
    "from transformers.utils.hub import cached_file\n",
    "\n",
    "memory_unit_mb = 1024*1024\n",
    "memory_unit_gb = 1024*1024*1024\n",
    "\n",
    "def get_directory_size(directory):\n",
    "    total_size = 0\n",
    "    for dirpath, dirnames, filenames in os.walk(directory):\n",
    "        for f in filenames:\n",
    "            fp = os.path.join(dirpath, f)\n",
    "            total_size += os.path.getsize(fp)\n",
    "    return total_size\n",
    "\n",
    "def get_model_path_and_size_on_disk(pretrained_model_id):    \n",
    "    model_config_file = cached_file(pretrained_model_id, \"config.json\", local_files_only=True)\n",
    "    model_directory = os.path.dirname(os.path.dirname(model_config_file))    \n",
    "    total_size = get_directory_size(model_directory)\n",
    "    return model_directory,total_size\n",
    "\n",
    "print(f\"Model {model_name} size on disk:\")\n",
    "path,size = get_model_path_and_size_on_disk(model_name)\n",
    "print(f\"- model files size   : {(size/memory_unit_gb):.2f} GB\")\n",
    "print(f\"- stored in directory: {path}\")"
   ]
  },
  {
   "cell_type": "markdown",
   "id": "e6e4e851-39ff-4906-8d22-4545839673c3",
   "metadata": {},
   "source": [
    "## Perplexity test"
   ]
  },
  {
   "cell_type": "code",
   "execution_count": 4,
   "id": "d95e5814-6469-45f0-993d-e1f968ead777",
   "metadata": {},
   "outputs": [],
   "source": [
    "with open(\"/home/hftoken\", 'r') as file:\n",
    "    myhftoken = file.read().strip()"
   ]
  },
  {
   "cell_type": "code",
   "execution_count": null,
   "id": "42192ae5-9501-4dd5-bcad-84cb0d7ecb84",
   "metadata": {},
   "outputs": [],
   "source": [
    "from datasets import load_dataset\n",
    "\n",
    "#dataset_name_fr = \"frenchtext/banque-fr-2311\"\n",
    "#dataset_fr = load_dataset(dataset_name_fr, token=myhftoken)\n",
    "\n",
    "dataset_name_en = \"frenchtext/bank-en-2401\"\n",
    "dataset_en = load_dataset(dataset_name_en, token=myhftoken)\n",
    "\n",
    "dataset_name = dataset_name_en\n",
    "split = \"valid\"\n",
    "dataset = dataset_en[split]"
   ]
  },
  {
   "cell_type": "code",
   "execution_count": 6,
   "id": "3aa44df5-7753-435f-8dbd-58e809e68cae",
   "metadata": {},
   "outputs": [],
   "source": [
    "def get_dataset_batches(dataset, batch_size=32):\n",
    "    filtered_dataset = dataset.filter(lambda example: example[\"Words\"]>15)\n",
    "    sorted_dataset = filtered_dataset.sort(\"Words\",reverse=True)\n",
    "    \n",
    "    dataset_length = len(sorted_dataset)\n",
    "    for start_idx in range(0, dataset_length, batch_size):\n",
    "        end_idx = min(start_idx + batch_size, dataset_length)\n",
    "        yield sorted_dataset[start_idx:end_idx]\n",
    "\n",
    "def get_encoding_offsets(encoding):\n",
    "    start_index = encoding.offsets[0][0]\n",
    "    end_index = encoding.offsets[-1][1]\n",
    "    if end_index==0: end_index = -1\n",
    "    return (start_index, end_index)\n",
    "\n",
    "def encode_dataset_batch(tokenizer, dataset_batch, stride=256):\n",
    "    encodings = tokenizer(text = dataset_batch[\"Text\"], add_special_tokens=True, \n",
    "                      padding=\"longest\", truncation=True, return_overflowing_tokens=True, stride=stride,\n",
    "                      # 2020: https://docs.nvidia.com/deeplearning/performance/mixed-precision-training/index.html#tensor-core-shape\n",
    "                      # However now in 2023, this is less and less true, newer drivers and cuda versions are smarter about this and will be able to use tensorcores even without this aligned padding\n",
    "                      pad_to_multiple_of=16, return_tensors=\"pt\")\n",
    "\n",
    "    encodings[\"overflow_to_sample_uri\"] = list(map(lambda sample_id: dataset_batch[\"Uri\"][sample_id.item()], encodings[\"overflow_to_sample_mapping\"]))\n",
    "    encodings[\"overflow_to_sample_offset\"] = list(map(get_encoding_offsets, encodings.encodings))\n",
    "    \n",
    "    return encodings\n",
    "\n",
    "def get_encodings_batches(tokenizer, dataset, batch_size=32, stride=256):\n",
    "    for dataset_batch in get_dataset_batches(dataset, batch_size):\n",
    "        encodings = encode_dataset_batch(tokenizer, dataset_batch, stride)\n",
    "        \n",
    "        encodings_length = len(encodings.encodings)\n",
    "        for start_idx in range(0, encodings_length, batch_size):\n",
    "            end_idx = min(start_idx + batch_size, encodings_length)\n",
    "            yield {key: encodings[key][start_idx:end_idx] for key in encodings.data.keys()}"
   ]
  },
  {
   "cell_type": "code",
   "execution_count": 7,
   "id": "5786d0e2-8ae8-498b-aa65-cc6ac45b14ff",
   "metadata": {},
   "outputs": [],
   "source": [
    "import torch.nn.functional as F\n",
    "\n",
    "class PPLu():\n",
    "    \n",
    "    def __init__(self, dataset_iterator, tokenizer, device):\n",
    "        if hasattr(tokenizer,\"vocab\"):\n",
    "            self.vocab_size = len(tokenizer.vocab)\n",
    "        else:\n",
    "            self.vocab_size = tokenizer.vocab_size\n",
    "        dataset_token_id_counts = torch.zeros(self.vocab_size+1, dtype=torch.int64)\n",
    "        dataset_tokens_count = 0\n",
    "        \n",
    "        for idx,dataset_batch in enumerate(dataset_iterator):\n",
    "            encodings = tokenizer(text = dataset_batch[\"Text\"], add_special_tokens=True, padding=\"longest\", return_tensors=\"pt\")\n",
    "            \n",
    "            # Padding tokens should be ignored: count them as token_id=vocabulary_size\n",
    "            token_ids = encodings.input_ids*encodings.attention_mask + self.vocab_size*(1-encodings.attention_mask)\n",
    "            \n",
    "            token_id_counts = torch.bincount(token_ids.view(-1), minlength=self.vocab_size+1)\n",
    "            tokens_count = encodings.attention_mask.sum()\n",
    "\n",
    "            dataset_token_id_counts += token_id_counts\n",
    "            dataset_tokens_count += tokens_count\n",
    "            if idx%100==9: print(f\"... {dataset_tokens_count:,} tokens\")\n",
    "        \n",
    "        # Then discard the tokens count for token_id=vocabulary_size\n",
    "        self.token_id_probs =  (dataset_token_id_counts[:-1] / dataset_tokens_count).unsqueeze(1).to(device)\n",
    "        self.perplexity_loss = torch.nn.CrossEntropyLoss(ignore_index=-100, reduction=\"none\")\n",
    "        print(f\"Done: {dataset_tokens_count:,} tokens\")\n",
    "\n",
    "    def __call__(self, input_ids, attention_mask, output_logits):\n",
    "        # Next-token prediction: shift prediction scores and input ids by one\n",
    "        logits = output_logits[:, :-1, :].permute(0, 2, 1).contiguous()\n",
    "        labels = input_ids[:, 1:].contiguous()\n",
    "        labels_to_ignore = attention_mask[:, 1:]\n",
    "\n",
    "        # Number of tokens predicted, ignoring padding tokens\n",
    "        predicted_tokens_count = labels_to_ignore.sum(dim=1)\n",
    "        \n",
    "        # Cross entropy loss (ignore_index=-100)\n",
    "        labels_for_crossentropy = labels*labels_to_ignore -100*(1-labels_to_ignore)\n",
    "        batch_perplexity_losses = (1/predicted_tokens_count)*self.perplexity_loss(logits, labels_for_crossentropy).sum(1)\n",
    "        \n",
    "        # Unigram probability loss\n",
    "        labels_probs = F.embedding(labels, self.token_id_probs).squeeze()\n",
    "        # prob = 1 for padding tokens => log prob = 0, ignored in the sum below\n",
    "        labels_probs = labels_probs*labels_to_ignore + (1-labels_to_ignore) \n",
    "        batch_unigram_losses = -(1/predicted_tokens_count)*torch.log(labels_probs).sum(dim=1)\n",
    "        \n",
    "        # Unigram-nomralized perplexities\n",
    "        perplexities = torch.exp(batch_perplexity_losses)\n",
    "        unigram_normalized_perplexities = torch.exp(batch_perplexity_losses - batch_unigram_losses)\n",
    "        \n",
    "        return predicted_tokens_count, batch_perplexity_losses, batch_unigram_losses, perplexities, unigram_normalized_perplexities\n",
    "\n",
    "class NormalizedPerplexityLogger:\n",
    "    def __init__(self, dataset_name, split, model_name):\n",
    "        self.filename = f\"{dataset_name.replace('/','_')}_{split}_{model_name.replace('/','_')}_pplu.csv\"\n",
    "        self.file = open(self.filename, 'w')\n",
    "        \n",
    "    def log_batch(self, ppl, pplu, uri, span):\n",
    "        self.file.write(f\"{ppl},{pplu},{uri},{span}\\n\")"
   ]
  },
  {
   "cell_type": "code",
   "execution_count": 8,
   "id": "38f31dcf-0270-47eb-8ba1-3eee78471991",
   "metadata": {},
   "outputs": [
    {
     "name": "stdout",
     "output_type": "stream",
     "text": [
      "Computing perplexity on dataset frenchtext/bank-en-2401:valid for mistralai/Mixtral-8x7B-v0.1\n",
      "- model vocabulary: 32000\n",
      "- model sequence length: 8192\n",
      "- model torch dtype: torch.bfloat16\n"
     ]
    }
   ],
   "source": [
    "if tokenizer.pad_token is None:\n",
    "    tokenizer.pad_token = tokenizer.eos_token\n",
    "\n",
    "tokenizer.model_max_length = int(min(tokenizer.model_max_length, model.config.max_position_embeddings))\n",
    "# Align to memory limit of RTX 4090\n",
    "if tokenizer.model_max_length>8192:\n",
    "    tokenizer.model_max_length = 8192\n",
    "    \n",
    "print(f\"Computing perplexity on dataset {dataset_name}:{split} for {model_name}\")\n",
    "print(f\"- model vocabulary: {len(tokenizer.vocab)}\")\n",
    "print(f\"- model sequence length: {int(tokenizer.model_max_length)}\")\n",
    "print(f\"- model torch dtype: {model.dtype}\")"
   ]
  },
  {
   "cell_type": "code",
   "execution_count": 9,
   "id": "674d25a8-751c-4ccd-a919-db43a63efad4",
   "metadata": {},
   "outputs": [
    {
     "data": {
      "application/vnd.jupyter.widget-view+json": {
       "model_id": "b9cb0a5ae13d46868490e0737c969974",
       "version_major": 2,
       "version_minor": 0
      },
      "text/plain": [
       "Filter:   0%|          | 0/2555 [00:00<?, ? examples/s]"
      ]
     },
     "metadata": {},
     "output_type": "display_data"
    },
    {
     "name": "stderr",
     "output_type": "stream",
     "text": [
      "Token indices sequence length is longer than the specified maximum sequence length for this model (640539 > 8192). Running this sequence through the model will result in indexing errors\n"
     ]
    },
    {
     "name": "stdout",
     "output_type": "stream",
     "text": [
      "... 8,023,611 tokens\n",
      "Done: 10,159,135 tokens\n",
      "CPU times: user 6min 44s, sys: 13.8 s, total: 6min 57s\n",
      "Wall time: 1min 59s\n"
     ]
    }
   ],
   "source": [
    "%%time\n",
    "pplu_loss = PPLu(get_dataset_batches(dataset), tokenizer, model.device)"
   ]
  },
  {
   "cell_type": "code",
   "execution_count": 10,
   "id": "53f6fe1c-979a-4aa3-a2cc-5309f2d58da2",
   "metadata": {},
   "outputs": [
    {
     "name": "stdout",
     "output_type": "stream",
     "text": [
      "- dataset examples: 2555\n",
      "- batch_size=6, stride=256\n"
     ]
    }
   ],
   "source": [
    "batch_size = 6\n",
    "stride = 256\n",
    "\n",
    "print(f\"- dataset examples: {len(dataset)}\")\n",
    "print(f\"- batch_size={batch_size}, stride={stride}\")"
   ]
  },
  {
   "cell_type": "code",
   "execution_count": 11,
   "id": "45906a4a-b798-4a57-b2df-5b55981a1926",
   "metadata": {},
   "outputs": [
    {
     "name": "stdout",
     "output_type": "stream",
     "text": [
      "6 encodings processed\n",
      "-> perplexity = 2.095\n",
      "-> unigram-normalized perplexity = 3.686 (x1000)\n",
      "66 encodings processed\n",
      "-> perplexity = 2.403\n",
      "-> unigram-normalized perplexity = 4.287 (x1000)\n",
      "126 encodings processed\n",
      "-> perplexity = 2.838\n",
      "-> unigram-normalized perplexity = 5.400 (x1000)\n",
      "186 encodings processed\n",
      "-> perplexity = 3.044\n",
      "-> unigram-normalized perplexity = 6.083 (x1000)\n",
      "246 encodings processed\n",
      "-> perplexity = 3.159\n",
      "-> unigram-normalized perplexity = 6.535 (x1000)\n",
      "306 encodings processed\n",
      "-> perplexity = 3.166\n",
      "-> unigram-normalized perplexity = 6.334 (x1000)\n",
      "366 encodings processed\n",
      "-> perplexity = 3.166\n",
      "-> unigram-normalized perplexity = 6.427 (x1000)\n",
      "426 encodings processed\n",
      "-> perplexity = 3.276\n",
      "-> unigram-normalized perplexity = 6.809 (x1000)\n",
      "486 encodings processed\n",
      "-> perplexity = 3.292\n",
      "-> unigram-normalized perplexity = 6.973 (x1000)\n",
      "546 encodings processed\n",
      "-> perplexity = 3.323\n",
      "-> unigram-normalized perplexity = 6.948 (x1000)\n",
      "606 encodings processed\n",
      "-> perplexity = 3.345\n",
      "-> unigram-normalized perplexity = 6.943 (x1000)\n",
      "666 encodings processed\n",
      "-> perplexity = 3.374\n",
      "-> unigram-normalized perplexity = 6.842 (x1000)\n",
      "726 encodings processed\n",
      "-> perplexity = 3.363\n",
      "-> unigram-normalized perplexity = 6.690 (x1000)\n",
      "786 encodings processed\n",
      "-> perplexity = 3.389\n",
      "-> unigram-normalized perplexity = 6.561 (x1000)\n",
      "846 encodings processed\n",
      "-> perplexity = 3.428\n",
      "-> unigram-normalized perplexity = 6.504 (x1000)\n",
      "906 encodings processed\n",
      "-> perplexity = 3.479\n",
      "-> unigram-normalized perplexity = 6.474 (x1000)\n",
      "966 encodings processed\n",
      "-> perplexity = 3.491\n",
      "-> unigram-normalized perplexity = 6.486 (x1000)\n",
      "1026 encodings processed\n",
      "-> perplexity = 3.494\n",
      "-> unigram-normalized perplexity = 6.413 (x1000)\n",
      "1086 encodings processed\n",
      "-> perplexity = 3.501\n",
      "-> unigram-normalized perplexity = 6.393 (x1000)\n",
      "1146 encodings processed\n",
      "-> perplexity = 3.510\n",
      "-> unigram-normalized perplexity = 6.316 (x1000)\n",
      "1206 encodings processed\n",
      "-> perplexity = 3.515\n",
      "-> unigram-normalized perplexity = 6.243 (x1000)\n",
      "1266 encodings processed\n",
      "-> perplexity = 3.520\n",
      "-> unigram-normalized perplexity = 6.164 (x1000)\n",
      "1326 encodings processed\n",
      "-> perplexity = 3.527\n",
      "-> unigram-normalized perplexity = 6.090 (x1000)\n",
      "1386 encodings processed\n",
      "-> perplexity = 3.533\n",
      "-> unigram-normalized perplexity = 6.031 (x1000)\n",
      "1446 encodings processed\n",
      "-> perplexity = 3.546\n",
      "-> unigram-normalized perplexity = 5.965 (x1000)\n",
      "1506 encodings processed\n",
      "-> perplexity = 3.554\n",
      "-> unigram-normalized perplexity = 5.907 (x1000)\n",
      "1566 encodings processed\n",
      "-> perplexity = 3.559\n",
      "-> unigram-normalized perplexity = 5.867 (x1000)\n",
      "1626 encodings processed\n",
      "-> perplexity = 3.565\n",
      "-> unigram-normalized perplexity = 5.830 (x1000)\n",
      "1686 encodings processed\n",
      "-> perplexity = 3.570\n",
      "-> unigram-normalized perplexity = 5.800 (x1000)\n",
      "1746 encodings processed\n",
      "-> perplexity = 3.576\n",
      "-> unigram-normalized perplexity = 5.775 (x1000)\n",
      "1806 encodings processed\n",
      "-> perplexity = 3.581\n",
      "-> unigram-normalized perplexity = 5.754 (x1000)\n",
      "1866 encodings processed\n",
      "-> perplexity = 3.586\n",
      "-> unigram-normalized perplexity = 5.728 (x1000)\n",
      "1926 encodings processed\n",
      "-> perplexity = 3.591\n",
      "-> unigram-normalized perplexity = 5.712 (x1000)\n",
      "1986 encodings processed\n",
      "-> perplexity = 3.596\n",
      "-> unigram-normalized perplexity = 5.693 (x1000)\n",
      "2046 encodings processed\n",
      "-> perplexity = 3.600\n",
      "-> unigram-normalized perplexity = 5.680 (x1000)\n",
      "2106 encodings processed\n",
      "-> perplexity = 3.604\n",
      "-> unigram-normalized perplexity = 5.670 (x1000)\n",
      "2166 encodings processed\n",
      "-> perplexity = 3.608\n",
      "-> unigram-normalized perplexity = 5.656 (x1000)\n",
      "2226 encodings processed\n",
      "-> perplexity = 3.613\n",
      "-> unigram-normalized perplexity = 5.649 (x1000)\n",
      "2286 encodings processed\n",
      "-> perplexity = 3.616\n",
      "-> unigram-normalized perplexity = 5.640 (x1000)\n",
      "2346 encodings processed\n",
      "-> perplexity = 3.621\n",
      "-> unigram-normalized perplexity = 5.631 (x1000)\n",
      "2406 encodings processed\n",
      "-> perplexity = 3.625\n",
      "-> unigram-normalized perplexity = 5.622 (x1000)\n",
      "2466 encodings processed\n",
      "-> perplexity = 3.629\n",
      "-> unigram-normalized perplexity = 5.615 (x1000)\n",
      "2526 encodings processed\n",
      "-> perplexity = 3.633\n",
      "-> unigram-normalized perplexity = 5.610 (x1000)\n",
      "2586 encodings processed\n",
      "-> perplexity = 3.636\n",
      "-> unigram-normalized perplexity = 5.606 (x1000)\n",
      "2646 encodings processed\n",
      "-> perplexity = 3.639\n",
      "-> unigram-normalized perplexity = 5.601 (x1000)\n",
      "2706 encodings processed\n",
      "-> perplexity = 3.642\n",
      "-> unigram-normalized perplexity = 5.596 (x1000)\n",
      "2766 encodings processed\n",
      "-> perplexity = 3.645\n",
      "-> unigram-normalized perplexity = 5.592 (x1000)\n",
      "2826 encodings processed\n",
      "-> perplexity = 3.648\n",
      "-> unigram-normalized perplexity = 5.589 (x1000)\n",
      "2886 encodings processed\n",
      "-> perplexity = 3.652\n",
      "-> unigram-normalized perplexity = 5.591 (x1000)\n",
      "2946 encodings processed\n",
      "-> perplexity = 3.655\n",
      "-> unigram-normalized perplexity = 5.592 (x1000)\n",
      "3006 encodings processed\n",
      "-> perplexity = 3.656\n",
      "-> unigram-normalized perplexity = 5.586 (x1000)\n",
      "3066 encodings processed\n",
      "-> perplexity = 3.658\n",
      "-> unigram-normalized perplexity = 5.587 (x1000)\n",
      "3126 encodings processed\n",
      "-> perplexity = 3.661\n",
      "-> unigram-normalized perplexity = 5.588 (x1000)\n",
      "3186 encodings processed\n",
      "-> perplexity = 3.663\n",
      "-> unigram-normalized perplexity = 5.591 (x1000)\n",
      "3246 encodings processed\n",
      "-> perplexity = 3.665\n",
      "-> unigram-normalized perplexity = 5.594 (x1000)\n",
      "3306 encodings processed\n",
      "-> perplexity = 3.668\n",
      "-> unigram-normalized perplexity = 5.597 (x1000)\n",
      "3366 encodings processed\n",
      "-> perplexity = 3.670\n",
      "-> unigram-normalized perplexity = 5.600 (x1000)\n",
      "3426 encodings processed\n",
      "-> perplexity = 3.672\n",
      "-> unigram-normalized perplexity = 5.603 (x1000)\n",
      "FINAL RESULT: 3432 encodings processed\n",
      "-> perplexity = 3.672\n",
      "-> unigram-normalized perplexity = 5.603 (x1000)\n",
      "CPU times: user 1h 1min 18s, sys: 5.88 s, total: 1h 1min 24s\n",
      "Wall time: 56min 44s\n"
     ]
    }
   ],
   "source": [
    "%%time\n",
    "import math\n",
    "\n",
    "logger = NormalizedPerplexityLogger(dataset_name, split, model_name)\n",
    "\n",
    "def display_perplexities(pred_tokens_count, ppl_losses, unigram_losses):        \n",
    "    pt_pred_tokens_count = torch.Tensor(pred_tokens_count)\n",
    "    total_pred_tokens_count = pt_pred_tokens_count.sum().item()\n",
    "    \n",
    "    pt_ppl_losses = torch.Tensor(ppl_losses)\n",
    "    pt_unigram_losses = torch.Tensor(unigram_losses)    \n",
    "    pt_pplu_losses = pt_ppl_losses - pt_unigram_losses\n",
    "\n",
    "    ppl = math.exp((pt_ppl_losses*pt_pred_tokens_count).sum().item() / total_pred_tokens_count)\n",
    "    pplu = math.exp((pt_pplu_losses*pt_pred_tokens_count).sum().item() / total_pred_tokens_count)\n",
    "\n",
    "    print(f\"-> perplexity = {ppl:.3f}\")\n",
    "    print(f\"-> unigram-normalized perplexity = {pplu*1000:.3f} (x1000)\")\n",
    "    \n",
    "pred_tokens_count = [] \n",
    "ppl_losses = []   \n",
    "unigram_losses = [] \n",
    "for idx,encodings_batch in enumerate(get_encodings_batches(tokenizer, dataset, batch_size=batch_size, stride=stride)):\n",
    "    with torch.no_grad():\n",
    "        # predict next token\n",
    "        inputs = encodings_batch[\"input_ids\"].to(model.device)\n",
    "        attention_mask = encodings_batch[\"attention_mask\"].to(model.device)\n",
    "        outputs = model(input_ids=inputs, attention_mask=attention_mask, use_cache=False, output_attentions=False, output_hidden_states=False)\n",
    "\n",
    "        batch_pred_tokens_count, batch_ppl_losses, batch_unigram_losses, batch_ppl, batch_pplu = pplu_loss(inputs, attention_mask, outputs.logits)\n",
    "        \n",
    "        pred_tokens_count.extend(batch_pred_tokens_count.tolist())\n",
    "        ppl_losses.extend(batch_ppl_losses.tolist())\n",
    "        unigram_losses.extend(batch_unigram_losses.tolist())\n",
    "\n",
    "    for ppl,pplu,uri,span in zip(batch_ppl.tolist(), batch_pplu.tolist(), encodings_batch[\"overflow_to_sample_uri\"], encodings_batch[\"overflow_to_sample_offset\"]):\n",
    "        logger.log_batch(ppl, pplu, uri, span)\n",
    "\n",
    "    if idx%10 == 0:\n",
    "        print(f\"{(idx+1)*batch_size} encodings processed\")\n",
    "        display_perplexities(pred_tokens_count, ppl_losses, unigram_losses)\n",
    "\n",
    "print(f\"FINAL RESULT: {(idx+1)*batch_size} encodings processed\")\n",
    "display_perplexities(pred_tokens_count, ppl_losses, unigram_losses)"
   ]
  },
  {
   "cell_type": "code",
   "execution_count": 12,
   "id": "ec927146-532e-4ad5-9634-d7256288f7ea",
   "metadata": {},
   "outputs": [
    {
     "name": "stdout",
     "output_type": "stream",
     "text": [
      "NVIDIA RTX 6000 Ada Generation\n",
      "Total    : 48,647.1 MB\n",
      "------------------------------\n",
      "Overhead :    517.6 MB -   1 %\n",
      "Reserved : 45,062.0 MB -  92 %\n",
      "Free     :  3,067.5 MB -   6 %\n",
      "------------------------------\n",
      "Used     : 26,010.2 MB -  53 %\n",
      "Max used : 43,988.5 MB -  90 %\n"
     ]
    }
   ],
   "source": [
    "display_memory()"
   ]
  },
  {
   "cell_type": "code",
   "execution_count": null,
   "id": "b7395db6-8477-43c2-b90d-7eaa0069035b",
   "metadata": {},
   "outputs": [],
   "source": []
  }
 ],
 "metadata": {
  "kernelspec": {
   "display_name": "wordslab-llms",
   "language": "python",
   "name": "wordslab-llms"
  },
  "language_info": {
   "codemirror_mode": {
    "name": "ipython",
    "version": 3
   },
   "file_extension": ".py",
   "mimetype": "text/x-python",
   "name": "python",
   "nbconvert_exporter": "python",
   "pygments_lexer": "ipython3",
   "version": "3.10.13"
  }
 },
 "nbformat": 4,
 "nbformat_minor": 5
}
