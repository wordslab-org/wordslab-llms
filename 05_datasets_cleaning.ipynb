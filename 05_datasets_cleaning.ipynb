{
 "cells": [
  {
   "cell_type": "markdown",
   "id": "43726fd0-9187-435e-ae98-ba68522fe559",
   "metadata": {},
   "source": [
    "# lilac\n",
    "\n",
    "Lilac helps you curate data for LLMs, from RAGs to fine-tuning datasets.\n",
    "\n",
    "https://github.com/lilacai/lilac\n",
    "\n",
    "https://www.lilacml.com/"
   ]
  },
  {
   "cell_type": "markdown",
   "id": "ec47d152-797c-49e9-b624-7954aaa549dc",
   "metadata": {},
   "source": [
    "## Installation"
   ]
  },
  {
   "cell_type": "markdown",
   "id": "e19ec358-675d-4aff-8934-2f6ca6b0aada",
   "metadata": {},
   "source": [
    "**Documentation: lilac optional components**\n",
    "\n",
    "https://github.com/lilacai/lilac/blob/main/pyproject.toml\n",
    "\n",
    "llms = [\"openai\"]\n",
    "\n",
    "langsmith = [\"langsmith\"]\n",
    "\n",
    "github = [\"llama-index\", \"llama-hub\"]\n",
    "\n",
    "signals = [\"textacy\", \"detect-secrets\", \"langdetect\", \"hdbscan\"]\n",
    "\n",
    "*Individual signals*\n",
    "\n",
    "lang_detection = [\"langdetect\"]               # Language detection.\n",
    "\n",
    "pii = [\"detect-secrets\", \"presidio_analyzer\"] # PII.\n",
    "\n",
    "text_stats = [\"textacy\"]                      # Text statistics.\n",
    "\n",
    "*Individual embeddings*\n",
    "\n",
    "gte = [\"sentence-transformers\"]\n",
    "\n",
    "sbert = [\"sentence-transformers\"]\n",
    "\n",
    "cohere = [\"cohere\"]\n",
    "\n",
    "palm = [\"google-generativeai\", \"google-cloud-aiplatform\"]\n",
    "\n",
    "openai = [\"openai\"]"
   ]
  },
  {
   "cell_type": "markdown",
   "id": "c8de0cc1-db4b-4a1b-82c5-71f1186b8859",
   "metadata": {},
   "source": [
    "### 1. Lilac Server\n",
    "\n",
    "#### 1.1 Configure the Kubernetes cluster on the host virtual machine\n",
    "\n",
    "Open a terminal inside the host virtual machine.\n",
    "\n",
    "*Update the Kubernetes config: add a lilac service mapped to the root url*\n",
    "\n",
    "- vi lilac-add.yaml\n",
    "\n",
    "```yaml\n",
    "apiVersion: traefik.containo.us/v1alpha1\n",
    "kind: IngressRoute\n",
    "metadata:\n",
    "  name: wordslab-notebooks-ingressroute\n",
    "  labels:\n",
    "    wordslab.org/app: wordslab-notebooks\n",
    "    wordslab.org/component: jupyterlab\n",
    "  annotations:\n",
    "    ........\n",
    "spec:\n",
    "  entryPoints:\n",
    "    - web\n",
    "  routes:\n",
    "  - match: PathPrefix(`/notebooks`)\n",
    "    kind: Rule\n",
    "    services:\n",
    "    - name: wordslab-notebooks-service\n",
    "      port: 8888\n",
    "  ........\n",
    "  - match: PathPrefix(`/`)\n",
    "    kind: Rule\n",
    "    services:\n",
    "    - name: wordslab-lilac-service\n",
    "      port: 5432\n",
    "---\n",
    "apiVersion: v1\n",
    "kind: Service\n",
    "metadata:\n",
    "  name: wordslab-lilac-service\n",
    "  labels:\n",
    "    wordslab.org/app: wordslab-notebooks\n",
    "    wordslab.org/component: jupyterlab\n",
    "spec:\n",
    "  type: ClusterIP\n",
    "  ports:\n",
    "    - port: 5432\n",
    "      targetPort: 5432\n",
    "      protocol: TCP\n",
    "  selector:\n",
    "    wordslab.org/app: wordslab-notebooks\n",
    "    wordslab.org/component: jupyterlab\n",
    "```\n",
    "\n",
    "#### 1.2 Launch the lilac server inside the Jupyterlab conatainer\n",
    "\n",
    "Open a Jupyterlab Terminal \n",
    "\n",
    "*Install lilac server*\n",
    "\n",
    "- create-workspace-project lilac\n",
    "- cd /workspace/lilac\n",
    "- source .venv/bin/activate\n",
    "- pip install lilac[signals,gte]\n",
    "- vi lilac-start.py\n",
    "\n",
    "```python\n",
    "import lilac as ll\n",
    "\n",
    "project_dir = '/workspace/lilac/bank-project'\n",
    "server = ll.start_server(host='0.0.0.0', port=5432, project_dir=project_dir)\n",
    "```\n",
    "\n",
    "*Start lilac server*\n",
    "\n",
    "- cd /workspace/lilac\n",
    "- source .venv/bin/activate\n",
    "- python lilac-start.py\n",
    "\n",
    "*Open lilac UI in the browser*\n",
    "\n",
    "Navigate to the root URL of the host machine:\n",
    "\n",
    "http://192.168.1.24/ "
   ]
  },
  {
   "cell_type": "markdown",
   "id": "a7be6504-33d5-4ef1-9efb-ea124871f868",
   "metadata": {},
   "source": [
    "### 2. Lilac notebook client"
   ]
  },
  {
   "cell_type": "markdown",
   "id": "f86838be-4728-496d-bcd4-d834f3b9ccff",
   "metadata": {
    "execution": {
     "iopub.execute_input": "2024-01-13T14:43:33.156077Z",
     "iopub.status.busy": "2024-01-13T14:43:33.155664Z",
     "iopub.status.idle": "2024-01-13T14:43:33.162486Z",
     "shell.execute_reply": "2024-01-13T14:43:33.161985Z",
     "shell.execute_reply.started": "2024-01-13T14:43:33.156062Z"
    },
    "tags": []
   },
   "source": [
    "#### 2.1 Install and initialize dataset"
   ]
  },
  {
   "cell_type": "code",
   "execution_count": null,
   "id": "5ef8f6b1-853b-4ee0-9a23-d167c4932c9c",
   "metadata": {
    "tags": []
   },
   "outputs": [],
   "source": [
    "pip install --update lilac[signals,gte]"
   ]
  },
  {
   "cell_type": "code",
   "execution_count": 1,
   "id": "7fd780ec-0b7f-46ff-b561-ba21adc243d0",
   "metadata": {
    "execution": {
     "iopub.execute_input": "2024-01-20T18:14:54.461458Z",
     "iopub.status.busy": "2024-01-20T18:14:54.461249Z",
     "iopub.status.idle": "2024-01-20T18:14:57.098909Z",
     "shell.execute_reply": "2024-01-20T18:14:57.098451Z",
     "shell.execute_reply.started": "2024-01-20T18:14:54.461435Z"
    },
    "tags": []
   },
   "outputs": [
    {
     "name": "stderr",
     "output_type": "stream",
     "text": [
      "/usr/lib/python3/dist-packages/scipy/__init__.py:146: UserWarning: A NumPy version >=1.17.3 and <1.25.0 is required for this version of SciPy (detected version 1.26.3\n",
      "  warnings.warn(f\"A NumPy version >={np_minversion} and <{np_maxversion}\"\n"
     ]
    }
   ],
   "source": [
    "import lilac as ll\n",
    "\n",
    "project_dir = '/workspace/lilac/bank-project'\n",
    "ll.set_project_dir(project_dir)"
   ]
  },
  {
   "cell_type": "code",
   "execution_count": 2,
   "id": "2a816a84-ab83-4ec6-95a6-a1a0b5d31de0",
   "metadata": {
    "execution": {
     "iopub.execute_input": "2024-01-20T18:15:00.783769Z",
     "iopub.status.busy": "2024-01-20T18:15:00.783274Z",
     "iopub.status.idle": "2024-01-20T18:15:00.786887Z",
     "shell.execute_reply": "2024-01-20T18:15:00.786410Z",
     "shell.execute_reply.started": "2024-01-20T18:15:00.783754Z"
    },
    "tags": []
   },
   "outputs": [],
   "source": [
    "with open(\"/workspace/hftoken\", 'r') as file:\n",
    "    myhftoken = file.read().strip()"
   ]
  },
  {
   "cell_type": "code",
   "execution_count": 3,
   "id": "879e1015-0bf7-4654-8ead-e6697c6f7e9e",
   "metadata": {
    "execution": {
     "iopub.execute_input": "2024-01-20T18:15:09.385253Z",
     "iopub.status.busy": "2024-01-20T18:15:09.385074Z",
     "iopub.status.idle": "2024-01-20T18:15:24.527714Z",
     "shell.execute_reply": "2024-01-20T18:15:24.527092Z",
     "shell.execute_reply.started": "2024-01-20T18:15:09.385243Z"
    },
    "tags": []
   },
   "outputs": [
    {
     "data": {
      "application/vnd.jupyter.widget-view+json": {
       "model_id": "580d61f12af24f868b5a0f684098b481",
       "version_major": 2,
       "version_minor": 0
      },
      "text/plain": [
       "Resolving data files:   0%|          | 0/42 [00:00<?, ?it/s]"
      ]
     },
     "metadata": {},
     "output_type": "display_data"
    },
    {
     "data": {
      "application/vnd.jupyter.widget-view+json": {
       "model_id": "f9b282de139f45b096d8ffc21935556f",
       "version_major": 2,
       "version_minor": 0
      },
      "text/plain": [
       "Resolving data files:   0%|          | 0/42 [00:00<?, ?it/s]"
      ]
     },
     "metadata": {},
     "output_type": "display_data"
    },
    {
     "data": {
      "application/vnd.jupyter.widget-view+json": {
       "model_id": "3855e0025c3a4d838726f87b80516a10",
       "version_major": 2,
       "version_minor": 0
      },
      "text/plain": [
       "Resolving data files:   0%|          | 0/42 [00:00<?, ?it/s]"
      ]
     },
     "metadata": {},
     "output_type": "display_data"
    },
    {
     "data": {
      "application/vnd.jupyter.widget-view+json": {
       "model_id": "de6fb0a381614f8d9d9da14e7037a628",
       "version_major": 2,
       "version_minor": 0
      },
      "text/plain": [
       "Resolving data files:   0%|          | 0/42 [00:00<?, ?it/s]"
      ]
     },
     "metadata": {},
     "output_type": "display_data"
    },
    {
     "data": {
      "application/vnd.jupyter.widget-view+json": {
       "model_id": "67b8d458984e40eeab07701aae2dfba6",
       "version_major": 2,
       "version_minor": 0
      },
      "text/plain": [
       "Resolving data files:   0%|          | 0/42 [00:00<?, ?it/s]"
      ]
     },
     "metadata": {},
     "output_type": "display_data"
    },
    {
     "data": {
      "application/vnd.jupyter.widget-view+json": {
       "model_id": "6c81a9e6df7442e083df537d0974a072",
       "version_major": 2,
       "version_minor": 0
      },
      "text/plain": [
       "Resolving data files:   0%|          | 0/42 [00:00<?, ?it/s]"
      ]
     },
     "metadata": {},
     "output_type": "display_data"
    },
    {
     "data": {
      "application/vnd.jupyter.widget-view+json": {
       "model_id": "30b3901407884a94b50f4681e774980a",
       "version_major": 2,
       "version_minor": 0
      },
      "text/plain": [
       "FloatProgress(value=0.0, layout=Layout(width='auto'), style=ProgressStyle(bar_color='black'))"
      ]
     },
     "metadata": {},
     "output_type": "display_data"
    },
    {
     "name": "stdout",
     "output_type": "stream",
     "text": [
      "Dataset \"banque-fr-2311\" written to /workspace/lilac/bank-project/datasets/local/banque-fr-2311\n"
     ]
    }
   ],
   "source": [
    "source = ll.HuggingFaceSource(dataset_name='frenchtext/banque-fr-2311', split=\"valid\", token=myhftoken)\n",
    "config = ll.DatasetConfig(namespace='local', name='banque-fr-2311', source=source)\n",
    "dataset = ll.create_dataset(config)"
   ]
  },
  {
   "cell_type": "markdown",
   "id": "2859afe0-9712-4cf3-bd4c-4fa5d9c6f155",
   "metadata": {},
   "source": [
    "Refresh the lilac home page in your browser => the new local dataset is available !"
   ]
  },
  {
   "cell_type": "code",
   "execution_count": 7,
   "id": "ca1b305d-9bd9-4a95-8ef5-1091263b5b6a",
   "metadata": {
    "execution": {
     "iopub.execute_input": "2024-01-20T18:17:47.554931Z",
     "iopub.status.busy": "2024-01-20T18:17:47.554735Z",
     "iopub.status.idle": "2024-01-20T18:17:53.468870Z",
     "shell.execute_reply": "2024-01-20T18:17:53.468414Z",
     "shell.execute_reply.started": "2024-01-20T18:17:47.554921Z"
    },
    "tags": []
   },
   "outputs": [
    {
     "data": {
      "application/vnd.jupyter.widget-view+json": {
       "model_id": "0a87ba0faa8f4843bab5dff704227755",
       "version_major": 2,
       "version_minor": 0
      },
      "text/plain": [
       "Resolving data files:   0%|          | 0/43 [00:00<?, ?it/s]"
      ]
     },
     "metadata": {},
     "output_type": "display_data"
    },
    {
     "data": {
      "application/vnd.jupyter.widget-view+json": {
       "model_id": "af69c699a5e54f78b037094d7f7bf990",
       "version_major": 2,
       "version_minor": 0
      },
      "text/plain": [
       "Resolving data files:   0%|          | 0/43 [00:00<?, ?it/s]"
      ]
     },
     "metadata": {},
     "output_type": "display_data"
    },
    {
     "data": {
      "application/vnd.jupyter.widget-view+json": {
       "model_id": "5d25aba7c69d419c91e9eb53f6e04983",
       "version_major": 2,
       "version_minor": 0
      },
      "text/plain": [
       "Resolving data files:   0%|          | 0/43 [00:00<?, ?it/s]"
      ]
     },
     "metadata": {},
     "output_type": "display_data"
    },
    {
     "data": {
      "application/vnd.jupyter.widget-view+json": {
       "model_id": "089089f08a554ed48dec1bf58a815b70",
       "version_major": 2,
       "version_minor": 0
      },
      "text/plain": [
       "Resolving data files:   0%|          | 0/43 [00:00<?, ?it/s]"
      ]
     },
     "metadata": {},
     "output_type": "display_data"
    },
    {
     "data": {
      "application/vnd.jupyter.widget-view+json": {
       "model_id": "d65ae8da3cd448eca63e174ca3bdd40e",
       "version_major": 2,
       "version_minor": 0
      },
      "text/plain": [
       "Resolving data files:   0%|          | 0/43 [00:00<?, ?it/s]"
      ]
     },
     "metadata": {},
     "output_type": "display_data"
    },
    {
     "data": {
      "application/vnd.jupyter.widget-view+json": {
       "model_id": "02f4da1a0a2d422991461c2c2f8af9d0",
       "version_major": 2,
       "version_minor": 0
      },
      "text/plain": [
       "Resolving data files:   0%|          | 0/43 [00:00<?, ?it/s]"
      ]
     },
     "metadata": {},
     "output_type": "display_data"
    },
    {
     "name": "stdout",
     "output_type": "stream",
     "text": [
      "Dataset \"bank-en-2401\" written to /workspace/lilac/bank-project/datasets/local/bank-en-2401\n"
     ]
    }
   ],
   "source": [
    "source = ll.HuggingFaceSource(dataset_name='frenchtext/bank-en-2401', split=\"valid\", token=myhftoken)\n",
    "config = ll.DatasetConfig(namespace='local', name='bank-en-2401', source=source)\n",
    "dataset = ll.create_dataset(config, overwrite=True)"
   ]
  },
  {
   "cell_type": "code",
   "execution_count": null,
   "id": "bec8d035-c189-488e-854e-45ffce4d011d",
   "metadata": {},
   "outputs": [],
   "source": []
  }
 ],
 "metadata": {
  "kernelspec": {
   "display_name": "lilac",
   "language": "python",
   "name": "lilac"
  },
  "language_info": {
   "codemirror_mode": {
    "name": "ipython",
    "version": 3
   },
   "file_extension": ".py",
   "mimetype": "text/x-python",
   "name": "python",
   "nbconvert_exporter": "python",
   "pygments_lexer": "ipython3",
   "version": "3.10.12"
  }
 },
 "nbformat": 4,
 "nbformat_minor": 5
}
