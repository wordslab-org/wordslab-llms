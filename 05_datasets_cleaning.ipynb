{
 "cells": [
  {
   "cell_type": "markdown",
   "id": "43726fd0-9187-435e-ae98-ba68522fe559",
   "metadata": {},
   "source": [
    "# lilac\n",
    "\n",
    "Lilac helps you curate data for LLMs, from RAGs to fine-tuning datasets.\n",
    "\n",
    "https://github.com/lilacai/lilac\n",
    "\n",
    "https://www.lilacml.com/"
   ]
  },
  {
   "cell_type": "markdown",
   "id": "ec47d152-797c-49e9-b624-7954aaa549dc",
   "metadata": {},
   "source": [
    "## Installation"
   ]
  },
  {
   "cell_type": "markdown",
   "id": "e19ec358-675d-4aff-8934-2f6ca6b0aada",
   "metadata": {},
   "source": [
    "**Documentation: lilac optional components**\n",
    "\n",
    "https://github.com/lilacai/lilac/blob/main/pyproject.toml\n",
    "\n",
    "llms = [\"openai\"]\n",
    "\n",
    "langsmith = [\"langsmith\"]\n",
    "\n",
    "github = [\"llama-index\", \"llama-hub\"]\n",
    "\n",
    "signals = [\"textacy\", \"detect-secrets\", \"langdetect\", \"hdbscan\"]\n",
    "\n",
    "*Individual signals*\n",
    "\n",
    "lang_detection = [\"langdetect\"]               # Language detection.\n",
    "\n",
    "pii = [\"detect-secrets\", \"presidio_analyzer\"] # PII.\n",
    "\n",
    "text_stats = [\"textacy\"]                      # Text statistics.\n",
    "\n",
    "*Individual embeddings*\n",
    "\n",
    "gte = [\"sentence-transformers\"]\n",
    "\n",
    "sbert = [\"sentence-transformers\"]\n",
    "\n",
    "cohere = [\"cohere\"]\n",
    "\n",
    "palm = [\"google-generativeai\", \"google-cloud-aiplatform\"]\n",
    "\n",
    "openai = [\"openai\"]"
   ]
  },
  {
   "cell_type": "markdown",
   "id": "c8de0cc1-db4b-4a1b-82c5-71f1186b8859",
   "metadata": {},
   "source": [
    "### 1. Lilac Server\n",
    "\n",
    "#### 1.1 Configure the Kubernetes cluster on the host virtual machine\n",
    "\n",
    "Open a terminal inside the host virtual machine.\n",
    "\n",
    "*Update the Kubernetes config: add a lilac service mapped to the root url*\n",
    "\n",
    "- vi lilac-add.yaml\n",
    "\n",
    "```yaml\n",
    "apiVersion: traefik.containo.us/v1alpha1\n",
    "kind: IngressRoute\n",
    "metadata:\n",
    "  name: wordslab-notebooks-ingressroute\n",
    "  labels:\n",
    "    wordslab.org/app: wordslab-notebooks\n",
    "    wordslab.org/component: jupyterlab\n",
    "  annotations:\n",
    "    ........\n",
    "spec:\n",
    "  entryPoints:\n",
    "    - web\n",
    "  routes:\n",
    "  - match: PathPrefix(`/notebooks`)\n",
    "    kind: Rule\n",
    "    services:\n",
    "    - name: wordslab-notebooks-service\n",
    "      port: 8888\n",
    "  ........\n",
    "  - match: PathPrefix(`/`)\n",
    "    kind: Rule\n",
    "    services:\n",
    "    - name: wordslab-lilac-service\n",
    "      port: 5432\n",
    "---\n",
    "apiVersion: v1\n",
    "kind: Service\n",
    "metadata:\n",
    "  name: wordslab-lilac-service\n",
    "  labels:\n",
    "    wordslab.org/app: wordslab-notebooks\n",
    "    wordslab.org/component: jupyterlab\n",
    "spec:\n",
    "  type: ClusterIP\n",
    "  ports:\n",
    "    - port: 5432\n",
    "      targetPort: 5432\n",
    "      protocol: TCP\n",
    "  selector:\n",
    "    wordslab.org/app: wordslab-notebooks\n",
    "    wordslab.org/component: jupyterlab\n",
    "```\n",
    "\n",
    "#### 1.2 Launch the lilac server inside the Jupyterlab conatainer\n",
    "\n",
    "Open a Jupyterlab Terminal \n",
    "\n",
    "*Install lilac server*\n",
    "\n",
    "- create-workspace-project lilac\n",
    "- cd /workspace/lilac\n",
    "- source .venv/bin/activate\n",
    "- pip install lilac[signals,gte]\n",
    "- vi lilac-start.py\n",
    "\n",
    "```python\n",
    "import lilac as ll\n",
    "\n",
    "project_dir = '/workspace/lilac/bank-project'\n",
    "server = ll.start_server(host='0.0.0.0', port=5432, project_dir=project_dir)\n",
    "```\n",
    "\n",
    "*Start lilac server*\n",
    "\n",
    "- cd /workspace/lilac\n",
    "- source .venv/bin/activate\n",
    "- python lilac-start.py\n",
    "\n",
    "*Open lilac UI in the browser*\n",
    "\n",
    "Navigate to the root URL of the host machine:\n",
    "\n",
    "http://192.168.1.24/ "
   ]
  },
  {
   "cell_type": "markdown",
   "id": "a7be6504-33d5-4ef1-9efb-ea124871f868",
   "metadata": {},
   "source": [
    "### 2. Lilac notebook client"
   ]
  },
  {
   "cell_type": "markdown",
   "id": "f86838be-4728-496d-bcd4-d834f3b9ccff",
   "metadata": {
    "execution": {
     "iopub.execute_input": "2024-01-13T14:43:33.156077Z",
     "iopub.status.busy": "2024-01-13T14:43:33.155664Z",
     "iopub.status.idle": "2024-01-13T14:43:33.162486Z",
     "shell.execute_reply": "2024-01-13T14:43:33.161985Z",
     "shell.execute_reply.started": "2024-01-13T14:43:33.156062Z"
    },
    "tags": []
   },
   "source": [
    "#### 2.1 Install and initialize dataset"
   ]
  },
  {
   "cell_type": "code",
   "execution_count": null,
   "id": "5ef8f6b1-853b-4ee0-9a23-d167c4932c9c",
   "metadata": {
    "tags": []
   },
   "outputs": [],
   "source": [
    "pip install lilac[signals,gte]"
   ]
  },
  {
   "cell_type": "code",
   "execution_count": 1,
   "id": "7fd780ec-0b7f-46ff-b561-ba21adc243d0",
   "metadata": {
    "execution": {
     "iopub.execute_input": "2024-01-13T14:53:13.742531Z",
     "iopub.status.busy": "2024-01-13T14:53:13.742431Z",
     "iopub.status.idle": "2024-01-13T14:53:15.190429Z",
     "shell.execute_reply": "2024-01-13T14:53:15.189989Z",
     "shell.execute_reply.started": "2024-01-13T14:53:13.742521Z"
    },
    "tags": []
   },
   "outputs": [],
   "source": [
    "import lilac as ll\n",
    "\n",
    "project_dir = '/workspace/lilac/bank-project'\n",
    "ll.set_project_dir(project_dir)"
   ]
  },
  {
   "cell_type": "code",
   "execution_count": 2,
   "id": "2a816a84-ab83-4ec6-95a6-a1a0b5d31de0",
   "metadata": {
    "execution": {
     "iopub.execute_input": "2024-01-13T14:53:18.531495Z",
     "iopub.status.busy": "2024-01-13T14:53:18.531128Z",
     "iopub.status.idle": "2024-01-13T14:53:18.537622Z",
     "shell.execute_reply": "2024-01-13T14:53:18.537178Z",
     "shell.execute_reply.started": "2024-01-13T14:53:18.531482Z"
    },
    "tags": []
   },
   "outputs": [],
   "source": [
    "with open(\"/workspace/hftoken\", 'r') as file:\n",
    "    myhftoken = file.read().strip()"
   ]
  },
  {
   "cell_type": "code",
   "execution_count": 3,
   "id": "879e1015-0bf7-4654-8ead-e6697c6f7e9e",
   "metadata": {
    "execution": {
     "iopub.execute_input": "2024-01-13T14:53:21.491913Z",
     "iopub.status.busy": "2024-01-13T14:53:21.491598Z",
     "iopub.status.idle": "2024-01-13T14:53:33.104828Z",
     "shell.execute_reply": "2024-01-13T14:53:33.104329Z",
     "shell.execute_reply.started": "2024-01-13T14:53:21.491898Z"
    },
    "tags": []
   },
   "outputs": [
    {
     "data": {
      "application/vnd.jupyter.widget-view+json": {
       "model_id": "b9b917f3d4f34986b94c97aed34ac302",
       "version_major": 2,
       "version_minor": 0
      },
      "text/plain": [
       "Resolving data files:   0%|          | 0/42 [00:00<?, ?it/s]"
      ]
     },
     "metadata": {},
     "output_type": "display_data"
    },
    {
     "data": {
      "application/vnd.jupyter.widget-view+json": {
       "model_id": "76a27e896d754227bc641c3480ae00c5",
       "version_major": 2,
       "version_minor": 0
      },
      "text/plain": [
       "Resolving data files:   0%|          | 0/42 [00:00<?, ?it/s]"
      ]
     },
     "metadata": {},
     "output_type": "display_data"
    },
    {
     "data": {
      "application/vnd.jupyter.widget-view+json": {
       "model_id": "7d44f4c0e3be47699d3410f38d883892",
       "version_major": 2,
       "version_minor": 0
      },
      "text/plain": [
       "Resolving data files:   0%|          | 0/42 [00:00<?, ?it/s]"
      ]
     },
     "metadata": {},
     "output_type": "display_data"
    },
    {
     "data": {
      "application/vnd.jupyter.widget-view+json": {
       "model_id": "094ca33d2bcd41c7bd3c0aa3170a075a",
       "version_major": 2,
       "version_minor": 0
      },
      "text/plain": [
       "Resolving data files:   0%|          | 0/42 [00:00<?, ?it/s]"
      ]
     },
     "metadata": {},
     "output_type": "display_data"
    },
    {
     "data": {
      "application/vnd.jupyter.widget-view+json": {
       "model_id": "a899389de2f64d8097628fd1d94f81de",
       "version_major": 2,
       "version_minor": 0
      },
      "text/plain": [
       "Resolving data files:   0%|          | 0/42 [00:00<?, ?it/s]"
      ]
     },
     "metadata": {},
     "output_type": "display_data"
    },
    {
     "data": {
      "application/vnd.jupyter.widget-view+json": {
       "model_id": "9f40f3646dc743e09b6609bc4962a9fb",
       "version_major": 2,
       "version_minor": 0
      },
      "text/plain": [
       "Resolving data files:   0%|          | 0/42 [00:00<?, ?it/s]"
      ]
     },
     "metadata": {},
     "output_type": "display_data"
    },
    {
     "name": "stdout",
     "output_type": "stream",
     "text": [
      "Dataset \"banque-fr-2311\" written to /workspace/lilac/bank-project/datasets/local/banque-fr-2311\n"
     ]
    }
   ],
   "source": [
    "source = ll.HuggingFaceSource(dataset_name='frenchtext/banque-fr-2311', split=\"valid\", token=myhftoken)\n",
    "config = ll.DatasetConfig(namespace='local', name='banque-fr-2311', source=source)\n",
    "dataset = ll.create_dataset(config)"
   ]
  },
  {
   "cell_type": "markdown",
   "id": "2859afe0-9712-4cf3-bd4c-4fa5d9c6f155",
   "metadata": {},
   "source": [
    "Refresh the lilac home page in your browser => the new local dataset is available !"
   ]
  },
  {
   "cell_type": "code",
   "execution_count": null,
   "id": "ca1b305d-9bd9-4a95-8ef5-1091263b5b6a",
   "metadata": {},
   "outputs": [],
   "source": []
  }
 ],
 "metadata": {
  "kernelspec": {
   "display_name": "wordslab-llms",
   "language": "python",
   "name": "wordslab-llms"
  },
  "language_info": {
   "codemirror_mode": {
    "name": "ipython",
    "version": 3
   },
   "file_extension": ".py",
   "mimetype": "text/x-python",
   "name": "python",
   "nbconvert_exporter": "python",
   "pygments_lexer": "ipython3",
   "version": "3.10.12"
  }
 },
 "nbformat": 4,
 "nbformat_minor": 5
}
