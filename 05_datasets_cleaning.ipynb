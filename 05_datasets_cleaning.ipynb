{
 "cells": [
  {
   "cell_type": "markdown",
   "id": "43726fd0-9187-435e-ae98-ba68522fe559",
   "metadata": {},
   "source": [
    "# lilac\n",
    "\n",
    "Lilac helps you curate data for LLMs, from RAGs to fine-tuning datasets.\n",
    "\n",
    "https://github.com/lilacai/lilac\n",
    "\n",
    "https://www.lilacml.com/"
   ]
  },
  {
   "cell_type": "code",
   "execution_count": null,
   "id": "5ef8f6b1-853b-4ee0-9a23-d167c4932c9c",
   "metadata": {
    "tags": []
   },
   "outputs": [],
   "source": [
    "!pip3 install --upgrade pip"
   ]
  },
  {
   "cell_type": "code",
   "execution_count": null,
   "id": "b4640097-8592-4bb6-a434-db476ebf888c",
   "metadata": {
    "tags": []
   },
   "outputs": [],
   "source": [
    "pip install lilac #[all]"
   ]
  },
  {
   "cell_type": "code",
   "execution_count": 1,
   "id": "cc74d46e-567c-4df2-bdf4-2a28e960ab82",
   "metadata": {
    "execution": {
     "iopub.execute_input": "2024-01-12T23:44:50.818087Z",
     "iopub.status.busy": "2024-01-12T23:44:50.817818Z",
     "iopub.status.idle": "2024-01-12T23:44:50.822492Z",
     "shell.execute_reply": "2024-01-12T23:44:50.822029Z",
     "shell.execute_reply.started": "2024-01-12T23:44:50.818075Z"
    },
    "tags": []
   },
   "outputs": [
    {
     "name": "stdout",
     "output_type": "stream",
     "text": [
      "This port used by UI apps in the container: 7860\n",
      "Will be exposed at the following url on the virtual machine: /notebooks/gradio\n"
     ]
    }
   ],
   "source": [
    "import os\n",
    "\n",
    "gradio_server_port = int(os.environ.get('GRADIO_PORT'))\n",
    "gradio_root_path = os.environ.get('GRADIO_BASE_URL')\n",
    "\n",
    "print(f\"This port used by UI apps in the container: {gradio_server_port}\")\n",
    "print(f\"Will be exposed at the following url on the virtual machine: {gradio_root_path}\")"
   ]
  },
  {
   "cell_type": "code",
   "execution_count": 2,
   "id": "20ae01e3-e963-4ea3-a85e-6abd3442a0ee",
   "metadata": {
    "execution": {
     "iopub.execute_input": "2024-01-12T23:44:51.140211Z",
     "iopub.status.busy": "2024-01-12T23:44:51.139544Z",
     "iopub.status.idle": "2024-01-12T23:44:51.143707Z",
     "shell.execute_reply": "2024-01-12T23:44:51.143240Z",
     "shell.execute_reply.started": "2024-01-12T23:44:51.140194Z"
    },
    "tags": []
   },
   "outputs": [
    {
     "data": {
      "text/html": [
       "<a href=\"http://192.168.1.24/notebooks/gradio/\" target=\"_blank\">Click here to access the UI app</a>"
      ],
      "text/plain": [
       "<IPython.core.display.HTML object>"
      ]
     },
     "metadata": {},
     "output_type": "display_data"
    }
   ],
   "source": [
    "from IPython.display import display, HTML\n",
    "\n",
    "display(HTML(f'<a href=\"http://192.168.1.24{gradio_root_path}/\" target=\"_blank\">Click here to access the UI app</a>'))"
   ]
  },
  {
   "cell_type": "code",
   "execution_count": 4,
   "id": "7fd780ec-0b7f-46ff-b561-ba21adc243d0",
   "metadata": {
    "execution": {
     "iopub.execute_input": "2024-01-12T23:45:15.908993Z",
     "iopub.status.busy": "2024-01-12T23:45:15.908815Z",
     "iopub.status.idle": "2024-01-12T23:45:15.914104Z",
     "shell.execute_reply": "2024-01-12T23:45:15.913705Z",
     "shell.execute_reply.started": "2024-01-12T23:45:15.908982Z"
    },
    "tags": []
   },
   "outputs": [
    {
     "name": "stderr",
     "output_type": "stream",
     "text": [
      "INFO:     Started server process [31981]\n",
      "INFO:     Waiting for application startup.\n",
      "INFO:     Application startup complete.\n",
      "INFO:     Uvicorn running on http://0.0.0.0:7860 (Press CTRL+C to quit)\n"
     ]
    }
   ],
   "source": [
    "import lilac as ll\n",
    "\n",
    "project_dir = '~/bank_project'\n",
    "server = ll.start_server(host='0.0.0.0', port=gradio_server_port, project_dir=project_dir)"
   ]
  },
  {
   "cell_type": "code",
   "execution_count": 5,
   "id": "8507b253-e177-4a4e-a955-2235ba4acc2e",
   "metadata": {
    "execution": {
     "iopub.execute_input": "2024-01-13T00:01:50.316819Z",
     "iopub.status.busy": "2024-01-13T00:01:50.315980Z",
     "iopub.status.idle": "2024-01-13T00:01:50.439870Z",
     "shell.execute_reply": "2024-01-13T00:01:50.439245Z",
     "shell.execute_reply.started": "2024-01-13T00:01:50.316781Z"
    },
    "tags": []
   },
   "outputs": [
    {
     "name": "stderr",
     "output_type": "stream",
     "text": [
      "INFO:     Shutting down\n",
      "INFO:     Waiting for application shutdown.\n",
      "INFO:     Application shutdown complete.\n",
      "INFO:     Finished server process [31981]\n"
     ]
    }
   ],
   "source": [
    "server.stop()"
   ]
  },
  {
   "cell_type": "code",
   "execution_count": null,
   "id": "2254d84b-4025-4f5c-9e56-a6f82e03d79f",
   "metadata": {},
   "outputs": [],
   "source": []
  }
 ],
 "metadata": {
  "kernelspec": {
   "display_name": "wordslab-llms",
   "language": "python",
   "name": "wordslab-llms"
  },
  "language_info": {
   "codemirror_mode": {
    "name": "ipython",
    "version": 3
   },
   "file_extension": ".py",
   "mimetype": "text/x-python",
   "name": "python",
   "nbconvert_exporter": "python",
   "pygments_lexer": "ipython3",
   "version": "3.10.12"
  }
 },
 "nbformat": 4,
 "nbformat_minor": 5
}
