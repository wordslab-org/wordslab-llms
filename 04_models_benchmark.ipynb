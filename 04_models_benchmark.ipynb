{
 "cells": [
  {
   "cell_type": "markdown",
   "id": "ac1282ee-ce66-4665-9049-057431d59f0f",
   "metadata": {
    "tags": []
   },
   "source": [
    "# Most popular open weights LLMs - December 2023"
   ]
  },
  {
   "cell_type": "markdown",
   "id": "1d1a15aa-978c-460a-9f6c-0c401910ed74",
   "metadata": {},
   "source": [
    "## Dependencies"
   ]
  },
  {
   "cell_type": "code",
   "execution_count": null,
   "id": "ac1721f2-2876-44e4-871e-8eb8439c68fe",
   "metadata": {
    "tags": []
   },
   "outputs": [],
   "source": [
    "pip install --upgrade flash_attn"
   ]
  },
  {
   "cell_type": "code",
   "execution_count": 2,
   "id": "00f295b8-2f93-486a-ad96-990d1768e238",
   "metadata": {
    "execution": {
     "iopub.execute_input": "2024-04-18T19:22:04.551026Z",
     "iopub.status.busy": "2024-04-18T19:22:04.550747Z",
     "iopub.status.idle": "2024-04-18T19:22:05.237062Z",
     "shell.execute_reply": "2024-04-18T19:22:05.236531Z",
     "shell.execute_reply.started": "2024-04-18T19:22:04.551015Z"
    },
    "tags": []
   },
   "outputs": [
    {
     "data": {
      "text/plain": [
       "'2.5.7'"
      ]
     },
     "execution_count": 2,
     "metadata": {},
     "output_type": "execute_result"
    }
   ],
   "source": [
    "import flash_attn\n",
    "flash_attn.__version__"
   ]
  },
  {
   "cell_type": "code",
   "execution_count": null,
   "id": "e5beab14-f32f-4b1c-8df8-d624a0c4e61f",
   "metadata": {
    "tags": []
   },
   "outputs": [],
   "source": [
    "pip install --upgrade transformers"
   ]
  },
  {
   "cell_type": "code",
   "execution_count": 4,
   "id": "e46ef39c-1ac8-4fd5-822d-a060ae6e6eaf",
   "metadata": {
    "execution": {
     "iopub.execute_input": "2024-04-18T19:22:17.825804Z",
     "iopub.status.busy": "2024-04-18T19:22:17.825503Z",
     "iopub.status.idle": "2024-04-18T19:22:18.042746Z",
     "shell.execute_reply": "2024-04-18T19:22:18.042236Z",
     "shell.execute_reply.started": "2024-04-18T19:22:17.825790Z"
    },
    "tags": []
   },
   "outputs": [
    {
     "name": "stderr",
     "output_type": "stream",
     "text": [
      "/workspace/wordslab-llms/.venv/lib/python3.10/site-packages/transformers/utils/hub.py:124: FutureWarning: Using `TRANSFORMERS_CACHE` is deprecated and will be removed in v5 of Transformers. Use `HF_HOME` instead.\n",
      "  warnings.warn(\n"
     ]
    },
    {
     "data": {
      "text/plain": [
       "'4.40.0'"
      ]
     },
     "execution_count": 4,
     "metadata": {},
     "output_type": "execute_result"
    }
   ],
   "source": [
    "import transformers\n",
    "transformers.__version__"
   ]
  },
  {
   "cell_type": "code",
   "execution_count": null,
   "id": "9b169d8a-fd2c-48b3-82fa-a6259cc82694",
   "metadata": {
    "tags": []
   },
   "outputs": [],
   "source": [
    "pip install --upgrade accelerate"
   ]
  },
  {
   "cell_type": "code",
   "execution_count": 6,
   "id": "ebe1a40a-1ce9-483c-87a6-8403f0437ff8",
   "metadata": {
    "execution": {
     "iopub.execute_input": "2024-04-18T19:22:27.496549Z",
     "iopub.status.busy": "2024-04-18T19:22:27.496046Z",
     "iopub.status.idle": "2024-04-18T19:22:27.857766Z",
     "shell.execute_reply": "2024-04-18T19:22:27.857095Z",
     "shell.execute_reply.started": "2024-04-18T19:22:27.496532Z"
    },
    "tags": []
   },
   "outputs": [
    {
     "data": {
      "text/plain": [
       "'0.29.3'"
      ]
     },
     "execution_count": 6,
     "metadata": {},
     "output_type": "execute_result"
    }
   ],
   "source": [
    "import accelerate\n",
    "accelerate.__version__"
   ]
  },
  {
   "cell_type": "code",
   "execution_count": null,
   "id": "3a865c96-dea3-4ab4-996d-466614520910",
   "metadata": {
    "tags": []
   },
   "outputs": [],
   "source": [
    "pip install --upgrade bitsandbytes"
   ]
  },
  {
   "cell_type": "code",
   "execution_count": 8,
   "id": "e5fe0b0e-887e-441e-ac45-f36ea725302b",
   "metadata": {
    "execution": {
     "iopub.execute_input": "2024-04-18T19:22:44.959805Z",
     "iopub.status.busy": "2024-04-18T19:22:44.959386Z",
     "iopub.status.idle": "2024-04-18T19:22:45.681153Z",
     "shell.execute_reply": "2024-04-18T19:22:45.680750Z",
     "shell.execute_reply.started": "2024-04-18T19:22:44.959787Z"
    },
    "tags": []
   },
   "outputs": [],
   "source": [
    "import bitsandbytes"
   ]
  },
  {
   "cell_type": "code",
   "execution_count": null,
   "id": "5dc0570a-0120-48b0-aa0e-fc466de4eb76",
   "metadata": {
    "tags": []
   },
   "outputs": [],
   "source": [
    "pip install --upgrade auto-gptq --no-build-isolation"
   ]
  },
  {
   "cell_type": "code",
   "execution_count": null,
   "id": "22015a99-326e-4b4c-8203-beed87933c36",
   "metadata": {
    "tags": []
   },
   "outputs": [],
   "source": [
    "pip install --upgrade autoawq"
   ]
  },
  {
   "cell_type": "markdown",
   "id": "0565e32d-be17-4a3e-9b06-fcd8f9a0976a",
   "metadata": {},
   "source": [
    "## Models dictionary"
   ]
  },
  {
   "cell_type": "code",
   "execution_count": 1,
   "id": "2e5dbc53-38e1-4483-aef8-25310952f772",
   "metadata": {
    "execution": {
     "iopub.execute_input": "2024-04-23T21:30:27.644589Z",
     "iopub.status.busy": "2024-04-23T21:30:27.644491Z",
     "iopub.status.idle": "2024-04-23T21:30:27.649097Z",
     "shell.execute_reply": "2024-04-23T21:30:27.648667Z",
     "shell.execute_reply.started": "2024-04-23T21:30:27.644578Z"
    },
    "tags": []
   },
   "outputs": [],
   "source": [
    " models = {          \n",
    "    \"tinyllama_1b\": \"TinyLlama/TinyLlama-1.1B-intermediate-step-1195k-token-2.5T\", # 4.10 GB\n",
    "    \"croissantllm_1b\" : \"croissantllm/CroissantLLMBase\", # 5.01 GB\n",
    "    \"stablelm2_1b\" : \"stabilityai/stablelm-2-1_6b\", # 3.06 GB\n",
    "    \"qwen1.5_0.5b\" : \"Qwen/Qwen1.5-0.5B\" , # 1.16 GB\n",
    "    \"qwen1.5_1b\" : \"Qwen/Qwen1.5-1.8B\" , # 3.43 GB\n",
    "    \"olmo_1b\" : \"allenai/OLMo-1B\", # 4.39 GB\n",
    "     \n",
    "    \"redpajama_3b\" : \"togethercomputer/RedPajama-INCITE-Base-3B-v1\", # 5.30 GB\n",
    "    \"btlm_3b\" : \"cerebras/btlm-3b-8k-base\", #  4.93 GB\n",
    "    \"openllama2_3b\" : \"openlm-research/open_llama_3b_v2\", #  6.38 GB\n",
    "    \"stablelm_3b\" : \"stabilityai/stablelm-3b-4e1t\", # 5.21 GB\n",
    "    \"phi2_3b\" : \"microsoft/phi-2\", # 5.18 GB\n",
    "    \"qwen1.5_4b\" : \"Qwen/Qwen1.5-4B\" , # 7.37 GB\n",
    "    \"minicpm_3b\" : \"openbmb/MiniCPM-2B-sft-bf16\", # 5.08 GB\n",
    "    \"gemma_2b\" : \"google/gemma-2b\",\n",
    "     \"phi3_4b\" : \"microsoft/Phi-3-mini-4k-instruct\",\n",
    "\n",
    "    \"bloomz_7b\" : \"bigscience/bloomz-7b1-mt\", # 13.18 GB\n",
    "    \"falcon_7b\" : \"tiiuae/falcon-7b\", # 13.45 GB       \n",
    "    \"redpajama_7b\" : \"togethercomputer/RedPajama-INCITE-7B-Base\", # 12.90 GB\n",
    "    \"mpt_7b\" : \"mosaicml/mpt-7b\", # 12.39 GB\n",
    "    \"mpt_7b_8k\" : \"mosaicml/mpt-7b-8k\", # 12.39 GB\n",
    "    \"openllama2_7b\" : \"openlm-research/open_llama_7b_v2\", # 12.55 GB\n",
    "    \"llama2_7b\" : \"meta-llama/Llama-2-7b-hf\", # 12.55 GB\n",
    "    \"llama2_7b_32k\" : \"togethercomputer/LLaMA-2-7B-32K\", # 12.55 GB\n",
    "    \"mistral_7b\" : \"mistralai/Mistral-7B-v0.1\", # 13.49 GB\n",
    "    \"mistral_7b_32k\" : \"alpindale/Mistral-7B-v0.2-hf\", # ?? GB\n",
    "    \"qwen_7b\" : \"Qwen/Qwen-7B\", # 14.38 GB\n",
    "    \"yi_6b\" : \"01-ai/Yi-6B\", # 11.29 GB\n",
    "    \"decilm_7b\" : \"Deci/DeciLM-7B\", # 13.12 GB\n",
    "    \"qwen1.5_7b\" : \"Qwen/Qwen1.5-7B\" , # 14.39 GB\n",
    "    \"olmo_7b\" : \"allenai/OLMo-7B\", # 25.66 GBgoogle/gemma-7b\",\n",
    "    \"gemma_7b\" : \"google/gemma-7b\",\n",
    "    \"llama3_8b\" : \"meta-llama/Meta-Llama-3-8B\",\n",
    "    \n",
    "    \"solar_10b\" : \"upstage/SOLAR-10.7B-v1.0\", # 19.99 GB\n",
    "    \"yi_9b\" : \"01-ai/Yi-9B\",\n",
    "     \n",
    "    \"openllama1_13b\" : \"openlm-research/open_llama_13b\", # 24.24 GB\n",
    "    \"llama2_13b\" : \"meta-llama/Llama-2-13b-hf\", # 24.25 GB\n",
    "    \"qwen_14b\" : \"Qwen/Qwen-14B\", # 26.39 GB\n",
    "    \"qwen1.5_14b\" : \"Qwen/Qwen1.5-14B\" , # 26.40 GB\n",
    "    \"qwen1.5_moe_14bx2b\" : \"Qwen/Qwen1.5-MoE-A2.7B\", # 26.68 GB,\n",
    "    \"internlm2_20b\": \"internlm/internlm2-20b\",\n",
    "     \n",
    "    \"mpt_30b\" : \"mosaicml/mpt-30b\", # 55.80 GB \n",
    "    \"codellama_34b\" : \"codellama/CodeLlama-34b-hf\", # 62.86 GB \n",
    "    \"yi_34b\" : \"01-ai/Yi-34B\", # 64.06 GB    \n",
    "    \"command-r_35b\" : \"CohereForAI/c4ai-command-r-v01-4bit\", # ?? GB \n",
    "    \"qwen1.5_32b\" : \"Qwen/Qwen1.5-32B\" , # ?? GB\n",
    "     \n",
    "    \"falcon_40b\" : \"tiiuae/falcon-40b\", # 77.93 GB\n",
    "    \"alfred_40b\": \"lightonai/alfred-40b-1023\", # 77.93 GB\n",
    "    \"mixtral_8x7B\" : \"mistralai/Mixtral-8x7B-v0.1\", # 86.99 GB\n",
    "    # \"jamba_moe_52bx12b\" : \"ai21labs/Jamba-v0.1\" # ?? GB\n",
    "}"
   ]
  },
  {
   "cell_type": "markdown",
   "id": "e45f6691-1719-4cb7-99ea-f8fb7e67dd51",
   "metadata": {},
   "source": [
    "## Load dataset"
   ]
  },
  {
   "cell_type": "code",
   "execution_count": 2,
   "id": "90b7de50-6539-4ece-bf0d-c8569de15786",
   "metadata": {
    "execution": {
     "iopub.execute_input": "2024-04-23T21:30:27.760819Z",
     "iopub.status.busy": "2024-04-23T21:30:27.760271Z",
     "iopub.status.idle": "2024-04-23T21:30:27.764657Z",
     "shell.execute_reply": "2024-04-23T21:30:27.764046Z",
     "shell.execute_reply.started": "2024-04-23T21:30:27.760798Z"
    },
    "tags": []
   },
   "outputs": [],
   "source": [
    "with open(\"/workspace/hftoken\", 'r') as file:\n",
    "    myhftoken = file.read().strip()"
   ]
  },
  {
   "cell_type": "code",
   "execution_count": 3,
   "id": "1ae3299f-b520-4278-919b-2cdc661e6020",
   "metadata": {
    "execution": {
     "iopub.execute_input": "2024-04-23T21:30:27.937367Z",
     "iopub.status.busy": "2024-04-23T21:30:27.936933Z",
     "iopub.status.idle": "2024-04-23T21:30:28.394268Z",
     "shell.execute_reply": "2024-04-23T21:30:28.393774Z",
     "shell.execute_reply.started": "2024-04-23T21:30:27.937337Z"
    },
    "tags": []
   },
   "outputs": [],
   "source": [
    "from datasets import load_dataset"
   ]
  },
  {
   "cell_type": "code",
   "execution_count": 5,
   "id": "b7714b7e-ed3d-47e9-b02e-dff03299cf27",
   "metadata": {
    "execution": {
     "iopub.execute_input": "2024-04-23T21:30:33.015610Z",
     "iopub.status.busy": "2024-04-23T21:30:33.014680Z",
     "iopub.status.idle": "2024-04-23T21:30:44.135266Z",
     "shell.execute_reply": "2024-04-23T21:30:44.134823Z",
     "shell.execute_reply.started": "2024-04-23T21:30:33.015572Z"
    },
    "tags": []
   },
   "outputs": [
    {
     "data": {
      "application/vnd.jupyter.widget-view+json": {
       "model_id": "93d8e0536fee43f6b7ebd30918a120cc",
       "version_major": 2,
       "version_minor": 0
      },
      "text/plain": [
       "Resolving data files:   0%|          | 0/43 [00:00<?, ?it/s]"
      ]
     },
     "metadata": {},
     "output_type": "display_data"
    },
    {
     "data": {
      "application/vnd.jupyter.widget-view+json": {
       "model_id": "7d2c98540622472e998838d88a3b4a3d",
       "version_major": 2,
       "version_minor": 0
      },
      "text/plain": [
       "Resolving data files:   0%|          | 0/43 [00:00<?, ?it/s]"
      ]
     },
     "metadata": {},
     "output_type": "display_data"
    },
    {
     "data": {
      "application/vnd.jupyter.widget-view+json": {
       "model_id": "283914d86b0a4234a1dc1ff945b1ffa9",
       "version_major": 2,
       "version_minor": 0
      },
      "text/plain": [
       "Resolving data files:   0%|          | 0/43 [00:00<?, ?it/s]"
      ]
     },
     "metadata": {},
     "output_type": "display_data"
    },
    {
     "data": {
      "application/vnd.jupyter.widget-view+json": {
       "model_id": "c9572bae55a8463da9680f77cb3eb68d",
       "version_major": 2,
       "version_minor": 0
      },
      "text/plain": [
       "Resolving data files:   0%|          | 0/43 [00:00<?, ?it/s]"
      ]
     },
     "metadata": {},
     "output_type": "display_data"
    },
    {
     "data": {
      "application/vnd.jupyter.widget-view+json": {
       "model_id": "95376d6fdf2a4edf9d421bed44cbdce9",
       "version_major": 2,
       "version_minor": 0
      },
      "text/plain": [
       "Resolving data files:   0%|          | 0/43 [00:00<?, ?it/s]"
      ]
     },
     "metadata": {},
     "output_type": "display_data"
    },
    {
     "data": {
      "application/vnd.jupyter.widget-view+json": {
       "model_id": "70e7a3ebecd14e06bbf5798a0d4ca875",
       "version_major": 2,
       "version_minor": 0
      },
      "text/plain": [
       "Resolving data files:   0%|          | 0/43 [00:00<?, ?it/s]"
      ]
     },
     "metadata": {},
     "output_type": "display_data"
    }
   ],
   "source": [
    "#dataset_name_fr = \"frenchtext/banque-fr-2311\"\n",
    "#dataset_fr = load_dataset(dataset_name_fr, token=myhftoken)\n",
    "\n",
    "dataset_name_en = \"frenchtext/bank-en-2401\"\n",
    "dataset_en = load_dataset(dataset_name_en, token=myhftoken)\n",
    "\n",
    "#dataset_name_de = \"frenchtext/bank-de-2401\"\n",
    "#dataset_de = load_dataset(dataset_name_de, token=myhftoken)"
   ]
  },
  {
   "cell_type": "code",
   "execution_count": 6,
   "id": "4df161a8-456f-4eaa-b99f-13c3b90d2c8b",
   "metadata": {
    "execution": {
     "iopub.execute_input": "2024-04-23T21:30:44.136004Z",
     "iopub.status.busy": "2024-04-23T21:30:44.135893Z",
     "iopub.status.idle": "2024-04-23T21:30:44.139420Z",
     "shell.execute_reply": "2024-04-23T21:30:44.138970Z",
     "shell.execute_reply.started": "2024-04-23T21:30:44.135995Z"
    },
    "tags": []
   },
   "outputs": [
    {
     "data": {
      "text/plain": [
       "DatasetDict({\n",
       "    train: Dataset({\n",
       "        features: ['Uri', 'ExtractedFromPDF', 'Timestamp', 'Lang', 'Title', 'Text', 'Words', 'AvgWordsLength', 'Chars', 'LetterChars', 'NumberChars', 'OtherChars'],\n",
       "        num_rows: 20451\n",
       "    })\n",
       "    valid: Dataset({\n",
       "        features: ['Uri', 'ExtractedFromPDF', 'Timestamp', 'Lang', 'Title', 'Text', 'Words', 'AvgWordsLength', 'Chars', 'LetterChars', 'NumberChars', 'OtherChars'],\n",
       "        num_rows: 2555\n",
       "    })\n",
       "    test: Dataset({\n",
       "        features: ['Uri', 'ExtractedFromPDF', 'Timestamp', 'Lang', 'Title', 'Text', 'Words', 'AvgWordsLength', 'Chars', 'LetterChars', 'NumberChars', 'OtherChars'],\n",
       "        num_rows: 2579\n",
       "    })\n",
       "})"
      ]
     },
     "execution_count": 6,
     "metadata": {},
     "output_type": "execute_result"
    }
   ],
   "source": [
    "dataset_en"
   ]
  },
  {
   "cell_type": "markdown",
   "id": "2b5b9ed0-02c3-43ea-8647-40db7517ff27",
   "metadata": {},
   "source": [
    "## Batching and tokenization"
   ]
  },
  {
   "cell_type": "code",
   "execution_count": 7,
   "id": "5c1603b5-31cf-4dc9-94ce-27b20091787d",
   "metadata": {
    "execution": {
     "iopub.execute_input": "2024-04-23T21:30:44.139998Z",
     "iopub.status.busy": "2024-04-23T21:30:44.139881Z",
     "iopub.status.idle": "2024-04-23T21:30:44.142665Z",
     "shell.execute_reply": "2024-04-23T21:30:44.142196Z",
     "shell.execute_reply.started": "2024-04-23T21:30:44.139990Z"
    },
    "tags": []
   },
   "outputs": [],
   "source": [
    "dataset_name = dataset_name_en\n",
    "split = \"valid\"\n",
    "dataset = dataset_en[split]"
   ]
  },
  {
   "cell_type": "code",
   "execution_count": 8,
   "id": "ef174d1d-8294-485e-91fd-bd9889fbcba9",
   "metadata": {
    "execution": {
     "iopub.execute_input": "2024-04-23T21:30:44.143739Z",
     "iopub.status.busy": "2024-04-23T21:30:44.143493Z",
     "iopub.status.idle": "2024-04-23T21:30:44.146498Z",
     "shell.execute_reply": "2024-04-23T21:30:44.146069Z",
     "shell.execute_reply.started": "2024-04-23T21:30:44.143727Z"
    },
    "tags": []
   },
   "outputs": [],
   "source": [
    "def get_dataset_batches(dataset, batch_size=32):\n",
    "    filtered_dataset = dataset.filter(lambda example: example[\"Words\"]>15)\n",
    "    sorted_dataset = filtered_dataset.sort(\"Words\",reverse=True)\n",
    "    \n",
    "    dataset_length = len(sorted_dataset)\n",
    "    for start_idx in range(0, dataset_length, batch_size):\n",
    "        end_idx = min(start_idx + batch_size, dataset_length)\n",
    "        yield sorted_dataset[start_idx:end_idx]"
   ]
  },
  {
   "cell_type": "code",
   "execution_count": 9,
   "id": "2e8fd7f9-aeec-451e-80b2-3c40360203a0",
   "metadata": {
    "execution": {
     "iopub.execute_input": "2024-04-23T21:30:44.147111Z",
     "iopub.status.busy": "2024-04-23T21:30:44.147007Z",
     "iopub.status.idle": "2024-04-23T21:30:44.150153Z",
     "shell.execute_reply": "2024-04-23T21:30:44.149554Z",
     "shell.execute_reply.started": "2024-04-23T21:30:44.147103Z"
    },
    "tags": []
   },
   "outputs": [],
   "source": [
    "def get_encoding_offsets(encoding):\n",
    "    start_token_idx = 0\n",
    "    while encoding.special_tokens_mask[start_token_idx]==1: start_token_idx+=1\n",
    "    start_index = encoding.offsets[start_token_idx][0]\n",
    "    end_token_idx = len(encoding.offsets)-1\n",
    "    while encoding.special_tokens_mask[end_token_idx]==1: end_token_idx-=1\n",
    "    end_index = encoding.offsets[end_token_idx][1]\n",
    "    return (start_index,end_index)"
   ]
  },
  {
   "cell_type": "code",
   "execution_count": 10,
   "id": "f631c448-19a0-456c-abef-19aeaad60cfd",
   "metadata": {
    "execution": {
     "iopub.execute_input": "2024-04-23T21:30:44.151016Z",
     "iopub.status.busy": "2024-04-23T21:30:44.150839Z",
     "iopub.status.idle": "2024-04-23T21:30:44.156397Z",
     "shell.execute_reply": "2024-04-23T21:30:44.155980Z",
     "shell.execute_reply.started": "2024-04-23T21:30:44.151005Z"
    },
    "tags": []
   },
   "outputs": [],
   "source": [
    "def encode_dataset_batch(tokenizer, dataset_batch, stride=256):\n",
    "    \n",
    "    # SPECIAL CASE: tiktoken tokenizer does not implement truncation=True, return_overflowing_tokens=True, and encodings offsets\n",
    "    # => we must implement it manually on top of Huggingface tokenizers\n",
    "    if hasattr(tokenizer,\"tokenizer\") and tokenizer.tokenizer.__class__.__module__.startswith(\"tiktoken\"):\n",
    "        encodings = tokenizer(text = dataset_batch[\"Text\"], add_special_tokens=True, \n",
    "                      padding=\"longest\", \n",
    "                      # 2020: https://docs.nvidia.com/deeplearning/performance/mixed-precision-training/index.html#tensor-core-shape\n",
    "                      # However now in 2023, this is less and less true, newer drivers and cuda versions are smarter about this and will be able to use tensorcores even without this aligned padding\n",
    "                      pad_to_multiple_of=16, return_tensors=\"pt\")\n",
    "        \n",
    "        input_tensor = encodings['input_ids']\n",
    "        attention_mask = encodings['attention_mask']\n",
    "       \n",
    "        batch_size = input_tensor.size(0)\n",
    "        encodings_length = input_tensor.size(1)\n",
    "        texts_length = torch.tensor([len(text) for text in dataset_batch[\"Text\"]])\n",
    "        \n",
    "        max_length = tokenizer.model_max_length \n",
    "        \n",
    "        if encodings_length > max_length:\n",
    "        \n",
    "            unfolded_tensor, overflow_to_sample_mapping = truncate_tensor_with_overflow(input_tensor, padding_value=tokenizer.pad_token_id, max_length=max_length, stride=stride)\n",
    "            unfolded_mask, _ = truncate_tensor_with_overflow(attention_mask, padding_value=0, max_length=max_length, stride=stride)\n",
    "\n",
    "            encodings['input_ids'] = unfolded_tensor\n",
    "            encodings['attention_mask'] = unfolded_mask\n",
    "            encodings['overflow_to_sample_mapping'] = overflow_to_sample_mapping\n",
    "            \n",
    "            offset = max_length - stride\n",
    "            overflow_lines = 1 + math.ceil((encodings_length - max_length)/offset)\n",
    "            last_line_padding = overflow_lines*offset + stride - encodings_length\n",
    "            \n",
    "            tokens_per_sample = attention_mask.sum(1).tolist()\n",
    "            start_indexes = []\n",
    "            end_indexes = []\n",
    "            for sample_tokens in tokens_per_sample:\n",
    "                start_indexes.append(torch.clamp(torch.arange(0,overflow_lines*offset,offset), max=sample_tokens)/sample_tokens)\n",
    "                end_indexes.append(torch.clamp(torch.arange(max_length,encodings_length+last_line_padding+1,offset), max=sample_tokens)/sample_tokens)                \n",
    "            overflow_to_sample_offset = torch.stack((torch.concat(start_indexes),torch.concat(end_indexes)))\n",
    "\n",
    "            texts_length_multiplier = torch.repeat_interleave(texts_length, overflow_lines).unsqueeze(0)\n",
    "            otso = (overflow_to_sample_offset*texts_length_multiplier).int()\n",
    "            encodings['overflow_to_sample_offset'] = [(otso[0,i].item(),otso[1,i].item()) for i in range(otso.size(1))]\n",
    "            \n",
    "        else:\n",
    "            \n",
    "            encodings['overflow_to_sample_mapping'] = torch.zeros(batch_size, dtype=torch.int32)\n",
    "            encodings['overflow_to_sample_offset'] = [(0,texts_length[i].item()) for i in range(batch_size)]\n",
    "    \n",
    "    # GENERAL CASE: just rely on Huggingface tokenizers for truncation\n",
    "    else:\n",
    "        encodings = tokenizer(text = dataset_batch[\"Text\"], add_special_tokens=True, \n",
    "                          padding=\"longest\", truncation=True, return_overflowing_tokens=True, stride=stride,\n",
    "                          # 2020: https://docs.nvidia.com/deeplearning/performance/mixed-precision-training/index.html#tensor-core-shape\n",
    "                          # However now in 2023, this is less and less true, newer drivers and cuda versions are smarter about this and will be able to use tensorcores even without this aligned padding\n",
    "                          pad_to_multiple_of=16, return_tensors=\"pt\")\n",
    "\n",
    "        encodings[\"overflow_to_sample_offset\"] = list(map(get_encoding_offsets, encodings.encodings))\n",
    "    \n",
    "    encodings[\"overflow_to_sample_uri\"] = list(map(lambda sample_id: dataset_batch[\"Uri\"][sample_id.item()], encodings[\"overflow_to_sample_mapping\"]))\n",
    "\n",
    "    return encodings"
   ]
  },
  {
   "cell_type": "code",
   "execution_count": 11,
   "id": "b3ccabeb-3196-4877-a1a1-ec0582927125",
   "metadata": {
    "execution": {
     "iopub.execute_input": "2024-04-23T21:30:44.157120Z",
     "iopub.status.busy": "2024-04-23T21:30:44.156996Z",
     "iopub.status.idle": "2024-04-23T21:30:44.855391Z",
     "shell.execute_reply": "2024-04-23T21:30:44.854692Z",
     "shell.execute_reply.started": "2024-04-23T21:30:44.157111Z"
    },
    "tags": []
   },
   "outputs": [],
   "source": [
    "import math\n",
    "import torch.nn.functional as F\n",
    "\n",
    "def truncate_tensor_with_overflow(input_tensor, padding_value, max_length=2048, stride=256):\n",
    "    batch_length = input_tensor.size(0)\n",
    "    encoding_length = input_tensor.size(1)\n",
    "\n",
    "    offset = max_length - stride\n",
    "    overflow_lines = 1 + math.ceil((encoding_length - max_length)/offset)\n",
    "    last_line_padding = overflow_lines*offset + stride - encoding_length\n",
    "\n",
    "    padded_tensor = F.pad(input_tensor, (0,last_line_padding), \"constant\", padding_value)\n",
    "    unfolded_tensor = padded_tensor.unfold(1, max_length, offset).reshape(-1, max_length)\n",
    "\n",
    "    overflow_to_sample_mapping = torch.arange(batch_length).repeat_interleave(overflow_lines)\n",
    " \n",
    "    return unfolded_tensor, overflow_to_sample_mapping "
   ]
  },
  {
   "cell_type": "code",
   "execution_count": 12,
   "id": "9e8b9cf9-24e0-4800-81cd-c010e8b7d68f",
   "metadata": {
    "execution": {
     "iopub.execute_input": "2024-04-23T21:30:44.856533Z",
     "iopub.status.busy": "2024-04-23T21:30:44.856083Z",
     "iopub.status.idle": "2024-04-23T21:30:44.859355Z",
     "shell.execute_reply": "2024-04-23T21:30:44.858830Z",
     "shell.execute_reply.started": "2024-04-23T21:30:44.856501Z"
    },
    "tags": []
   },
   "outputs": [],
   "source": [
    "def get_encodings_batches(tokenizer, dataset, batch_size=32, stride=256):\n",
    "    for dataset_batch in get_dataset_batches(dataset, batch_size):\n",
    "        encodings = encode_dataset_batch(tokenizer, dataset_batch, stride)\n",
    "        \n",
    "        encodings_length = encodings['input_ids'].size(0)\n",
    "        for start_idx in range(0, encodings_length, batch_size):\n",
    "            end_idx = min(start_idx + batch_size, encodings_length)\n",
    "            yield {key: encodings[key][start_idx:end_idx] for key in encodings.data.keys()}"
   ]
  },
  {
   "cell_type": "code",
   "execution_count": 13,
   "id": "e942b3f2-793d-4e3c-b0e7-c45a95467c1a",
   "metadata": {
    "execution": {
     "iopub.execute_input": "2024-04-23T21:30:44.859820Z",
     "iopub.status.busy": "2024-04-23T21:30:44.859720Z",
     "iopub.status.idle": "2024-04-23T21:30:44.876446Z",
     "shell.execute_reply": "2024-04-23T21:30:44.875945Z",
     "shell.execute_reply.started": "2024-04-23T21:30:44.859812Z"
    },
    "tags": []
   },
   "outputs": [],
   "source": [
    "# Test\n",
    "#batches_iter = get_dataset_batches(dataset, 2)\n",
    "#for i in range(0): next(batches_iter)\n",
    "#dataset_batch=next(batches_iter)\n",
    "\n",
    "#encodings = encode_dataset_batch(tokenizer, dataset_batch, stride=256)\n",
    "#encodings"
   ]
  },
  {
   "cell_type": "markdown",
   "id": "0c715b1d-5b91-4d7e-99f5-609573d93b19",
   "metadata": {},
   "source": [
    "## Load model"
   ]
  },
  {
   "cell_type": "code",
   "execution_count": 14,
   "id": "c6acc7c5-e652-4511-81a4-e830d2d9ed4d",
   "metadata": {
    "execution": {
     "iopub.execute_input": "2024-04-23T21:30:44.877878Z",
     "iopub.status.busy": "2024-04-23T21:30:44.877657Z",
     "iopub.status.idle": "2024-04-23T21:30:48.829845Z",
     "shell.execute_reply": "2024-04-23T21:30:48.829375Z",
     "shell.execute_reply.started": "2024-04-23T21:30:44.877869Z"
    },
    "tags": []
   },
   "outputs": [
    {
     "name": "stderr",
     "output_type": "stream",
     "text": [
      "/workspace/wordslab-llms/.venv/lib/python3.10/site-packages/transformers/utils/hub.py:124: FutureWarning: Using `TRANSFORMERS_CACHE` is deprecated and will be removed in v5 of Transformers. Use `HF_HOME` instead.\n",
      "  warnings.warn(\n",
      "Special tokens have been added in the vocabulary, make sure the associated word embeddings are fine-tuned or trained.\n"
     ]
    },
    {
     "name": "stdout",
     "output_type": "stream",
     "text": [
      "Computing perplexity on dataset frenchtext/bank-en-2401:valid for microsoft/Phi-3-mini-4k-instruct\n"
     ]
    },
    {
     "name": "stderr",
     "output_type": "stream",
     "text": [
      "A new version of the following files was downloaded from https://huggingface.co/microsoft/Phi-3-mini-4k-instruct:\n",
      "- configuration_phi3.py\n",
      ". Make sure to double-check they do not contain any added malicious code. To avoid downloading new versions of the code file, you can pin a revision.\n",
      "A new version of the following files was downloaded from https://huggingface.co/microsoft/Phi-3-mini-4k-instruct:\n",
      "- modeling_phi3.py\n",
      ". Make sure to double-check they do not contain any added malicious code. To avoid downloading new versions of the code file, you can pin a revision.\n"
     ]
    },
    {
     "data": {
      "application/vnd.jupyter.widget-view+json": {
       "model_id": "8e3e0a4a9b2340be976a96b0343e915f",
       "version_major": 2,
       "version_minor": 0
      },
      "text/plain": [
       "Downloading shards:   0%|          | 0/2 [00:00<?, ?it/s]"
      ]
     },
     "metadata": {},
     "output_type": "display_data"
    },
    {
     "data": {
      "application/vnd.jupyter.widget-view+json": {
       "model_id": "bcc494f8a513423093a6a4200efd212a",
       "version_major": 2,
       "version_minor": 0
      },
      "text/plain": [
       "Loading checkpoint shards:   0%|          | 0/2 [00:00<?, ?it/s]"
      ]
     },
     "metadata": {},
     "output_type": "display_data"
    }
   ],
   "source": [
    "import torch\n",
    "from transformers import AutoModelForCausalLM, AutoTokenizer\n",
    "\n",
    "model_id = \"phi3_4b\"\n",
    "model_name = models[model_id]\n",
    "# model_name = \"meta-llama/Meta-Llama-3-8B-Instruct\"\n",
    "# model_name = \"unsloth/llama-3-8b-Instruct-bnb-4bit\"\n",
    "# model_name = \"TechxGenus/Meta-Llama-3-8B-Instruct-GPTQ\"\n",
    "# model_name = \"casperhansen/llama-3-8b-instruct-awq\"\n",
    "print(f\"Computing perplexity on dataset {dataset_name}:{split} for {model_name}\")\n",
    "\n",
    "if model_id==\"stablelm2_1b\" or model_id==\"olmo_1b\" or model_id==\"olmo_7b\" or model_id==\"internlm2_20b\" or model_id==\"phi3_4b\":\n",
    "    tokenizer = AutoTokenizer.from_pretrained(model_name, trust_remote_code=True)\n",
    "elif model_id==\"stablelm_3b\":\n",
    "    tokenizer = AutoTokenizer.from_pretrained(model_name, token=myhftoken)\n",
    "elif model_id==\"qwen_7b\" or model_id==\"qwen_14b\":\n",
    "    # https://github.com/QwenLM/Qwen/blob/main/tokenization_note.md#special-tokens\n",
    "    tokenizer = AutoTokenizer.from_pretrained(model_name, cpad_token = '<|endoftext|>', trust_remote_code=True)\n",
    "elif model_id==\"yi_34b\":\n",
    "    tokenizer = AutoTokenizer.from_pretrained(model_name, trust_remote_code=True, use_fast=True)\n",
    "else:\n",
    "    tokenizer = AutoTokenizer.from_pretrained(model_name)\n",
    "\n",
    "if tokenizer.pad_token is None:\n",
    "    if model_id==\"qwen_7b\" or model_id==\"qwen_14b\":\n",
    "        tokenizer.pad_token = '<|endoftext|>'\n",
    "    else:\n",
    "        tokenizer.pad_token = tokenizer.eos_token\n",
    "\n",
    "if model_id==\"tinyllama_1b\":\n",
    "    # torch_dtype=\"auto\" loads the model in fp32, which is not compatible with flash attention\n",
    "    model = AutoModelForCausalLM.from_pretrained(model_name, use_safetensors=True, device_map=\"auto\", torch_dtype=torch.float16, attn_implementation=\"flash_attention_2\")\n",
    "elif model_id==\"croissantllm_1b\":\n",
    "    model = AutoModelForCausalLM.from_pretrained(model_name, use_safetensors=False, device_map=\"auto\", torch_dtype=torch.float16, attn_implementation=\"flash_attention_2\")\n",
    "elif model_id==\"stablelm2_1b\" or model_id==\"minicpm_3b\":\n",
    "    model = AutoModelForCausalLM.from_pretrained(model_name, use_safetensors=True, device_map=\"auto\", torch_dtype=\"auto\", attn_implementation=\"flash_attention_2\", trust_remote_code=True)\n",
    "elif model_id==\"olmo_1b\":\n",
    "    # no flash attention support for olmo as of 02/04/2024\n",
    "    model = AutoModelForCausalLM.from_pretrained(model_name, use_safetensors=True, device_map=\"auto\", torch_dtype=torch.float16, attn_implementation=\"eager\")\n",
    "elif model_id==\"olmo_7b\":\n",
    "    # no flash attention support for olmo as of 02/04/2024\n",
    "    model = AutoModelForCausalLM.from_pretrained(model_name, use_safetensors=False, device_map=\"auto\", torch_dtype=torch.float16, attn_implementation=\"eager\")\n",
    "elif model_id==\"btlm_3b\":\n",
    "    # no flash attention support as of 01/07/2024, using device_map triggers a fatal error\n",
    "    model = AutoModelForCausalLM.from_pretrained(model_name, use_safetensors=True, torch_dtype=\"auto\", attn_implementation=\"eager\", trust_remote_code=True).to('cuda')\n",
    "    # max context length supported without flahs attention on a RTX 4090\n",
    "    tokenizer.model_max_length = 4096\n",
    "elif model_id==\"stablelm_3b\":\n",
    "    model = AutoModelForCausalLM.from_pretrained(model_name, use_safetensors=True, device_map=\"auto\", torch_dtype=\"auto\", attn_implementation=\"flash_attention_2\", trust_remote_code=True, token=myhftoken)\n",
    "elif model_id==\"phi2_3b\":\n",
    "    # no flash attention support for phi2 as of 01/07/2024\n",
    "    # for qwen: latest version of flash_attn installed, but module dropout_layer_norm not found\n",
    "    model = AutoModelForCausalLM.from_pretrained(model_name, use_safetensors=True, device_map=\"auto\", torch_dtype=\"auto\", attn_implementation=\"eager\", trust_remote_code=True)\n",
    "elif model_id==\"phi3_4b\":\n",
    "    model = AutoModelForCausalLM.from_pretrained(model_name, use_safetensors=True, device_map=\"auto\", torch_dtype=\"auto\", attn_implementation=\"flash_attention_2\", trust_remote_code=True)    \n",
    "elif model_id==\"bloomz_7b\":\n",
    "    # no flash attention support as of 01/08/2024\n",
    "    model = AutoModelForCausalLM.from_pretrained(model_name, use_safetensors=True, device_map=\"auto\", torch_dtype=\"auto\", attn_implementation=\"eager\")\n",
    "elif model_id==\"mpt_7b\":\n",
    "    # no flash attention support as of 01/08/2024\n",
    "    model = AutoModelForCausalLM.from_pretrained(model_name, use_safetensors=False, device_map=\"auto\", torch_dtype=\"auto\")\n",
    "elif model_id==\"decilm_7b\":\n",
    "    model = AutoModelForCausalLM.from_pretrained(model_name, use_safetensors=True, device_map=\"auto\", torch_dtype=\"auto\", attn_implementation=\"flash_attention_2\", trust_remote_code=True)\n",
    "elif model_id==\"openllama1_13b\":\n",
    "    # Chunking error during model conversion to safetensors\n",
    "    model = AutoModelForCausalLM.from_pretrained(model_name, load_in_8bit=True, device_map=\"auto\", torch_dtype=\"auto\", attn_implementation=\"flash_attention_2\")\n",
    "elif model_id==\"llama2_13b\" or model_id==\"solar_10b\":\n",
    "    model = AutoModelForCausalLM.from_pretrained(model_name, use_safetensors=True, load_in_8bit=True, device_map=\"auto\", torch_dtype=\"auto\", attn_implementation=\"flash_attention_2\")\n",
    "elif model_id==\"qwen_7b\":\n",
    "    model = AutoModelForCausalLM.from_pretrained(model_name, use_safetensors=True, device_map=\"auto\", torch_dtype=\"auto\", attn_implementation=\"eager\", trust_remote_code=True)\n",
    "elif model_id==\"gemma_2b\" or model_id==\"gemma_7b\":\n",
    "     model = AutoModelForCausalLM.from_pretrained(model_name, use_safetensors=True, device_map=\"auto\", torch_dtype=torch.float16, attn_implementation=\"flash_attention_2\")\n",
    "elif model_id==\"qwen_14b\":\n",
    "    # no flash attention support for qwen_14b as of 02/01/2024\n",
    "    model = AutoModelForCausalLM.from_pretrained(model_name, use_safetensors=True, load_in_8bit=True, device_map=\"auto\", torch_dtype=\"auto\", attn_implementation=\"eager\", trust_remote_code=True)\n",
    "elif model_id==\"qwen1.5_14b\" or  model_id==\"qwen1.5_moe_14bx2b\":\n",
    "    model = AutoModelForCausalLM.from_pretrained(model_name, use_safetensors=True, load_in_8bit=True, device_map=\"auto\", torch_dtype=\"auto\", attn_implementation=\"flash_attention_2\")\n",
    "elif model_id==\"internlm2_20b\":\n",
    "    model = AutoModelForCausalLM.from_pretrained(model_name, use_safetensors=True, load_in_8bit=True, device_map=0, torch_dtype=torch.float16, attn_implementation=\"flash_attention_2\", trust_remote_code=True)\n",
    "elif model_id==\"mpt_30b\":\n",
    "    # no flash attention support as of 01/18/2024\n",
    "    model = AutoModelForCausalLM.from_pretrained(model_name, use_safetensors=False, load_in_4bit=True, device_map=\"auto\", torch_dtype=\"auto\")\n",
    "elif model_id==\"codellama_34b\":\n",
    "    model = AutoModelForCausalLM.from_pretrained(model_name, use_safetensors=True, load_in_4bit=True, device_map=\"auto\", torch_dtype=\"auto\", attn_implementation=\"flash_attention_2\")\n",
    "elif model_id==\"yi_34b\" or model_id==\"qwen1.5_32b\": \n",
    "    model = AutoModelForCausalLM.from_pretrained(model_name, use_safetensors=True, load_in_4bit=True, device_map=\"auto\", torch_dtype=\"auto\", attn_implementation=\"flash_attention_2\")\n",
    "elif model_id==\"command-r_35b\":\n",
    "    model = AutoModelForCausalLM.from_pretrained(model_name, use_safetensors=True, load_in_4bit=True, device_map=0, torch_dtype=\"auto\", attn_implementation=\"flash_attention_2\")\n",
    "elif model_id==\"falcon_40b\":\n",
    "    model = AutoModelForCausalLM.from_pretrained(model_name, use_safetensors=False, load_in_4bit=True, device_map=0, torch_dtype=\"auto\", attn_implementation=\"flash_attention_2\")\n",
    "elif model_id==\"alfred_40b\":\n",
    "    model = AutoModelForCausalLM.from_pretrained(model_name, use_safetensors=False, trust_remote_code=True, load_in_4bit=True, device_map=\"auto\", torch_dtype=\"auto\", attn_implementation=\"flash_attention_2\")\n",
    "else:\n",
    "    model = AutoModelForCausalLM.from_pretrained(model_name, use_safetensors=True, device_map=\"auto\", torch_dtype=\"auto\", load_in_8bit=True, attn_implementation=\"flash_attention_2\")\n",
    "    \n"
   ]
  },
  {
   "cell_type": "code",
   "execution_count": 15,
   "id": "5f195d73-daa0-4903-8bf7-c6a4ea63d016",
   "metadata": {
    "execution": {
     "iopub.execute_input": "2024-04-23T21:30:48.830991Z",
     "iopub.status.busy": "2024-04-23T21:30:48.830439Z",
     "iopub.status.idle": "2024-04-23T21:30:48.835057Z",
     "shell.execute_reply": "2024-04-23T21:30:48.834543Z",
     "shell.execute_reply.started": "2024-04-23T21:30:48.830976Z"
    },
    "tags": []
   },
   "outputs": [
    {
     "name": "stdout",
     "output_type": "stream",
     "text": [
      "NVIDIA GeForce RTX 4090\n",
      "Total    : 24,563.5 MB\n",
      "------------------------------\n",
      "Overhead :  1,569.5 MB -   6 %\n",
      "Reserved :  7,352.0 MB -  29 %\n",
      "Free     : 15,642.0 MB -  63 %\n",
      "------------------------------\n",
      "Used     :  7,336.4 MB -  29 %\n",
      "Max used :  7,336.4 MB -  29 %\n"
     ]
    }
   ],
   "source": [
    "memory_unit = 1024*1024\n",
    "\n",
    "total_memory = torch.cuda.get_device_properties(0).total_memory\n",
    "\n",
    "def display_memory():\n",
    "    print(torch.cuda.get_device_name(0))\n",
    "    print(f\"Total    : {(total_memory/memory_unit):8,.1f} MB\")\n",
    "    print(\"------------------------------\")\n",
    "    free_memory = torch.cuda.mem_get_info()[0]\n",
    "    reserved_memory = torch.cuda.memory_reserved(0)\n",
    "    used_memory = torch.cuda.memory_allocated(0)    \n",
    "    max_used_memory = torch.cuda.max_memory_allocated(0)\n",
    "    overhead_memory = total_memory - free_memory - reserved_memory\n",
    "    print(f\"Overhead : {(overhead_memory/memory_unit):8,.1f} MB - {int(overhead_memory/total_memory*100):3} %\")\n",
    "    print(f\"Reserved : {(reserved_memory/memory_unit):8,.1f} MB - {int(reserved_memory/total_memory*100):3} %\")\n",
    "    print(f\"Free     : {(free_memory/memory_unit):8,.1f} MB - {int(free_memory/total_memory*100):3} %\")\n",
    "    print(\"------------------------------\")\n",
    "    print(f\"Used     : {(used_memory/memory_unit):8,.1f} MB - {int(used_memory/total_memory*100):3} %\")\n",
    "    print(f\"Max used : {(max_used_memory/memory_unit):8,.1f} MB - {int(max_used_memory/total_memory*100):3} %\")\n",
    "    \n",
    "display_memory()"
   ]
  },
  {
   "cell_type": "code",
   "execution_count": 16,
   "id": "67ec855e-de3b-42b3-a8e6-891c9d624542",
   "metadata": {
    "execution": {
     "iopub.execute_input": "2024-04-23T21:30:48.835881Z",
     "iopub.status.busy": "2024-04-23T21:30:48.835642Z",
     "iopub.status.idle": "2024-04-23T21:30:48.840090Z",
     "shell.execute_reply": "2024-04-23T21:30:48.839540Z",
     "shell.execute_reply.started": "2024-04-23T21:30:48.835867Z"
    },
    "tags": []
   },
   "outputs": [
    {
     "name": "stdout",
     "output_type": "stream",
     "text": [
      "--> model files size   : 7.12 GB\n",
      "--> stored in directory: /models/huggingface/transformers/models--microsoft--Phi-3-mini-4k-instruct/snapshots\n"
     ]
    }
   ],
   "source": [
    "import os\n",
    "from transformers.utils.hub import cached_file\n",
    "\n",
    "memory_unit_gb = 1024*1024*1024\n",
    "\n",
    "def get_directory_size(directory):\n",
    "    total_size = 0\n",
    "    for dirpath, dirnames, filenames in os.walk(directory):\n",
    "        for f in filenames:\n",
    "            fp = os.path.join(dirpath, f)\n",
    "            total_size += os.path.getsize(fp)\n",
    "    return total_size\n",
    "\n",
    "def get_model_path_and_size_on_disk(pretrained_model_id):    \n",
    "    model_config_file = cached_file(pretrained_model_id, \"config.json\", local_files_only=True)\n",
    "    model_directory = os.path.dirname(os.path.dirname(model_config_file))    \n",
    "    total_size = get_directory_size(model_directory)\n",
    "    return model_directory,total_size\n",
    "\n",
    "path,size = get_model_path_and_size_on_disk(model_name)\n",
    "print(f\"--> model files size   : {(size/memory_unit_gb):.2f} GB\")\n",
    "print(f\"--> stored in directory: {path}\")"
   ]
  },
  {
   "cell_type": "code",
   "execution_count": 17,
   "id": "b0449d9d-448f-4ff8-97b4-fa6b0f7353b4",
   "metadata": {
    "execution": {
     "iopub.execute_input": "2024-04-23T21:30:48.841006Z",
     "iopub.status.busy": "2024-04-23T21:30:48.840780Z",
     "iopub.status.idle": "2024-04-23T21:30:48.843560Z",
     "shell.execute_reply": "2024-04-23T21:30:48.843105Z",
     "shell.execute_reply.started": "2024-04-23T21:30:48.840996Z"
    },
    "tags": []
   },
   "outputs": [
    {
     "name": "stdout",
     "output_type": "stream",
     "text": [
      "- free memory after load: 17227.10 MB\n"
     ]
    }
   ],
   "source": [
    "free_mem_mb = (torch.cuda.get_device_properties(0).total_memory - torch.cuda.memory_allocated(0))/1024/1024\n",
    "print(f\"- free memory after load: {free_mem_mb:.2f} MB\")"
   ]
  },
  {
   "cell_type": "code",
   "execution_count": 18,
   "id": "10656054-d3ee-4853-94e8-f96b177234ca",
   "metadata": {
    "execution": {
     "iopub.execute_input": "2024-04-23T21:30:48.844159Z",
     "iopub.status.busy": "2024-04-23T21:30:48.844048Z",
     "iopub.status.idle": "2024-04-23T21:30:48.847308Z",
     "shell.execute_reply": "2024-04-23T21:30:48.846902Z",
     "shell.execute_reply.started": "2024-04-23T21:30:48.844151Z"
    },
    "tags": []
   },
   "outputs": [],
   "source": [
    "# model.is_loaded_in_8bit, model.is_loaded_in_4bit"
   ]
  },
  {
   "cell_type": "code",
   "execution_count": 19,
   "id": "30d33a90-874f-49cb-b430-69453b7a8668",
   "metadata": {
    "execution": {
     "iopub.execute_input": "2024-04-23T21:30:48.848058Z",
     "iopub.status.busy": "2024-04-23T21:30:48.847832Z",
     "iopub.status.idle": "2024-04-23T21:30:48.858645Z",
     "shell.execute_reply": "2024-04-23T21:30:48.858033Z",
     "shell.execute_reply.started": "2024-04-23T21:30:48.848045Z"
    },
    "tags": []
   },
   "outputs": [
    {
     "name": "stdout",
     "output_type": "stream",
     "text": [
      "- model vocabulary: 32038\n",
      "- model sequence length: 4096\n",
      "- model torch dtype: torch.bfloat16\n"
     ]
    }
   ],
   "source": [
    "if model_id==\"bloomz_7b\":\n",
    "    tokenizer.model_max_length = model.config.seq_length\n",
    "elif model_id==\"olmo_1b\" or model_id==\"olmo_7b\":\n",
    "    tokenizer.model_max_length = model.config.max_sequence_length\n",
    "elif model_id==\"mpt_7b\" or model_id==\"mpt_30b\":\n",
    "    pass\n",
    "else:\n",
    "    # IMPORTANT fix: https://github.com/huggingface/transformers/issues/16186\n",
    "    tokenizer.model_max_length = int(min(tokenizer.model_max_length, model.config.max_position_embeddings))\n",
    "\n",
    "if model_id==\"stablelm2_1b\" or model_id==\"qwen_7b\" or model_id==\"qwen_14b\" or model_id==\"yi_34b\":\n",
    "    print(f\"- model vocabulary: {tokenizer.vocab_size}\")\n",
    "else:\n",
    "    print(f\"- model vocabulary: {len(tokenizer.vocab)}\")\n",
    "\n",
    "# Memory limit of RTX 4090\n",
    "if tokenizer.model_max_length>8192:\n",
    "    tokenizer.model_max_length = 8192\n",
    "    \n",
    "if model_id==\"decilm_7b\" or model_id==\"gemma_7b\" or model_id==\"codellama_34b\" or model_id==\"qwen1.5_7b\" or model_id==\"qwen1.5_14b\" or model_id==\"internlm2_20b\":\n",
    "    tokenizer.model_max_length = 4096\n",
    "elif model_id==\"mpt_30b\" or model_id==\"command-r_35b\" or model_id==\"qwen1.5_32b\":\n",
    "    tokenizer.model_max_length = 2048 \n",
    "    \n",
    "print(f\"- model sequence length: {int(tokenizer.model_max_length)}\")\n",
    "\n",
    "print(f\"- model torch dtype: {model.dtype}\")"
   ]
  },
  {
   "cell_type": "markdown",
   "id": "9956a9c2-62f2-4699-98f4-8f7a6306009a",
   "metadata": {},
   "source": [
    "## Unigram-normalized perplexity\n",
    "\n",
    "https://arxiv.org/pdf/2011.13220.pdf\n",
    "\n",
    "Unigram-Normalized Perplexity as a Language Model Performance Measure with Different Vocabulary Sizes\n",
    "\n",
    "*Jihyeon Roh, Sang-Hoon Oh, Soo-Young Lee*\n",
    "\n",
    "Although Perplexity is a widely used performance metric for language models, the values are highly dependent upon the number of words in the corpus and is useful to compare performance of the same corpus only.\n",
    "\n",
    "Perplexity may not be suitable for comparing LMs using different vocabularies because a larger vocabulary size tends to result in lower word probabilities and thus a higher Perplexity.\n",
    "\n",
    "In this paper, we propose a new metric that can be used to evaluate language model performance with different vocabulary sizes. \n",
    "\n",
    "The proposed unigram-normalized Perplexity actually presents the performance improvement of the language models from that of simple unigram model, and is robust on the vocabulary size.\n",
    "\n",
    "To overcome the limitations of the perplexity, we adopt the basic idea of normalizing the word probability with respect to a quantity containing the vocabulary size. \n",
    "\n",
    "We apply a unigram probability that is calculated from the word occurrence as a normalization factor for the perplexity. The unigram probability from the unigram LM is computed as Count(vk) / Count(all words), where Count(vk) is the number of occurrences of word vk in the corpus.\n",
    "\n",
    "Our proposed metric is obtained by normalizing the perplexity with this unigram probability.\n",
    "\n",
    "The proposed “Perplexity normalized with unigram” (PPLu) is defined as\n",
    "PPLu = (Product for all words in sequence of : P(word | language model) / P(word | unigram))^1/length of sequence \n",
    "\n",
    "This metric shows the likelihood improvement of a context-dependent LM from unigram LM without the context information, and enables us to evaluate the effectiveness of an LM.\n",
    "\n",
    "PPLu contains a unigram probability term, which allows PPLu to evaluate LMs more accurately than PPL does. Specifically, even if an LM fails to capture word relationships, it may achieve a good PPL by simply assigning high probabilities to words that frequently appear (e.g., unknown tokens). This case can be corrected with our PPLu, which considers the word frequencies via unigram probabilities."
   ]
  },
  {
   "cell_type": "markdown",
   "id": "2068465a-c0e0-4ea3-b8b6-cad49777b131",
   "metadata": {},
   "source": [
    "Formula:\n",
    "\n",
    "``` \n",
    "log(PPLu) = 1/length of sequence * Sum for all words in sequence( log(P(word | language model)) - log(P(word | unigram)))\n",
    "          = Log(PPL) - 1/length of sequence * Sum for all words in sequence( log(P(word | unigram) )\n",
    "```\n",
    "\n",
    "**Perplexity = 1 / geometric mean of model token probabilities****1 / geometric mean of model token probabilities**\n",
    "\n",
    "pt_ppl_losses = [ -ln(prob_model) ]\n",
    "\n",
    "pt_unigram_losses = [ -ln(prob_unigram) ]\n",
    "\n",
    "avg_ppl_losses = pt_ppl_losses.sum() / tokens_count \n",
    "\n",
    "avg_unigram_losses = pt_unigram_losses.sum() / tokens_count \n",
    "\n",
    "ppl = math.exp( avg_ppl_losses ) \n",
    "\n",
    "ppl_unigram = math.exp( avg_unigram_losses )\n",
    "\n",
    "**Unigram-normalized perplexity = (1 / geometric mean of model token probabilities) / (1 / geometric mean of unigram token probabilities)**\n",
    "\n",
    "pt_pplu_losses = pt_ppl_losses - pt_unigram_losses\n",
    "\n",
    "avg_pplu_losses = pt_pplu_losses.sum() / tokens_count\n",
    "\n",
    "pplu = math.exp( avg_pplu_losses )\n",
    "\n",
    "= math.exp( avg_ppl_losses - avg_unigram_losses ) \n",
    "\n",
    "= math.exp( avg_ppl_losses)/math.exp( avg_unigram_losses ) \n",
    "\n",
    "= ppl / ppl_unigram\n",
    "\n",
    "ppl_unigram = ppl / pplu"
   ]
  },
  {
   "cell_type": "code",
   "execution_count": 20,
   "id": "d67cdb98-d947-4575-a0c5-5d598d3251b0",
   "metadata": {
    "execution": {
     "iopub.execute_input": "2024-04-23T21:30:48.859759Z",
     "iopub.status.busy": "2024-04-23T21:30:48.859343Z",
     "iopub.status.idle": "2024-04-23T21:30:48.864853Z",
     "shell.execute_reply": "2024-04-23T21:30:48.864312Z",
     "shell.execute_reply.started": "2024-04-23T21:30:48.859744Z"
    },
    "tags": []
   },
   "outputs": [],
   "source": [
    "import torch.nn.functional as F\n",
    "\n",
    "class PPLu():\n",
    "    \n",
    "    def __init__(self, dataset_iterator, tokenizer, device):\n",
    "        if hasattr(tokenizer,\"vocab\"):\n",
    "            self.vocab_size = len(tokenizer.vocab)\n",
    "        else:\n",
    "            self.vocab_size = tokenizer.vocab_size\n",
    "        dataset_token_id_counts = torch.zeros(self.vocab_size+1, dtype=torch.int64)\n",
    "        dataset_tokens_count = 0\n",
    "        \n",
    "        for idx,dataset_batch in enumerate(dataset_iterator):\n",
    "            encodings = tokenizer(text = dataset_batch[\"Text\"], add_special_tokens=True, padding=\"longest\", return_tensors=\"pt\")\n",
    "            \n",
    "            # Padding tokens should be ignored: count them as token_id=vocabulary_size\n",
    "            token_ids = encodings.input_ids*encodings.attention_mask + self.vocab_size*(1-encodings.attention_mask)\n",
    "            \n",
    "            token_id_counts = torch.bincount(token_ids.view(-1), minlength=self.vocab_size+1)\n",
    "            tokens_count = encodings.attention_mask.sum()\n",
    "\n",
    "            dataset_token_id_counts += token_id_counts\n",
    "            dataset_tokens_count += tokens_count\n",
    "            if idx%100==9: print(f\"... {dataset_tokens_count:,} tokens\")\n",
    "        \n",
    "        # Then discard the tokens count for token_id=vocabulary_size\n",
    "        self.token_id_probs =  (dataset_token_id_counts[:-1] / dataset_tokens_count).unsqueeze(1).to(device)\n",
    "        self.perplexity_loss = torch.nn.CrossEntropyLoss(ignore_index=-100, reduction=\"none\")\n",
    "        print(f\"Done: {dataset_tokens_count:,} tokens\")\n",
    "\n",
    "    def __call__(self, input_ids, attention_mask, output_logits):\n",
    "        # Next-token prediction: shift prediction scores and input ids by one\n",
    "        logits = output_logits[:, :-1, :].permute(0, 2, 1).contiguous()\n",
    "        labels = input_ids[:, 1:].contiguous()\n",
    "        labels_to_ignore = attention_mask[:, 1:]\n",
    "\n",
    "        # Number of tokens predicted, ignoring padding tokens\n",
    "        predicted_tokens_count_r = labels_to_ignore.sum(dim=1)\n",
    "        # ... make sure we don't divide by 0 below ...\n",
    "        predicted_tokens_count = predicted_tokens_count_r.clamp(min=1)\n",
    "        \n",
    "        # Cross entropy loss (ignore_index=-100)\n",
    "        labels_for_crossentropy = labels*labels_to_ignore -100*(1-labels_to_ignore)\n",
    "        batch_perplexity_losses = (1/predicted_tokens_count)*self.perplexity_loss(logits, labels_for_crossentropy).sum(1)\n",
    "        \n",
    "        # Unigram probability loss\n",
    "        labels_probs = F.embedding(labels, self.token_id_probs).squeeze()\n",
    "        # prob = 1 for padding tokens => log prob = 0, ignored in the sum below\n",
    "        labels_probs = labels_probs*labels_to_ignore + (1-labels_to_ignore) \n",
    "        batch_unigram_losses = -(1/predicted_tokens_count)*torch.log(labels_probs).sum(dim=1)\n",
    "        \n",
    "        # Unigram-nomralized perplexities\n",
    "        perplexities = torch.exp(batch_perplexity_losses)\n",
    "        unigram_normalized_perplexities = torch.exp(batch_perplexity_losses - batch_unigram_losses)\n",
    "        \n",
    "        return predicted_tokens_count_r, batch_perplexity_losses, batch_unigram_losses, perplexities, unigram_normalized_perplexities"
   ]
  },
  {
   "cell_type": "code",
   "execution_count": 21,
   "id": "5fb7752c-3cbf-4131-bdf3-94d618448dc9",
   "metadata": {
    "execution": {
     "iopub.execute_input": "2024-04-23T21:30:48.865712Z",
     "iopub.status.busy": "2024-04-23T21:30:48.865565Z",
     "iopub.status.idle": "2024-04-23T21:30:48.868702Z",
     "shell.execute_reply": "2024-04-23T21:30:48.868118Z",
     "shell.execute_reply.started": "2024-04-23T21:30:48.865702Z"
    },
    "tags": []
   },
   "outputs": [],
   "source": [
    "class NormalizedPerplexityLogger:\n",
    "    def __init__(self, dataset_name, split, model_name):\n",
    "        self.filename = f\"{dataset_name.replace('/','_')}_{split}_{model_name.replace('/','_')}_pplu.csv\"\n",
    "        self.file = open(self.filename, 'w')\n",
    "        \n",
    "    def log_batch(self, ppl, pplu, uri, span):\n",
    "        self.file.write(f\"{ppl},{pplu},{uri},{span}\\n\")"
   ]
  },
  {
   "cell_type": "code",
   "execution_count": 22,
   "id": "f99701fc-91a6-4a23-90f9-61b55ff86fc9",
   "metadata": {
    "execution": {
     "iopub.execute_input": "2024-04-23T21:30:48.869365Z",
     "iopub.status.busy": "2024-04-23T21:30:48.869245Z",
     "iopub.status.idle": "2024-04-23T21:31:01.830217Z",
     "shell.execute_reply": "2024-04-23T21:31:01.829778Z",
     "shell.execute_reply.started": "2024-04-23T21:30:48.869355Z"
    },
    "tags": []
   },
   "outputs": [
    {
     "name": "stderr",
     "output_type": "stream",
     "text": [
      "Token indices sequence length is longer than the specified maximum sequence length for this model (663620 > 4096). Running this sequence through the model will result in indexing errors\n"
     ]
    },
    {
     "name": "stdout",
     "output_type": "stream",
     "text": [
      "... 8,301,683 tokens\n",
      "Done: 10,523,047 tokens\n"
     ]
    }
   ],
   "source": [
    "pplu_loss = PPLu(get_dataset_batches(dataset), tokenizer, model.device)"
   ]
  },
  {
   "cell_type": "code",
   "execution_count": 23,
   "id": "195039f2-1b85-400c-ae90-9d7b889fb46f",
   "metadata": {
    "execution": {
     "iopub.execute_input": "2024-04-23T21:31:01.830971Z",
     "iopub.status.busy": "2024-04-23T21:31:01.830704Z",
     "iopub.status.idle": "2024-04-23T21:31:01.834474Z",
     "shell.execute_reply": "2024-04-23T21:31:01.834087Z",
     "shell.execute_reply.started": "2024-04-23T21:31:01.830960Z"
    },
    "tags": []
   },
   "outputs": [
    {
     "name": "stdout",
     "output_type": "stream",
     "text": [
      "- dataset examples: 2555\n",
      "- batch_size=6, stride=256\n"
     ]
    }
   ],
   "source": [
    "if model_id==\"tinyllama_1b\" or model_id==\"croissantllm_1b\" or model_id==\"olmo_1b\" or model_id==\"redpajama_3b\" or model_id==\"openllama2_3b\":\n",
    "    batch_size = 16\n",
    "elif model_id==\"redpajama_7b\":\n",
    "    batch_size = 8\n",
    "elif model_id==\"stablelm_3b\" or model_id==\"phi2_3b\" or model_id==\"phi3_4b\" or model_id==\"falcon_7b\" or model_id==\"olmo_7b\" or model_id==\"mpt_7b\"or model_id==\"openllama1_13b\":\n",
    "    batch_size = 6\n",
    "elif model_id==\"stablelm2_1b\" or model_id==\"btlm_3b\" or model_id==\"minicpm_3b\" or model_id==\"llama2_7b\":\n",
    "    batch_size = 4\n",
    "elif model_id==\"yi_6b\" or model_id==\"llama2_13b\":\n",
    "    batch_size = 3\n",
    "elif model_id==\"bloomz_7b\" or model_id==\"llama2_7b_32k\" or model_id==\"mistral_7b\" or model_id==\"mistral_7b_32k\" or model_id==\"decilm_7b\" or model_id==\"solar_10b\"  or model_id==\"yi_9b\":\n",
    "    batch_size = 2\n",
    "elif model_id==\"gemma_2b\" or model_id==\"gemma_7b\" or model_id==\"llama3_8b\" or model_id==\"mpt_30b\" or model_id==\"internlm2_20b\" or model_id==\"codellama_34b\" or model_id==\"yi_34b\" or model_id==\"command-r_35b\" or model_id.startswith(\"qwen\"):\n",
    "    batch_size = 1\n",
    "stride = 256\n",
    "\n",
    "print(f\"- dataset examples: {len(dataset)}\")\n",
    "print(f\"- batch_size={batch_size}, stride={stride}\")"
   ]
  },
  {
   "cell_type": "code",
   "execution_count": null,
   "id": "66f3a6a1-522f-4cfb-874e-b42d51d14f58",
   "metadata": {
    "tags": []
   },
   "outputs": [],
   "source": [
    "import math\n",
    "\n",
    "logger = NormalizedPerplexityLogger(dataset_name, split, model_name)\n",
    "\n",
    "def display_perplexities(pred_tokens_count, ppl_losses, unigram_losses):        \n",
    "    pt_pred_tokens_count = torch.Tensor(pred_tokens_count)\n",
    "    total_pred_tokens_count = pt_pred_tokens_count.sum().item()\n",
    "    \n",
    "    pt_ppl_losses = torch.Tensor(ppl_losses)\n",
    "    pt_unigram_losses = torch.Tensor(unigram_losses)    \n",
    "    pt_pplu_losses = pt_ppl_losses - pt_unigram_losses\n",
    "\n",
    "    ppl = math.exp((pt_ppl_losses*pt_pred_tokens_count).sum().item() / total_pred_tokens_count)\n",
    "    pplu = math.exp((pt_pplu_losses*pt_pred_tokens_count).sum().item() / total_pred_tokens_count)\n",
    "\n",
    "    print(f\"-> perplexity = {ppl:.3f}\")\n",
    "    print(f\"-> unigram-normalized perplexity = {pplu*1000:.3f} (x1000)\")\n",
    "    \n",
    "pred_tokens_count = [] \n",
    "ppl_losses = []   \n",
    "unigram_losses = [] \n",
    "for idx,encodings_batch in enumerate(get_encodings_batches(tokenizer, dataset, batch_size=batch_size, stride=stride)):       \n",
    "    with torch.no_grad():\n",
    "        # predict next token\n",
    "        inputs = encodings_batch[\"input_ids\"].to(model.device)\n",
    "        attention_mask = encodings_batch[\"attention_mask\"].to(model.device)\n",
    "        outputs = model(input_ids=inputs, attention_mask=attention_mask, use_cache=False, output_attentions=False, output_hidden_states=False)\n",
    "\n",
    "        batch_pred_tokens_count, batch_ppl_losses, batch_unigram_losses, batch_ppl, batch_pplu = pplu_loss(inputs, attention_mask, outputs.logits)\n",
    "        \n",
    "        pred_tokens_count.extend(batch_pred_tokens_count.tolist())\n",
    "        ppl_losses.extend(batch_ppl_losses.tolist())\n",
    "        unigram_losses.extend(batch_unigram_losses.tolist())\n",
    "\n",
    "    for ppl,pplu,uri,span in zip(batch_ppl.tolist(), batch_pplu.tolist(), encodings_batch[\"overflow_to_sample_uri\"], encodings_batch[\"overflow_to_sample_offset\"]):\n",
    "        logger.log_batch(ppl, pplu, uri, span)\n",
    "\n",
    "    if idx%10 == 0:\n",
    "        print(f\"{(idx+1)*batch_size} encodings processed\")\n",
    "        display_perplexities(pred_tokens_count, ppl_losses, unigram_losses)\n",
    "\n",
    "print(f\"FINAL RESULT: {(idx+1)*batch_size} encodings processed\")\n",
    "display_perplexities(pred_tokens_count, ppl_losses, unigram_losses)"
   ]
  },
  {
   "cell_type": "markdown",
   "id": "2a89797b-624b-4786-8ed0-49e14fc021b7",
   "metadata": {},
   "source": [
    "### Phi3 tests\n",
    "\n",
    "#### Phi3 3.8b\n",
    "\n",
    "microsoft/Phi-3-mini-4k-instruct\n",
    "\n",
    "Used     :  7,336.4 MB -  29 %\n",
    "Max used : 16,363.5 MB -  66 %\n",
    "\n",
    "--> model files size   : 7.12 GB\n",
    "\n",
    "- model vocabulary: 32038\n",
    "- model sequence length: 4096\n",
    "- model torch dtype: torch.bfloat16\n",
    "\n",
    "- dataset examples: 8522\n",
    "- batch_size=6, stride=256\n",
    "\n",
    "**French dataset**\n",
    "\n",
    "15,042,809 tokens in 9 sec\n",
    "\n",
    "FINAL RESULT: 9858 encodings processed\n",
    "-> perplexity = 5.002\n",
    "-> unigram-normalized perplexity = 6.243 (x1000)\n",
    "\n",
    "in 23 min 7 sec\n",
    "\n",
    "**English dataset**\n",
    "\n",
    "10,523,047 tokens in 13 sec\n",
    "\n",
    "FINAL RESULT: 4626 encodings processed\n",
    "-> perplexity = 5.852\n",
    "-> unigram-normalized perplexity = 8.960 (x1000)\n",
    "\n",
    "in 15 min 32 sec"
   ]
  },
  {
   "cell_type": "markdown",
   "id": "358187d3-3f47-4fa7-9ac8-c7186db35a90",
   "metadata": {
    "execution": {
     "iopub.execute_input": "2024-04-21T12:24:23.371317Z",
     "iopub.status.busy": "2024-04-21T12:24:23.370442Z",
     "iopub.status.idle": "2024-04-21T12:24:23.377463Z",
     "shell.execute_reply": "2024-04-21T12:24:23.377029Z",
     "shell.execute_reply.started": "2024-04-21T12:24:23.371276Z"
    },
    "tags": []
   },
   "source": [
    "### Llama-3-8b quantization tests\n",
    " \n",
    "Tests on RTX 4090 with dataset *frenchtext/banque-fr-2311*.\n",
    " \n",
    "#### Huggingface perplexity tests\n",
    " \n",
    "**BF16 unquantized** \n",
    " \n",
    "model_name = \"meta-llama/Meta-Llama-3-8B-Instruct\"\n",
    "\n",
    "- sequence length: 8192\n",
    "\n",
    "1401 encodings processed\n",
    "-> perplexity = 5.302\n",
    "-> unigram-normalized perplexity = 3.729 (x1000)\n",
    "\n",
    "in 1 h 40 min\n",
    "\n",
    "- sequence length: 4096 \n",
    "\n",
    "1401 encodings processed\n",
    "-> perplexity = 5.659\n",
    "-> unigram-normalized perplexity = 4.115 (x1000)\n",
    "\n",
    "in 13 min 30 sec\n",
    "\n",
    "**Bitsandbytes 8 bits**\n",
    "\n",
    "model_name = \"meta-llama/Meta-Llama-3-8B-Instruct\" + load_in_8bit=True\n",
    " \n",
    "1401 encodings processed\n",
    "-> perplexity = 5.320\n",
    "-> unigram-normalized perplexity = 3.742 (x1000)\n",
    "\n",
    "in 22 min 59 sec\n",
    "\n",
    "**Bitsandbytes 4 bits**\n",
    "    \n",
    "model_name = \"unsloth/llama-3-8b-Instruct-bnb-4bit\"\n",
    "\n",
    "1401 encodings processed\n",
    "-> perplexity = 5.392\n",
    "-> unigram-normalized perplexity = 3.793 (x1000)\n",
    "\n",
    "in 18 min 45 sec\n",
    "\n",
    "**AWQ 4 bits**\n",
    "\n",
    "model_name = \"casperhansen/llama-3-8b-instruct-awq\"\n",
    "\n",
    "1401 encodings processed\n",
    "-> perplexity = 5.482\n",
    "-> unigram-normalized perplexity = 3.856 (x1000)\n",
    "\n",
    "in 25 min 5 sec\n",
    "\n",
    "**GPTQ 4 bits**\n",
    "\n",
    "model_name = \"TechxGenus/Meta-Llama-3-8B-Instruct-GPTQ\"\n",
    "\n",
    "1401 encodings processed\n",
    "-> perplexity = 5.663\n",
    "-> unigram-normalized perplexity = 3.983 (x1000)\n",
    "\n",
    "in 23 min 9 sec\n",
    "\n",
    "#### VLLM generation speed tests"
   ]
  },
  {
   "cell_type": "markdown",
   "id": "68949ae5-7020-4048-8f12-c21d52aa32c5",
   "metadata": {},
   "source": [
    "Llama 3 german\n",
    "\n",
    "9,003,046 tokens in 8 sec\n",
    "\n",
    "FINAL RESULT: 3363 encodings processed\n",
    "-> perplexity = 4.467\n",
    "-> unigram-normalized perplexity = 2.660 (x1000)\n",
    "\n",
    "in 2 hours 6 minutes"
   ]
  },
  {
   "cell_type": "markdown",
   "id": "57afee44-3f54-4267-b8c3-0519343f626f",
   "metadata": {
    "execution": {
     "iopub.execute_input": "2024-04-21T11:37:34.594365Z",
     "iopub.status.busy": "2024-04-21T11:37:34.592303Z",
     "iopub.status.idle": "2024-04-21T11:37:34.620399Z",
     "shell.execute_reply": "2024-04-21T11:37:34.619774Z",
     "shell.execute_reply.started": "2024-04-21T11:37:34.594181Z"
    },
    "tags": []
   },
   "source": [
    "Llama 3 english\n",
    "\n",
    "7,921,353 tokens in 11 sec\n",
    "\n",
    "FINAL RESULT: 3072 encodings processed\n",
    "-> perplexity = 5.442\n",
    "-> unigram-normalized perplexity = 3.658 (x1000)\n",
    "\n",
    "in 1 h 50 min 58 sec"
   ]
  },
  {
   "cell_type": "markdown",
   "id": "0c7d32ab-2443-4127-afc7-13001d2c1418",
   "metadata": {},
   "source": [
    "Computing perplexity on dataset frenchtext/banque-fr-2311:valid for meta-llama/Meta-Llama-3-8B\n",
    "--> model files size   : 14.97 GB\n",
    "Used     : 15,444.5 MB -  62 %\n",
    "\n",
    "- model vocabulary: 128256\n",
    "- model sequence length: 8192\n",
    "- model torch dtype: torch.bfloat16\n",
    "- dataset examples: 8522\n",
    "- batch_size=1, stride=256\n",
    "12,676,570 tokens in 7 sec\n",
    "\n",
    "FINAL RESULT: 8590 encodings processed\n",
    "-> perplexity = 4.587\n",
    "-> unigram-normalized perplexity = 3.114 (x1000)\n",
    "in 2 h 57 sec"
   ]
  },
  {
   "cell_type": "markdown",
   "id": "d238f8cf-0a92-43f2-8280-63ab672839ba",
   "metadata": {
    "execution": {
     "iopub.execute_input": "2024-02-22T06:33:31.351093Z",
     "iopub.status.busy": "2024-02-22T06:33:31.350566Z",
     "iopub.status.idle": "2024-02-22T06:33:31.360925Z",
     "shell.execute_reply": "2024-02-22T06:33:31.358702Z",
     "shell.execute_reply.started": "2024-02-22T06:33:31.351063Z"
    }
   },
   "source": [
    "FINAL RESULT: 8590 encodings processed\n",
    "-> perplexity = 4.587\n",
    "-> unigram-normalized perplexity = 3.114 (x1000)\n",
    "Computing perplexity on dataset frenchtext/bank-en-2401:valid for google/gemma-7b\n",
    "- 9,221,933 tokens in 4 min 44 sec\n",
    "- perplexity = 8.596\n",
    "- unigram-normalized perplexity = 14.140 (x1000)\n",
    "\n",
    "44 min 7 sec"
   ]
  },
  {
   "cell_type": "markdown",
   "id": "e81cb494-1795-4790-b992-457986c13b8d",
   "metadata": {},
   "source": [
    "Computing perplexity on dataset frenchtext/banque-fr-2311:valid for google/gemma-7b\n",
    "- free memory after load: 7767.17 MB\n",
    "- model vocabulary: 256000\n",
    "- model sequence length: 4096\n",
    "- model torch dtype: torch.bfloat16\n",
    "- dataset examples: 8522\n",
    "- batch_size=1, stride=256\n",
    "- 12,265,823 tokens in 35 sec\n",
    "- perplexity = 26.267\n",
    "- unigram-normalized perplexity = 27.284 (x1000)\n",
    "\n",
    "1 h 3 min"
   ]
  },
  {
   "cell_type": "markdown",
   "id": "70bd0168-1d9d-49b6-ab77-03dc5184a832",
   "metadata": {
    "execution": {
     "iopub.execute_input": "2024-02-05T12:54:52.076577Z",
     "iopub.status.busy": "2024-02-05T12:54:52.075563Z",
     "iopub.status.idle": "2024-02-05T12:54:52.084773Z",
     "shell.execute_reply": "2024-02-05T12:54:52.083806Z",
     "shell.execute_reply.started": "2024-02-05T12:54:52.076536Z"
    }
   },
   "source": [
    "Computing perplexity on dataset frenchtext/banque-fr-2311:valid for openbmb/MiniCPM-2B-sft-bf16\n",
    "- free memory after load: 19243.12 MB\n",
    "- model vocabulary: 122753\n",
    "- model sequence length: 2048\n",
    "- model torch dtype: torch.bfloat16\n",
    "- dataset examples: 8522\n",
    "- batch_size=4, stride=256\n",
    "- 16,240,371 tokens in 53 sec\n",
    "- perplexity = 7.226\n",
    "- unigram-normalized perplexity = 10.715 (x1000)\n",
    "\n",
    "38 min 21 sec"
   ]
  },
  {
   "cell_type": "markdown",
   "id": "13bf07fa-17b1-450d-a87f-88998699daf8",
   "metadata": {},
   "source": [
    "Computing perplexity on dataset frenchtext/banque-fr-2311:valid for Qwen/Qwen1.5-14B\n",
    "- free memory after load: 8890.43 MB\n",
    "- model vocabulary: 151646\n",
    "- model sequence length: 8192\n",
    "- model torch dtype: torch.bfloat16\n",
    "- dataset examples: 8522\n",
    "- batch_size=1, stride=256\n",
    "- 13,057,768 tokens in 18 sec\n",
    "- perplexity = 5.198\n",
    "- unigram-normalized perplexity = 4.294 (x1000)\n",
    "\n",
    "4 h 50 min"
   ]
  },
  {
   "cell_type": "markdown",
   "id": "bc1cfe8c-8233-4368-8bba-e0a564fd7aef",
   "metadata": {
    "execution": {
     "iopub.execute_input": "2024-02-10T20:44:15.849176Z",
     "iopub.status.busy": "2024-02-10T20:44:15.848727Z",
     "iopub.status.idle": "2024-02-10T20:44:15.884595Z",
     "shell.execute_reply": "2024-02-10T20:44:15.883753Z",
     "shell.execute_reply.started": "2024-02-10T20:44:15.849121Z"
    }
   },
   "source": [
    "Computing perplexity on dataset frenchtext/banque-fr-2311:valid for Qwen/Qwen1.5-7B\n",
    "- free memory after load: 9322.23 MB\n",
    "- model vocabulary: 151646\n",
    "- model sequence length: 4096\n",
    "- model torch dtype: torch.bfloat16\n",
    "- dataset examples: 8522\n",
    "- batch_size=1, stride=256\n",
    "- 13,057,768 tokens in 8 sec\n",
    "- perplexity = 5.619\n",
    "- unigram-normalized perplexity = 4.642 (x1000)\n",
    "\n",
    "56 min 22 sec"
   ]
  },
  {
   "cell_type": "markdown",
   "id": "970ed9a2-f826-4fb0-b338-d562f2290c44",
   "metadata": {},
   "source": [
    "Computing perplexity on dataset frenchtext/banque-fr-2311:valid for Qwen/Qwen1.5-1.8B\n",
    "- model vocabulary: 151646\n",
    "- model sequence length: 8192\n",
    "- model torch dtype: torch.bfloat16\n",
    "- dataset examples: 8522\n",
    "- batch_size=1, stride=256\n",
    "- 13,057,768 tokens in 18 sec\n",
    "- perplexity = 9.145\n",
    "- unigram-normalized perplexity = 7.546 (x1000)\n",
    "\n",
    "29 min 59 sec"
   ]
  },
  {
   "cell_type": "markdown",
   "id": "7e3a9755-3759-4c93-a965-783a30cd79d1",
   "metadata": {},
   "source": [
    "Computing perplexity on dataset frenchtext/banque-fr-2311:valid for Qwen/Qwen1.5-0.5B\n",
    "- model vocabulary: 151646\n",
    "- model sequence length: 8192\n",
    "- model torch dtype: torch.bfloat16\n",
    "- dataset examples: 8522\n",
    "- batch_size=1, stride=256\n",
    "- 13,057,768 tokens in 18 sec\n",
    "- perplexity = 12.009\n",
    "- unigram-\n",
    "normalized perplexity = 9.910 (x1000)\n",
    "\n",
    "25 min 28 sec"
   ]
  },
  {
   "cell_type": "markdown",
   "id": "faa957da-76b4-4c1f-9d4a-fcf30e4f833d",
   "metadata": {},
   "source": [
    "## Visualize 1/PPLu"
   ]
  },
  {
   "cell_type": "code",
   "execution_count": 1,
   "id": "f68956e5-2c9d-4471-aa2a-2f3f48edc522",
   "metadata": {
    "execution": {
     "iopub.execute_input": "2024-02-15T22:07:43.664055Z",
     "iopub.status.busy": "2024-02-15T22:07:43.663851Z",
     "iopub.status.idle": "2024-02-15T22:07:43.676575Z",
     "shell.execute_reply": "2024-02-15T22:07:43.676157Z",
     "shell.execute_reply.started": "2024-02-15T22:07:43.664041Z"
    },
    "tags": []
   },
   "outputs": [],
   "source": [
    "french_perfs = {\n",
    "\"allenai/OLMo-7B\" : { \"pplu-1\":186, \"time\":42.85, \"size\":7, \"sequence\":2048, \"tokens\":14.248 },\n",
    "\"bigscience/bloomz-7b1-mt\" : { \"pplu-1\":217, \"time\":58.86, \"size\":7.1, \"sequence\":2048, \"tokens\":10.041 },\n",
    "\"codellama/CodeLlama-34b-hf [4 bits]\" : { \"pplu-1\":198, \"time\":220, \"size\":34, \"sequence\":4.032, \"tokens\":15.042 },\n",
    "\"croissantllm/CroissantLLMBase\" : { \"pplu-1\":255, \"time\":8.5, \"size\":1.3, \"sequence\":2048, \"tokens\":11.181 },\n",
    "\"lightonai/alfred-40b-1023 [4 bits]\" : { \"pplu-1\":244, \"time\":197, \"size\":40, \"sequence\":8192, \"tokens\":13.622 },\n",
    "\"meta-llama/Llama-2-13b-hf [8 bits]\" : { \"pplu-1\":204, \"time\":59.31, \"size\":13, \"sequence\":4096, \"tokens\":15.042 },\n",
    "\"meta-llama/Llama-2-7b-hf\" : { \"pplu-1\":189, \"time\":59.31, \"size\":7, \"sequence\":4096, \"tokens\":15.042 },\n",
    "\"mistralai/Mistral-7B-v0.1\" : { \"pplu-1\":201, \"time\":40.45, \"size\":7.3, \"sequence\":8192, \"tokens\":15.453 },\n",
    "\"mistralai/Mixtral-8x7B-v0.1 [4 bits]\" : { \"pplu-1\":252, \"time\":90, \"size\":46.7, \"sequence\":8192, \"tokens\":15.169 },\n",
    "\"mosaicml/mpt-30b [4 bits]\" : { \"pplu-1\":215, \"time\":252, \"size\":30, \"sequence\":2048, \"tokens\":14.248 },\n",
    "\"mosaicml/mpt-7b\" : { \"pplu-1\":192, \"time\":51.86, \"size\":6.7, \"sequence\":2048, \"tokens\":14.248 },\n",
    "\"Qwen/Qwen1.5-4B\" : { \"pplu-1\":180, \"time\":41.55, \"size\":4, \"sequence\":8192, \"tokens\":13.057 },\n",
    "\"Qwen/Qwen-14B [8 bits]\" : { \"pplu-1\":256, \"time\":318, \"size\":14, \"sequence\":8192, \"tokens\":13.057 },\n",
    "\"Qwen/Qwen-7B\" : { \"pplu-1\":223, \"time\":46.76, \"size\":7, \"sequence\":8192, \"tokens\":13.057 },\n",
    "\"stabilityai/stablelm-2-1_6b\" : { \"pplu-1\":211, \"time\":16.55, \"size\":1.6, \"sequence\":4096, \"tokens\":13.213 },\n",
    "\"stabilityai/stablelm-3b-4e1t\" : { \"pplu-1\":217, \"time\":14.6, \"size\":3, \"sequence\":4096, \"tokens\":14.248 },\n",
    "\"tiiuae/falcon-7b\" : { \"pplu-1\":214, \"time\":29.71, \"size\":7, \"sequence\":2048, \"tokens\":13.622 },\n",
    "\"togethercomputer/LLaMA-2-7B-32K\" : { \"pplu-1\":181, \"time\":36.48, \"size\":7, \"sequence\":8192, \"tokens\":15.034 },\n",
    "\"togethercomputer/RedPajama-INCITE-7B-Base\" : { \"pplu-1\":195, \"time\":29.51, \"size\":6.9, \"sequence\":2048, \"tokens\":14.248 },\n",
    "\"togethercomputer/RedPajama-INCITE-Base-3B-v1\" : { \"pplu-1\":173, \"time\":13.86, \"size\":2.8, \"sequence\":2048, \"tokens\":14.248 },\n",
    "\"upstage/SOLAR-10.7B-v1.0 [8 bits]\" : { \"pplu-1\":189, \"time\":89, \"size\":10.7, \"sequence\":4096, \"tokens\":15.453 }\n",
    "}\n",
    "\n",
    "english_perfs = {\n",
    "\"allenai/OLMo-7B\" : { \"pplu-1\":175, \"time\":25.63, \"size\":7, \"sequence\":2048, \"tokens\":8.53 },\n",
    "\"bigscience/bloomz-7b1-mt\" : { \"pplu-1\":116, \"time\":44.1, \"size\":7.1, \"sequence\":2048, \"tokens\":8.014 },\n",
    "\"codellama/CodeLlama-34b-hf [4 bits]\" : { \"pplu-1\":152, \"time\":160, \"size\":34, \"sequence\":8192, \"tokens\":10.523 },\n",
    "\"croissantllm/CroissantLLMBase\" : { \"pplu-1\":154, \"time\":10.83, \"size\":1.3, \"sequence\":2048, \"tokens\":9.145 },\n",
    "\"lightonai/alfred-40b-1023 [4 bits]\" : { \"pplu-1\":159, \"time\":142, \"size\":40, \"sequence\":8192, \"tokens\":9.243 },\n",
    "\"meta-llama/Llama-2-13b-hf [8 bits]\" : { \"pplu-1\":168, \"time\":43.78, \"size\":13, \"sequence\":4096, \"tokens\":10.523 },\n",
    "\"meta-llama/Llama-2-7b-hf\" : { \"pplu-1\":159, \"time\":26.63, \"size\":7, \"sequence\":4096, \"tokens\":10.523 },\n",
    "\"mistralai/Mistral-7B-v0.1\" : { \"pplu-1\":166, \"time\":29.11, \"size\":7.3, \"sequence\":8192, \"tokens\":10.159 },\n",
    "\"mistralai/Mixtral-8x7B-v0.1 [4 bits]\" : { \"pplu-1\":178, \"time\":56.73, \"size\":46.7, \"sequence\":8192, \"tokens\":10.159 },\n",
    "\"mosaicml/mpt-30b [4 bits]\" : { \"pplu-1\":190, \"time\":136, \"size\":30, \"sequence\":2048, \"tokens\":8.53 },\n",
    "\"mosaicml/mpt-7b\" : { \"pplu-1\":174, \"time\":31.83, \"size\":6.7, \"sequence\":2048, \"tokens\":8.53 },\n",
    "\"Qwen/Qwen1.5-4B\" : { \"pplu-1\":155, \"time\":25.55, \"size\":4, \"sequence\":8192, \"tokens\":8.441 },\n",
    "\"Qwen/Qwen-14B [8 bits]\" : { \"pplu-1\":173, \"time\":220, \"size\":14, \"sequence\":8192, \"tokens\":8.441 },\n",
    "\"Qwen/Qwen-7B\" : { \"pplu-1\":172, \"time\":26.68, \"size\":7, \"sequence\":8192, \"tokens\":8.441 },\n",
    "\"stabilityai/stablelm-2-1_6b\" : { \"pplu-1\":140, \"time\":12.75, \"size\":1.6, \"sequence\":4096, \"tokens\":8.448 },\n",
    "\"stabilityai/stablelm-3b-4e1t\" : { \"pplu-1\":190, \"time\":8.83, \"size\":3, \"sequence\":4096, \"tokens\":8.53 },\n",
    "\"tiiuae/falcon-7b\" : { \"pplu-1\":130, \"time\":19.45, \"size\":7, \"sequence\":2048, \"tokens\":9.243 },\n",
    "\"togethercomputer/LLaMA-2-7B-32K\" : { \"pplu-1\":161, \"time\":27.96, \"size\":7, \"sequence\":8192, \"tokens\":10.52 },\n",
    "\"togethercomputer/RedPajama-INCITE-7B-Base\" : { \"pplu-1\":166, \"time\":17.3, \"size\":6.9, \"sequence\":2048, \"tokens\":8.53 },\n",
    "\"togethercomputer/RedPajama-INCITE-Base-3B-v1\" : { \"pplu-1\":154, \"time\":8.18, \"size\":2.8, \"sequence\":2048, \"tokens\":8.53 },\n",
    "\"upstage/SOLAR-10.7B-v1.0 [8 bits]\" : { \"pplu-1\":153, \"time\":55.86, \"size\":10.7, \"sequence\":4096, \"tokens\":10.159 }\n",
    "}\n",
    "\n",
    "german_perfs = {\n",
    "\"allenai/OLMo-7B\" : { \"pplu-1\":168, \"time\":30.13, \"size\":7, \"sequence\":2048, \"tokens\":10.581 },\n",
    "\"bigscience/bloomz-7b1-mt\" : { \"pplu-1\":83, \"time\":55.36, \"size\":7.1, \"sequence\":2048, \"tokens\":9.591 },\n",
    "\"codellama/CodeLlama-34b-hf [4 bits]\" : { \"pplu-1\":205, \"time\":158, \"size\":34, \"sequence\":8192, \"tokens\":10.286 },\n",
    "\"croissantllm/CroissantLLMBase\" : { \"pplu-1\":118, \"time\":7.61, \"size\":1.3, \"sequence\":2048, \"tokens\":11.797 },\n",
    "\"lightonai/alfred-40b-1023 [4 bits]\" : { \"pplu-1\":280, \"time\":177.36, \"size\":40, \"sequence\":8192, \"tokens\":9.719 },\n",
    "\"meta-llama/Llama-2-13b-hf [8 bits]\" : { \"pplu-1\":213, \"time\":40.56, \"size\":13, \"sequence\":4096, \"tokens\":10.286 },\n",
    "\"meta-llama/Llama-2-7b-hf\" : { \"pplu-1\":195, \"time\":23.23, \"size\":7, \"sequence\":4096, \"tokens\":10.286 },\n",
    "\"mistralai/Mistral-7B-v0.1\" : { \"pplu-1\":214, \"time\":27.53, \"size\":7.3, \"sequence\":8192, \"tokens\":10.912 },\n",
    "\"mistralai/Mixtral-8x7B-v0.1 [4 bits]\" : { \"pplu-1\":271, \"time\":71.5, \"size\":46.7, \"sequence\":8192, \"tokens\":10.912 },\n",
    "\"mosaicml/mpt-30b [4 bits]\" : { \"pplu-1\":207, \"time\":173.18, \"size\":30, \"sequence\":2048, \"tokens\":10.581 },\n",
    "\"mosaicml/mpt-7b\" : { \"pplu-1\":181, \"time\":40.91, \"size\":6.7, \"sequence\":2048, \"tokens\":10.581 },\n",
    "\"Qwen/Qwen1.5-4B\" : { \"pplu-1\":190, \"time\":27.18, \"size\":4, \"sequence\":8192, \"tokens\":9.264 },\n",
    "\"Qwen/Qwen-14B [8 bits]\" : { \"pplu-1\":281, \"time\":349.25, \"size\":14, \"sequence\":8192, \"tokens\":9.264 },\n",
    "\"Qwen/Qwen-7B\" : { \"pplu-1\":242, \"time\":27.21, \"size\":7, \"sequence\":8192, \"tokens\":9.264 },\n",
    "\"stabilityai/stablelm-2-1_6b\" : { \"pplu-1\":234, \"time\":12.66, \"size\":1.6, \"sequence\":4096, \"tokens\":9.346 },\n",
    "\"stabilityai/stablelm-3b-4e1t\" : { \"pplu-1\":218, \"time\":11.53, \"size\":3, \"sequence\":4096, \"tokens\":10.581 },\n",
    "\"tiiuae/falcon-7b\" : { \"pplu-1\":163, \"time\":21.13, \"size\":7, \"sequence\":2048, \"tokens\":9.718 },\n",
    "\"togethercomputer/LLaMA-2-7B-32K\" : { \"pplu-1\":163, \"time\":21.13, \"size\":7, \"sequence\":8192, \"tokens\":9.718 },\n",
    "\"togethercomputer/RedPajama-INCITE-7B-Base\" : { \"pplu-1\":185, \"time\":23.36, \"size\":6.9, \"sequence\":2048, \"tokens\":10.581 },\n",
    "\"togethercomputer/RedPajama-INCITE-Base-3B-v1\" : { \"pplu-1\":163, \"time\":11.15, \"size\":2.8, \"sequence\":2048, \"tokens\":10.581 },\n",
    "\"upstage/SOLAR-10.7B-v1.0 [8 bits]\" : { \"pplu-1\":201, \"time\":56.96, \"size\":10.7, \"sequence\":4096, \"tokens\":10.912 }\n",
    "}\n",
    "\n",
    "spanish_perfs = {\n",
    "\"allenai/OLMo-7B\" : { \"pplu-1\":145, \"time\":16.8, \"size\":7, \"sequence\":2048, \"tokens\":5.875 },\n",
    "\"bigscience/bloomz-7b1-mt\" : { \"pplu-1\":148, \"time\":23.55, \"size\":7.1, \"sequence\":2048, \"tokens\":4.193 },\n",
    "\"codellama/CodeLlama-34b-hf [4 bits]\" : { \"pplu-1\":146, \"time\":72.5, \"size\":34, \"sequence\":8192, \"tokens\":6.31 },\n",
    "\"croissantllm/CroissantLLMBase\" : { \"pplu-1\":105, \"time\":4.15, \"size\":1.3, \"sequence\":2048, \"tokens\":6.539 },\n",
    "\"lightonai/alfred-40b-1023 [4 bits]\" : { \"pplu-1\":187, \"time\":104.76, \"size\":40, \"sequence\":8192, \"tokens\":5.818 },\n",
    "\"meta-llama/Llama-2-13b-hf [8 bits]\" : { \"pplu-1\":153, \"time\":24.91, \"size\":13, \"sequence\":4096, \"tokens\":6.31 },\n",
    "\"meta-llama/Llama-2-7b-hf\" : { \"pplu-1\":142, \"time\":14.28, \"size\":7, \"sequence\":4096, \"tokens\":6.31 },\n",
    "\"mistralai/Mistral-7B-v0.1\" : { \"pplu-1\":154, \"time\":16.13, \"size\":7.3, \"sequence\":8192, \"tokens\":6.496 },\n",
    "\"mistralai/Mixtral-8x7B-v0.1 [4 bits]\" : { \"pplu-1\":188, \"time\":43.83, \"size\":46.7, \"sequence\":8192, \"tokens\":6.496 },\n",
    "\"mosaicml/mpt-30b [4 bits]\" : { \"pplu-1\":166, \"time\":96.18, \"size\":30, \"sequence\":2048, \"tokens\":5.875 },\n",
    "\"mosaicml/mpt-7b\" : { \"pplu-1\":151, \"time\":22.3, \"size\":6.7, \"sequence\":2048, \"tokens\":5.875 },\n",
    "\"Qwen/Qwen1.5-4B\" : { \"pplu-1\":132, \"time\":16.61, \"size\":4, \"sequence\":8192, \"tokens\":5.292 },\n",
    "\"Qwen/Qwen-14B [8 bits]\" : { \"pplu-1\":179, \"time\":88.1, \"size\":14, \"sequence\":8192, \"tokens\":5.292 },\n",
    "\"Qwen/Qwen-7B\" : { \"pplu-1\":156, \"time\":16.78, \"size\":7, \"sequence\":8192, \"tokens\":5.292 },\n",
    "\"stabilityai/stablelm-2-1_6b\" : { \"pplu-1\":154, \"time\":7.11, \"size\":1.6, \"sequence\":4096, \"tokens\":5.343 },\n",
    "\"stabilityai/stablelm-3b-4e1t\" : { \"pplu-1\":173, \"time\":6.26, \"size\":3, \"sequence\":4096, \"tokens\":5.875 },\n",
    "\"tiiuae/falcon-7b\" : { \"pplu-1\":129, \"time\":12.96, \"size\":7, \"sequence\":2048, \"tokens\":5.818 },\n",
    "\"togethercomputer/LLaMA-2-7B-32K\" : { \"pplu-1\":138, \"time\":14.61, \"size\":7, \"sequence\":8192, \"tokens\":6.308 },\n",
    "\"togethercomputer/RedPajama-INCITE-7B-Base\" : { \"pplu-1\":150, \"time\":13.21, \"size\":6.9, \"sequence\":2048, \"tokens\":5.875 },\n",
    "\"togethercomputer/RedPajama-INCITE-Base-3B-v1\" : { \"pplu-1\":134, \"time\":6.35, \"size\":2.8, \"sequence\":2048, \"tokens\":5.875 },\n",
    "\"upstage/SOLAR-10.7B-v1.0 [8 bits]\" : { \"pplu-1\":145, \"time\":35.45, \"size\":10.7, \"sequence\":4096, \"tokens\":6.496 } \n",
    "}"
   ]
  },
  {
   "cell_type": "code",
   "execution_count": 3,
   "id": "c30f8224-67e1-42eb-9ca8-b483485fb1af",
   "metadata": {
    "execution": {
     "iopub.execute_input": "2024-02-15T22:08:05.198212Z",
     "iopub.status.busy": "2024-02-15T22:08:05.197442Z",
     "iopub.status.idle": "2024-02-15T22:08:05.203876Z",
     "shell.execute_reply": "2024-02-15T22:08:05.202862Z",
     "shell.execute_reply.started": "2024-02-15T22:08:05.198184Z"
    },
    "tags": []
   },
   "outputs": [],
   "source": [
    "models_to_key = { models[key]:key for key in models }\n",
    "labels = [models_to_key[model.split()[0]] for model in french_perfs]\n",
    "sizes = [french_perfs[model][\"size\"]*8 for model in french_perfs]"
   ]
  },
  {
   "cell_type": "code",
   "execution_count": 4,
   "id": "f9f7d36d-912e-4de6-8276-04c408093e43",
   "metadata": {
    "execution": {
     "iopub.execute_input": "2024-02-15T22:08:08.064707Z",
     "iopub.status.busy": "2024-02-15T22:08:08.064017Z",
     "iopub.status.idle": "2024-02-15T22:08:08.070339Z",
     "shell.execute_reply": "2024-02-15T22:08:08.069576Z",
     "shell.execute_reply.started": "2024-02-15T22:08:08.064677Z"
    },
    "tags": []
   },
   "outputs": [],
   "source": [
    "fr_pplus = [french_perfs[model][\"pplu-1\"] for model in french_perfs]\n",
    "fr_times = [french_perfs[model][\"time\"] for model in french_perfs]\n",
    "fr_tokens = [french_perfs[model][\"tokens\"] for model in french_perfs]"
   ]
  },
  {
   "cell_type": "code",
   "execution_count": 5,
   "id": "51ec2d67-5856-49ae-8f95-8a80c0d1d27a",
   "metadata": {
    "execution": {
     "iopub.execute_input": "2024-02-15T22:08:09.301752Z",
     "iopub.status.busy": "2024-02-15T22:08:09.300991Z",
     "iopub.status.idle": "2024-02-15T22:08:09.307164Z",
     "shell.execute_reply": "2024-02-15T22:08:09.306707Z",
     "shell.execute_reply.started": "2024-02-15T22:08:09.301722Z"
    },
    "tags": []
   },
   "outputs": [],
   "source": [
    "en_pplus = [english_perfs[model][\"pplu-1\"] for model in english_perfs]\n",
    "en_times = [english_perfs[model][\"time\"] for model in english_perfs]\n",
    "en_tokens = [english_perfs[model][\"tokens\"] for model in english_perfs]"
   ]
  },
  {
   "cell_type": "code",
   "execution_count": 6,
   "id": "ff247b04-e174-4bea-a8b9-6084c558d67d",
   "metadata": {
    "execution": {
     "iopub.execute_input": "2024-02-15T22:09:11.501617Z",
     "iopub.status.busy": "2024-02-15T22:09:11.500775Z",
     "iopub.status.idle": "2024-02-15T22:09:11.506575Z",
     "shell.execute_reply": "2024-02-15T22:09:11.506086Z",
     "shell.execute_reply.started": "2024-02-15T22:09:11.501584Z"
    },
    "tags": []
   },
   "outputs": [],
   "source": [
    "de_pplus = [german_perfs[model][\"pplu-1\"] for model in german_perfs]\n",
    "de_times = [german_perfs[model][\"time\"] for model in german_perfs]\n",
    "de_tokens = [german_perfs[model][\"tokens\"] for model in german_perfs]"
   ]
  },
  {
   "cell_type": "code",
   "execution_count": 7,
   "id": "5376053c-b2c4-427c-accd-3624ea19b885",
   "metadata": {
    "execution": {
     "iopub.execute_input": "2024-02-15T22:09:53.669543Z",
     "iopub.status.busy": "2024-02-15T22:09:53.668743Z",
     "iopub.status.idle": "2024-02-15T22:09:53.674524Z",
     "shell.execute_reply": "2024-02-15T22:09:53.673711Z",
     "shell.execute_reply.started": "2024-02-15T22:09:53.669512Z"
    },
    "tags": []
   },
   "outputs": [],
   "source": [
    "es_pplus = [spanish_perfs[model][\"pplu-1\"] for model in spanish_perfs]\n",
    "es_times = [spanish_perfs[model][\"time\"] for model in spanish_perfs]\n",
    "es_tokens = [spanish_perfs[model][\"tokens\"] for model in spanish_perfs]"
   ]
  },
  {
   "cell_type": "code",
   "execution_count": 8,
   "id": "c40fa881-d81c-490e-8803-4bc1cc4817e7",
   "metadata": {
    "execution": {
     "iopub.execute_input": "2024-02-15T22:10:27.246384Z",
     "iopub.status.busy": "2024-02-15T22:10:27.245560Z",
     "iopub.status.idle": "2024-02-15T22:10:27.251788Z",
     "shell.execute_reply": "2024-02-15T22:10:27.250776Z",
     "shell.execute_reply.started": "2024-02-15T22:10:27.246339Z"
    },
    "tags": []
   },
   "outputs": [],
   "source": [
    "fr_avg_tokens = sum(fr_tokens)/len(fr_tokens)\n",
    "en_avg_tokens = sum(en_tokens)/len(en_tokens)\n",
    "de_avg_tokens = sum(de_tokens)/len(de_tokens)\n",
    "es_avg_tokens = sum(es_tokens)/len(es_tokens)"
   ]
  },
  {
   "cell_type": "code",
   "execution_count": 9,
   "id": "902abb54-5e8c-436e-bcf2-0bac12828fde",
   "metadata": {
    "execution": {
     "iopub.execute_input": "2024-02-15T22:10:42.835999Z",
     "iopub.status.busy": "2024-02-15T22:10:42.835603Z",
     "iopub.status.idle": "2024-02-15T22:10:43.474434Z",
     "shell.execute_reply": "2024-02-15T22:10:43.469825Z",
     "shell.execute_reply.started": "2024-02-15T22:10:42.835972Z"
    },
    "tags": []
   },
   "outputs": [
    {
     "data": {
      "image/png": "[encoded data removed]",
      "text/plain": [
       "<Figure size 1440x864 with 1 Axes>"
      ]
     },
     "metadata": {
      "needs_background": "light"
     },
     "output_type": "display_data"
    }
   ],
   "source": [
    "import matplotlib.pyplot as plt\n",
    "\n",
    "# Plotting\n",
    "fig, ax = plt.subplots(figsize=(20, 12))\n",
    "scatter = ax.scatter(fr_times, fr_pplus, s=sizes, alpha=1)\n",
    "\n",
    "# Adding labels to each point\n",
    "for i, label in enumerate(labels):\n",
    "    ax.annotate(label, (fr_times[i]+4, fr_pplus[i]-0.5))\n",
    "\n",
    "# Setting the axis labels\n",
    "ax.set_xlabel('Exec time (min)')\n",
    "ax.set_ylabel('1 / Unigram-normalized perplexity')\n",
    "ax.set_title(f'French: Perplexity vs Execution time (on {fr_avg_tokens:.2f} million tokens from dataset \"frenchtext/banque-fr-2311:valid\")')\n",
    "\n",
    "plt.show()"
   ]
  },
  {
   "cell_type": "code",
   "execution_count": 10,
   "id": "446b6a74-9737-447e-853d-321369d4c67e",
   "metadata": {
    "execution": {
     "iopub.execute_input": "2024-02-15T22:11:41.124734Z",
     "iopub.status.busy": "2024-02-15T22:11:41.124406Z",
     "iopub.status.idle": "2024-02-15T22:11:41.220049Z",
     "shell.execute_reply": "2024-02-15T22:11:41.219459Z",
     "shell.execute_reply.started": "2024-02-15T22:11:41.124723Z"
    },
    "tags": []
   },
   "outputs": [
    {
     "data": {
      "image/png": "[encoded data removed]",
      "text/plain": [
       "<Figure size 1440x864 with 1 Axes>"
      ]
     },
     "metadata": {
      "needs_background": "light"
     },
     "output_type": "display_data"
    }
   ],
   "source": [
    "# Plotting\n",
    "fig, ax = plt.subplots(figsize=(20, 12))\n",
    "scatter = ax.scatter(en_times, en_pplus, s=sizes, alpha=1)\n",
    "\n",
    "# Adding labels to each point\n",
    "for i, label in enumerate(labels):\n",
    "    if label.startswith(\"redpajama\"):\n",
    "        ax.annotate(label, (en_times[i]+2, en_pplus[i]-2))\n",
    "    elif label==\"mpt_7b\":        \n",
    "        ax.annotate(label, (en_times[i]+2, en_pplus[i]-0.2))\n",
    "    elif label==\"olmo_7b\":        \n",
    "        ax.annotate(label, (en_times[i]+2, en_pplus[i]+0.7))\n",
    "    else:\n",
    "        ax.annotate(label, (en_times[i]+3, en_pplus[i]-0.5))\n",
    "\n",
    "# Setting the axis labels\n",
    "ax.set_xlabel('Exec time (min)')\n",
    "ax.set_ylabel('1 / Unigram-normalized perplexity')\n",
    "ax.set_title(f'English: Perplexity vs Execution time (on {en_avg_tokens:.2f} million tokens from dataset \"frenchtext/bank-en-2401:valid\")')\n",
    "\n",
    "plt.show()"
   ]
  },
  {
   "cell_type": "code",
   "execution_count": 20,
   "id": "94162efc-91b6-4640-8fb8-a6231cf82591",
   "metadata": {
    "execution": {
     "iopub.execute_input": "2024-02-15T22:17:17.979877Z",
     "iopub.status.busy": "2024-02-15T22:17:17.979139Z",
     "iopub.status.idle": "2024-02-15T22:17:18.084518Z",
     "shell.execute_reply": "2024-02-15T22:17:18.084056Z",
     "shell.execute_reply.started": "2024-02-15T22:17:17.979845Z"
    },
    "tags": []
   },
   "outputs": [
    {
     "data": {
      "image/png": "[encoded data removed]",
      "text/plain": [
       "<Figure size 1440x864 with 1 Axes>"
      ]
     },
     "metadata": {
      "needs_background": "light"
     },
     "output_type": "display_data"
    }
   ],
   "source": [
    "import matplotlib.pyplot as plt\n",
    "\n",
    "# Plotting\n",
    "fig, ax = plt.subplots(figsize=(20, 12))\n",
    "scatter = ax.scatter(de_times, de_pplus, s=sizes, alpha=1)\n",
    "\n",
    "# Adding labels to each point\n",
    "for i, label in enumerate(labels):\n",
    "    ax.annotate(label, (de_times[i]+4, de_pplus[i]-2.5))\n",
    "\n",
    "# Setting the axis labels\n",
    "ax.set_xlabel('Exec time (min)')\n",
    "ax.set_ylabel('1 / Unigram-normalized perplexity')\n",
    "ax.set_title(f'German: Perplexity vs Execution time (on {fr_avg_tokens:.2f} million tokens from dataset \"frenchtext/bank-de-2401:valid\")')\n",
    "\n",
    "plt.show()"
   ]
  },
  {
   "cell_type": "code",
   "execution_count": 24,
   "id": "5af94412-dc8c-4a84-a945-aaf47912817c",
   "metadata": {
    "execution": {
     "iopub.execute_input": "2024-02-15T23:58:56.182443Z",
     "iopub.status.busy": "2024-02-15T23:58:56.181016Z",
     "iopub.status.idle": "2024-02-15T23:58:56.271527Z",
     "shell.execute_reply": "2024-02-15T23:58:56.271127Z",
     "shell.execute_reply.started": "2024-02-15T23:58:56.182395Z"
    },
    "tags": []
   },
   "outputs": [
    {
     "data": {
      "image/png": "[encoded data removed]",
      "text/plain": [
       "<Figure size 1440x864 with 1 Axes>"
      ]
     },
     "metadata": {
      "needs_background": "light"
     },
     "output_type": "display_data"
    }
   ],
   "source": [
    "import matplotlib.pyplot as plt\n",
    "\n",
    "# Plotting\n",
    "fig, ax = plt.subplots(figsize=(20, 12))\n",
    "scatter = ax.scatter(es_times, es_pplus, s=sizes, alpha=1)\n",
    "\n",
    "# Adding labels to each point\n",
    "for i, label in enumerate(labels):\n",
    "    ax.annotate(label, (es_times[i]+1.5, es_pplus[i]-0.5))\n",
    "\n",
    "# Setting the axis labels\n",
    "ax.set_xlabel('Exec time (min)')\n",
    "ax.set_ylabel('1 / Unigram-normalized perplexity')\n",
    "ax.set_title(f'Spanish: Perplexity vs Execution time (on {fr_avg_tokens:.2f} million tokens from dataset \"frenchtext/bank-es-2401:valid\")')\n",
    "\n",
    "plt.show()"
   ]
  },
  {
   "cell_type": "markdown",
   "id": "27578c09-f76f-4856-a08b-514c3541054b",
   "metadata": {
    "execution": {
     "iopub.execute_input": "2024-02-02T18:59:55.047671Z",
     "iopub.status.busy": "2024-02-02T18:59:55.047017Z",
     "iopub.status.idle": "2024-02-02T18:59:55.055399Z",
     "shell.execute_reply": "2024-02-02T18:59:55.054610Z",
     "shell.execute_reply.started": "2024-02-02T18:59:55.047634Z"
    },
    "tags": []
   },
   "source": [
    "omputing perplexity on dataset frenchtext/bank-en-2401:valid for allenai/OLMo-1B\n",
    "- free memory after load: 22319.00 MB\n",
    "- model vocabulary: 50280\n",
    "- model sequence length: 2048\n",
    "- model torch dtype: torch.float16\n",
    "- dataset examples: 8522\n",
    "- batch_size=16, stride=256\n",
    "- 8,530,699 tokens in 15 sec\n",
    "- perplexity = 8.268\n",
    "- unigram-normalized perplexity = 7.325 (x1000)\n",
    "\n",
    "5 min 58 sec"
   ]
  },
  {
   "cell_type": "markdown",
   "id": "9e164535-85bb-4ac6-8ec4-4567b5bf0794",
   "metadata": {},
   "source": [
    "Computing perplexity on dataset frenchtext/bank-en-2401:valid for allenai/OLMo-7B\n",
    "- free memory after load: 11423.50 MB\n",
    "- model vocabulary: 50280\n",
    "- model sequence length: 2048\n",
    "- model torch dtype: torch.float16\n",
    "- dataset examples: 8522\n",
    "- batch_size=6, stride=256\n",
    "- 8,530,699 tokens in 22 sec\n",
    "- perplexity = 6.419\n",
    "- unigram-normalized perplexity = 5.687 (x1000)\n",
    "\n",
    "25 min 38 sec"
   ]
  },
  {
   "cell_type": "markdown",
   "id": "5312858f-b1db-487c-a6a2-996c43783eed",
   "metadata": {},
   "source": [
    "Computing perplexity on dataset frenchtext/banque-fr-2311:valid for allenai/OLMo-7B\n",
    "- free memory after load: 11423.50 MB\n",
    "- model vocabulary: 50280\n",
    "- model sequence length: 2048\n",
    "- model torch dtype: torch.float16\n",
    "- dataset examples: 8522\n",
    "- batch_size=6, stride=256\n",
    "- 14,248,418 tokens in 16 sec\n",
    "- perplexity = 5.783\n",
    "- unigram-normalized perplexity = 5.372 (x1000)\n",
    "\n",
    "42 min 51 sec"
   ]
  },
  {
   "cell_type": "markdown",
   "id": "e332baf6-45c6-4900-97a8-9c6851860b2e",
   "metadata": {},
   "source": [
    "Computing perplexity on dataset frenchtext/banque-fr-2311:valid for allenai/OLMo-1B\n",
    "- free memory after load: 22319.00 MB\n",
    "- model vocabulary: 50280\n",
    "- model sequence length: 2048\n",
    "- model torch dtype: torch.float16\n",
    "- dataset examples: 8522\n",
    "- batch_size=16, stride=256\n",
    "- 14,248,418 tokens in 11 sec\n",
    "- perplexity = 8.421\n",
    "- unigram-normalized perplexity = 7.823 (x1000)\n",
    "\n",
    "9 min 57 sec"
   ]
  },
  {
   "cell_type": "markdown",
   "id": "846ee81d-252c-46a0-be97-6e31af8af989",
   "metadata": {},
   "source": [
    "Computing perplexity on dataset frenchtext/banque-fr-2311:valid for croissantllm/CroissantLLMBase\n",
    "- free memory after load: 21935.30 MB\n",
    "- model vocabulary: 32000\n",
    "- model sequence length: 2048\n",
    "- model torch dtype: torch.float16\n",
    "- dataset examples: 2555\n",
    "- batch_size=16, stride=256\n",
    "- 11,181,671 tokens in 37 sec\n",
    "- perplexity = 6.300\n",
    "- unigram-normalized perplexity = 3.921 (x1000)\n",
    "\n",
    "8 min 30 sec"
   ]
  },
  {
   "cell_type": "markdown",
   "id": "12a051e7-e1f2-4470-843c-ed3e45210550",
   "metadata": {},
   "source": [
    "Computing perplexity on dataset frenchtext/bank-en-2401:valid for croissantllm/CroissantLLMBase\n",
    "- free memory after load: 21935.30 MB\n",
    "- model vocabulary: 32000\n",
    "- model sequence length: 2048\n",
    "- model torch dtype: torch.float16\n",
    "- dataset examples: 2555\n",
    "- batch_size=16, stride=256\n",
    "- 9,145,900 tokens in 5 min 16 sec\n",
    "- perplexity = 7.963\n",
    "- unigram-normalized perplexity = 6.461 (x1000)\n",
    "\n",
    "10 min 50 sec"
   ]
  },
  {
   "cell_type": "markdown",
   "id": "eea59de5-7d61-47c3-8b49-9dca8196420e",
   "metadata": {},
   "source": [
    "Computing perplexity on dataset frenchtext/banque-fr-2311:valid for Qwen/Qwen-7B\n",
    "- free memory after load: 9832.23 MB\n",
    "- model vocabulary: 151851\n",
    "- model sequence length: 8192\n",
    "- model torch dtype: torch.bfloat16\n",
    "- dataset examples: 8522\n",
    "- batch_size=1, stride=256\n",
    "- 8,441,323 tokens tokens in 17 sec\n",
    "- perplexity = 5.970\n",
    "- unigram-normalized perplexity = 5.808 (x1000)\n",
    "\n",
    "26 min 41 sec"
   ]
  },
  {
   "cell_type": "markdown",
   "id": "5ce14802-9116-4e8e-8591-8574fe79f5c3",
   "metadata": {},
   "source": [
    "Computing perplexity on dataset frenchtext/bank-en-2401:valid for Qwen/Qwen-14B\n",
    "- free memory after load: 9507.93 MB\n",
    "- model vocabulary: 151851\n",
    "- model sequence length: 8192\n",
    "- model torch dtype: torch.bfloat16\n",
    "- dataset examples: 2555\n",
    "- batch_size=1, stride=256\n",
    "- 8,441,323 tokens in 11 sec\n",
    "- perplexity = 5.915\n",
    "- unigram-normalized perplexity = 5.755 (x1000)\n",
    "\n",
    "3h 40 min"
   ]
  },
  {
   "cell_type": "markdown",
   "id": "610c7489-eb8f-4b85-9991-e93249531c81",
   "metadata": {},
   "source": [
    "Computing perplexity on dataset frenchtext/banque-fr-2311:valid for Qwen/Qwen-7B\n",
    "- free memory after load: 9832.23 MB\n",
    "- model vocabulary: 151851\n",
    "- model sequence length: 8192\n",
    "- model torch dtype: torch.bfloat16\n",
    "- dataset examples: 8522\n",
    "- batch_size=1, stride=256\n",
    "- 13,057,768 tokens in 15 sec\n",
    "- perplexity = 5.413\n",
    "- unigram-normalized perplexity = 4.466 (x1000)\n",
    "\n",
    "46 min 46 sec"
   ]
  },
  {
   "cell_type": "markdown",
   "id": "38a06a3f-8522-49ed-a660-c14fdf4aa58e",
   "metadata": {},
   "source": [
    "Computing perplexity on dataset frenchtext/banque-fr-2311:valid for Qwen/Qwen-14B\n",
    "- free memory after load: 9507.93 MB\n",
    "- model vocabulary: 151851\n",
    "- model sequence length: 8192\n",
    "- model torch dtype: torch.bfloat16\n",
    "- dataset examples: 8522\n",
    "- batch_size=1, stride=256\n",
    "- 13,057,768 tokens in 15 sec\n",
    "- perplexity = 4.723\n",
    "- unigram-normalized perplexity = 3.897 (x1000)\n",
    "\n",
    "5 h 18 min"
   ]
  },
  {
   "cell_type": "markdown",
   "id": "f198b0bd-3b3e-44bd-a66c-a9be5a464643",
   "metadata": {},
   "source": [
    "Computing perplexity on dataset frenchtext/banque-fr-2311:valid for stabilityai/stablelm-2-1_6b\n",
    "- free memory after load: 21420.82 MB\n",
    "- model vocabulary: 100289\n",
    "- model sequence length: 4096\n",
    "- model torch dtype: torch.bfloat16\n",
    "- batch_size=4, stride=256\n",
    "- 13,213,989 tokens in 11 sec\n",
    "- perplexity = 5.632\n",
    "- unigram-normalized perplexity = 4.726 (x1000)\n",
    "\n",
    "16 min 33 sec"
   ]
  },
  {
   "cell_type": "markdown",
   "id": "62502c83-27b0-49a9-b6ec-9b583e9e2404",
   "metadata": {},
   "source": [
    "Computing perplexity on dataset frenchtext/bank-en-2401:valid for stabilityai/stablelm-2-1_6b\n",
    "- free memory after load: 21420.82 MB\n",
    "- model vocabulary: 100289\n",
    "- model sequence length: 4096\n",
    "- model torch dtype: torch.bfloat16\n",
    "- dataset examples: 2555\n",
    "- batch_size=4, stride=256\n",
    "- 8,448,894 tokens in 8 sec\n",
    "- perplexity = 7.291\n",
    "- unigram-normalized perplexity = 7.097 (x1000)\n",
    "\n",
    "12 min 45 sec"
   ]
  },
  {
   "cell_type": "markdown",
   "id": "3c96d9db-7ec5-4517-bf3a-5b1a3236f61a",
   "metadata": {
    "execution": {
     "iopub.execute_input": "2024-01-22T06:10:31.686710Z",
     "iopub.status.busy": "2024-01-22T06:10:31.685888Z",
     "iopub.status.idle": "2024-01-22T06:10:31.726034Z",
     "shell.execute_reply": "2024-01-22T06:10:31.725155Z",
     "shell.execute_reply.started": "2024-01-22T06:10:31.686630Z"
    }
   },
   "source": [
    "Computing perplexity on dataset frenchtext/bank-en-2401:valid for codellama/CodeLlama-34b-hf\n",
    "- model vocabulary: 32004\n",
    "- model sequence length: 8192\n",
    "- model torch dtype: torch.bfloat16\n",
    "- dataset examples: 2555\n",
    "- batch_size=1, stride=256\n",
    "- 10,523,047 tokens in 5 min 3 sec\n",
    "- perplexity = 4.312\n",
    "- unigram-normalized perplexity = 6.577 (x1000)\n",
    "\n",
    "2 h 40 min"
   ]
  },
  {
   "cell_type": "markdown",
   "id": "561bbbfa-3d24-412c-9328-91e51b55ebe6",
   "metadata": {},
   "source": [
    "Computing perplexity on dataset frenchtext/bank-en-2401:valid for 01-ai/Yi-34B\n",
    "- free memory after load: 4716.67 MB\n",
    "- model vocabulary: 64000\n",
    "- model sequence length: 4096\n",
    "- model torch dtype: torch.bfloat16\n",
    "- dataset examples: 2555\n",
    "- batch_size=1, stride=256\n",
    "- 9,943,316 tokens in 4 min 47 sec\n",
    "- perplexity = 4.054\n",
    "- unigram-normalized perplexity = 6.919 (x1000)\n",
    "\n",
    "2 h 46 min"
   ]
  },
  {
   "cell_type": "markdown",
   "id": "4cdd8119-f1e1-4184-a5fd-8f129726b55a",
   "metadata": {},
   "source": [
    "Computing perplexity on dataset frenchtext/banque-fr-2311:valid for lightonai/alfred-40b-1023\n",
    "- model vocabulary: 65024\n",
    "- model sequence length: 8192\n",
    "- model torch dtype: torch.bfloat16\n",
    "- dataset examples: 8522\n",
    "- batch_size=4, stride=256\n",
    "- 13,622,486 tokens in 14 sec\n",
    "- perplexity = 3.815\n",
    "- unigram-normalized perplexity = 4.098 (x1000)\n",
    "\n",
    "3 h 17min"
   ]
  },
  {
   "cell_type": "markdown",
   "id": "59f679f8-b7e7-45f5-9342-df29fb6c6147",
   "metadata": {},
   "source": [
    "Computing perplexity on dataset frenchtext/bank-en-2401:valid for lightonai/alfred-40b-1023\n",
    "- model vocabulary: 65024\n",
    "- model sequence length: 8192\n",
    "- model torch dtype: torch.bfloat16\n",
    "- dataset examples: 2555\n",
    "- batch_size=4, stride=256\n",
    "- 9,243,621 tokens in 14 sec\n",
    "- perplexity = 4.690\n",
    "- unigram-normalized perplexity = 6.273 (x1000)\n",
    "\n",
    "2 h 22 min"
   ]
  },
  {
   "cell_type": "markdown",
   "id": "45ccbada-f673-4295-b595-cd64252083c0",
   "metadata": {},
   "source": [
    "Computing perplexity on dataset frenchtext/bank-en-2401:valid for meta-llama/Llama-2-13b-hf\n",
    "- **load_in_4bit=True**\n",
    "- free memory after load: 17001.15 MB\n",
    "- model vocabulary: 32000\n",
    "- model sequence length: 4096\n",
    "- model torch dtype: torch.float16\n",
    "- 10,523,047 tokens in 5 min 4 sec\n",
    "- dataset examples: 2555\n",
    "- batch_size=3, stride=256\n",
    "- perplexity = 3.988\n",
    "- unigram-normalized perplexity = 6.109 (x1000)\n",
    "\n",
    "2h 16 min"
   ]
  },
  {
   "cell_type": "markdown",
   "id": "15bb237e-b700-40a1-bef1-329520ee375c",
   "metadata": {},
   "source": [
    "Computing perplexity on dataset frenchtext/bank-en-2401:valid for mosaicml/mpt-30b\n",
    "- model vocabulary: 50277\n",
    "- model sequence length: 2048\n",
    "- model torch dtype: torch.bfloat16\n",
    "- dataset examples: 2555\n",
    "- batch_size=1, stride=256\n",
    "- 8,530,699 tokens in 7 sec\n",
    "- perplexity = 5.918\n",
    "- unigram-normalized perplexity = 5.243 (x1000)\n",
    "\n",
    "2 h 16 min"
   ]
  },
  {
   "cell_type": "markdown",
   "id": "b44962bd-b0a9-42e6-a7c0-5d1ef03307eb",
   "metadata": {
    "execution": {
     "iopub.execute_input": "2024-01-20T08:05:34.323167Z",
     "iopub.status.busy": "2024-01-20T08:05:34.322413Z",
     "iopub.status.idle": "2024-01-20T08:05:34.347225Z",
     "shell.execute_reply": "2024-01-20T08:05:34.346601Z",
     "shell.execute_reply.started": "2024-01-20T08:05:34.323139Z"
    },
    "tags": []
   },
   "source": [
    "Computing perplexity on dataset frenchtext/banque-fr-2311:valid for tiiuae/falcon-40b\n",
    "- free memory after load: 1643.57 MB\n",
    "- model vocabulary: 65024\n",
    "- model sequence length: 2048\n",
    "- model torch dtype: torch.bfloat16\n",
    "\n",
    "==> Impossible on RTX 4090, need to run on the RTX A6000"
   ]
  },
  {
   "cell_type": "markdown",
   "id": "d9e0f853-bc0c-4a85-ba97-90b22ed27be5",
   "metadata": {},
   "source": [
    "Computing perplexity on dataset frenchtext/banque-fr-2311:valid for 01-ai/Yi-34B\n",
    "- model vocabulary: 64000\n",
    "- model sequence length: 4096\n",
    "- model torch dtype: torch.bfloat16\n",
    "- dataset examples: 8522\n",
    "- batch_size=1, stride=256\n",
    "- 16,978,029 tokens in 44 sec\n",
    "- perplexity = 3.422\n",
    "- unigram-normalized perplexity = 5.688 (x1000)\n",
    "\n",
    "5 h 44 min"
   ]
  },
  {
   "cell_type": "markdown",
   "id": "931b5655-7a3a-4013-b860-d3f6779bed97",
   "metadata": {},
   "source": [
    "Computing perplexity on dataset frenchtext/banque-fr-2311:valid for codellama/CodeLlama-34b-hf\n",
    "- model vocabulary: 32004\n",
    "- model sequence length: 8192\n",
    "- model torch dtype: torch.bfloat16\n",
    "- dataset examples: 8522\n",
    "- batch_size=1, stride=256\n",
    "- 15,042,809 tokens in 57 sec\n",
    "- perplexity = 4.032\n",
    "- unigram-normalized perplexity = 5.028 (x1000)\n",
    "\n",
    "3 h 40 min"
   ]
  },
  {
   "cell_type": "markdown",
   "id": "1255195e-557d-4269-afe5-4d5e30ff5c11",
   "metadata": {
    "execution": {
     "iopub.execute_input": "2024-01-19T05:07:00.684418Z",
     "iopub.status.busy": "2024-01-19T05:07:00.672192Z",
     "iopub.status.idle": "2024-01-19T05:07:00.740543Z",
     "shell.execute_reply": "2024-01-19T05:07:00.738879Z",
     "shell.execute_reply.started": "2024-01-19T05:07:00.684351Z"
    },
    "tags": []
   },
   "source": [
    "Computing perplexity on dataset frenchtext/banque-fr-2311:valid for mosaicml/mpt-30b\n",
    "- model vocabulary: 50277\n",
    "- model sequence length: 2048\n",
    "- model torch dtype: torch.bfloat16\n",
    "- dataset examples: 8522\n",
    "- batch_size=1, stride=256\n",
    "- 14,248,418 tokens in 8 sec\n",
    "- perplexity = 4.986\n",
    "- unigram-normalized perplexity = 4.632 (x1000)\n",
    "\n",
    "4 h 12 min"
   ]
  },
  {
   "cell_type": "markdown",
   "id": "1b316f57-4051-4664-961c-abe73c99d944",
   "metadata": {},
   "source": [
    "Computing perplexity on dataset frenchtext/banque-fr-2311:valid for TinyLlama/TinyLlama-1.1B-intermediate-step-1195k-token-2.5T\n",
    "- model vocabulary: 32000\n",
    "- model sequence length: 2048\n",
    "- model torch dtype: torch.float16\n",
    "- dataset examples: 8522\n",
    "- batch_size= 16, stride=256\n",
    "- perplexity = 6.196\n",
    "- unigram-normalized perplexity = 7.739 (x1000)\n",
    "\n",
    "7 min 52 sec"
   ]
  },
  {
   "cell_type": "markdown",
   "id": "2456fcf4-8980-4e3d-9abb-b2b1c1dff484",
   "metadata": {},
   "source": [
    "Computing perplexity on dataset frenchtext/banque-fr-2311:valid for togethercomputer/RedPajama-INCITE-Base-3B-v1\n",
    "Special tokens have been added in the vocabulary, make sure the associated word embeddings are fine-tuned or trained.\n",
    "- model vocabulary: 50277\n",
    "- model sequence length: 2048\n",
    "- model torch dtype: torch.float16\n",
    "- dataset examples: 8522\n",
    "- batch_size=16, stride=256\n",
    "- perplexity = 6.197\n",
    "- unigram-normalized perplexity = 5.757 (x1000)\n",
    "\n",
    "13 min 52 sec"
   ]
  },
  {
   "cell_type": "markdown",
   "id": "0d365e29-bdc0-4285-837d-20d67e6c4bc5",
   "metadata": {},
   "source": [
    "Computing perplexity on dataset frenchtext/banque-fr-2311:valid for cerebras/btlm-3b-8k-base\n",
    "- model vocabulary: 50257\n",
    "- model sequence length: 4096 (8192 supported but too big for the RTX 4090)\n",
    "- model torch dtype: torch.bfloat16\n",
    "- dataset examples: 8522\n",
    "- batch_size=4, stride=256\n",
    "- perplexity = 7.333\n",
    "- unigram-normalized perplexity = 9.866 (x1000)\n",
    "\n",
    "42 min 56 sec"
   ]
  },
  {
   "cell_type": "markdown",
   "id": "e4590712-2598-49c9-99af-8c76c4ae0cb7",
   "metadata": {
    "execution": {
     "iopub.execute_input": "2024-01-07T20:02:22.391069Z",
     "iopub.status.busy": "2024-01-07T20:02:22.390681Z",
     "iopub.status.idle": "2024-01-07T20:02:22.395292Z",
     "shell.execute_reply": "2024-01-07T20:02:22.394686Z",
     "shell.execute_reply.started": "2024-01-07T20:02:22.391045Z"
    }
   },
   "source": [
    "Computing perplexity on dataset frenchtext/banque-fr-2311:valid for openlm-research/open_llama_3b_v2\n",
    "- model vocabulary: 32000\n",
    "- model sequence length: 2048\n",
    "- model torch dtype: torch.float16\n",
    "- dataset examples: 8522\n",
    "- batch_size=16, stride=256\n",
    "- 16,584,523 tokens in 36 sec\n",
    "- perplexity = 4.762\n",
    "- unigram-normalized perplexity = 7.148 (x1000)\n",
    "\n",
    "25 min 00 sec"
   ]
  },
  {
   "cell_type": "markdown",
   "id": "eab1bc57-488d-46b4-9e01-b5eb7998e5fb",
   "metadata": {
    "execution": {
     "iopub.execute_input": "2024-01-07T21:11:05.305862Z",
     "iopub.status.busy": "2024-01-07T21:11:05.305016Z",
     "iopub.status.idle": "2024-01-07T21:11:05.311978Z",
     "shell.execute_reply": "2024-01-07T21:11:05.311191Z",
     "shell.execute_reply.started": "2024-01-07T21:11:05.305831Z"
    },
    "tags": []
   },
   "source": [
    "Computing perplexity on dataset frenchtext/banque-fr-2311:valid for stabilityai/stablelm-3b-4e1t\n",
    "- model vocabulary: 50277\n",
    "- model sequence length: 4096\n",
    "- model torch dtype: torch.bfloat16\n",
    "- dataset examples: 8522\n",
    "- batch_size=6, stride=256\n",
    "- 14,248,418 tokens in 16 sec\n",
    "- perplexity = 4.950\n",
    "- unigram-normalized perplexity = 4.590 (x1000)\n",
    "\n",
    "14 min 36 sec"
   ]
  },
  {
   "cell_type": "markdown",
   "id": "5f035fde-9aeb-49bc-b876-b1517c9e1a27",
   "metadata": {},
   "source": [
    "Computing perplexity on dataset frenchtext/banque-fr-2311:valid for microsoft/phi-2\n",
    "- model vocabulary: 50295\n",
    "- model sequence length: 2048\n",
    "- model torch dtype: torch.float16\n",
    "- dataset examples: 8522\n",
    "- batch_size=6, stride=256\n",
    "- 16,122,587 tokens in 18 sec\n",
    "- perplexity = 8.083\n",
    "- unigram-normalized perplexity = 10.807 (x1000)\n",
    "\n",
    "45 min 16 sec"
   ]
  },
  {
   "cell_type": "markdown",
   "id": "f00c71da-420b-4435-af7f-babf8cd174ec",
   "metadata": {},
   "source": [
    "Computing perplexity on dataset frenchtext/banque-fr-2311:valid for bigscience/bloomz-7b1-mt\n",
    "- model vocabulary: 250680\n",
    "- model sequence length: 2048\n",
    "- model torch dtype: torch.float16\n",
    "- dataset examples: 8522\n",
    "- batch_size=2, stride=256\n",
    "- 10,041,864 tokens in 6 sec\n",
    "- perplexity = 10.038\n",
    "- unigram-normalized perplexity = 4.591 (x1000)\n",
    "\n",
    "58 min 52 sec"
   ]
  },
  {
   "cell_type": "markdown",
   "id": "35da4f3a-b535-4b3d-af2f-b2ff5a37108e",
   "metadata": {},
   "source": [
    "Computing perplexity on dataset frenchtext/banque-fr-2311:valid for tiiuae/falcon-7b\n",
    "- model vocabulary: 65024\n",
    "- model sequence length: 2048\n",
    "- model torch dtype: torch.bfloat16\n",
    "- dataset examples: 8522\n",
    "- batch_size=6, stride=256\n",
    "- 13,622,432 tokens in 11 sec\n",
    "- perplexity = 4.335\n",
    "- unigram-normalized perplexity = 4.660 (x1000)\n",
    "\n",
    "29 min 43 sec"
   ]
  },
  {
   "cell_type": "markdown",
   "id": "b0386a35-8d44-4689-ad60-7ad001f95926",
   "metadata": {},
   "source": [
    "Computing perplexity on dataset frenchtext/banque-fr-2311:valid for togethercomputer/RedPajama-INCITE-7B-Base\n",
    "- model vocabulary: 50277\n",
    "- model sequence length: 2048\n",
    "- model torch dtype: torch.float16\n",
    "- dataset examples: 8522\n",
    "- batch_size=8, stride=256\n",
    "- 14,248,418 tokens in 13 sec\n",
    "- perplexity = 5.512\n",
    "- unigram-normalized perplexity = 5.120 (x1000)\n",
    "\n",
    "29 min 31 sec"
   ]
  },
  {
   "cell_type": "markdown",
   "id": "cf2cfba5-9eb0-468f-927d-29bb3263114d",
   "metadata": {},
   "source": [
    "Computing perplexity on dataset frenchtext/banque-fr-2311:valid for mosaicml/mpt-7b\n",
    "- model vocabulary: 50277\n",
    "- model sequence length: 2048\n",
    "- model torch dtype: torch.bfloat16\n",
    "- dataset examples: 8522\n",
    "- batch_size=6, stride=256\n",
    "- 14,248,418 tokens in 8 sec\n",
    "- perplexity = 5.581\n",
    "- unigram-normalized perplexity = 5.184 (x1000)\n",
    "\n",
    "51 min 52 sec"
   ]
  },
  {
   "cell_type": "markdown",
   "id": "2f8b35a0-d222-479e-95a5-bf467f0e7223",
   "metadata": {},
   "source": [
    "Computing perplexity on dataset frenchtext/banque-fr-2311:valid for meta-llama/Llama-2-7b-hf\n",
    "- model vocabulary: 32000\n",
    "- model sequence length: 4096\n",
    "- model torch dtype: torch.float16\n",
    "- dataset examples: 8522\n",
    "- batch_size=4, stride=256\n",
    "- 15,042,809 tokens in 47 sec\n",
    "- perplexity = 4.236\n",
    "- unigram-normalized perplexity = 5.289 (x1000)\n",
    "\n",
    "36 min 24 sec"
   ]
  },
  {
   "cell_type": "markdown",
   "id": "30017acf-3d86-4f8a-9d26-ba7c82d22cda",
   "metadata": {},
   "source": [
    "Computing perplexity on dataset frenchtext/banque-fr-2311:valid for togethercomputer/LLaMA-2-7B-32K\n",
    "- model vocabulary: 32000\n",
    "- model sequence length: 8192 (32768 supported but too large)\n",
    "- model torch dtype: torch.float16\n",
    "- dataset examples: 8522\n",
    "- batch_size=2, stride=256\n",
    "- 15,034,641 tokens in 43 sec\n",
    "- perplexity = 4.409\n",
    "- unigram-normalized perplexity = 5.504 (x1000)\n",
    "\n",
    "36 min 29 sec"
   ]
  },
  {
   "cell_type": "markdown",
   "id": "ec9bf439-054b-4f60-b07e-3c73512f5898",
   "metadata": {},
   "source": [
    "Computing perplexity on dataset frenchtext/banque-fr-2311:valid for mistralai/Mistral-7B-v0.1\n",
    "- model vocabulary: 32000\n",
    "- model sequence length: 8192 (32768 supported but too large)\n",
    "- model torch dtype: torch.bfloat16\n",
    "- dataset examples: 8522\n",
    "- batch_size=2, stride=256\n",
    "- 15,453,930 tokens in 39 sec\n",
    "- perplexity = 3.803\n",
    "- unigram-normalized perplexity = 4.955 (x1000)\n",
    "\n",
    "40 min 27 sec"
   ]
  },
  {
   "cell_type": "markdown",
   "id": "f1a73809-10a8-47f7-8f4a-ec7b74d20836",
   "metadata": {},
   "source": [
    "Computing perplexity on dataset frenchtext/banque-fr-2311:valid for Qwen/Qwen-7B\n",
    "- model vocabulary: 151851\n",
    "- model sequence length: 32768\n",
    "- model torch dtype: torch.bfloat16\n",
    "- dataset examples: 8522\n",
    "- batch_size=2, stride=256\n",
    "- 13,057,768 tokens in 11 sec\n",
    "\n",
    "ERROR - Could not resolve the error in tiktoken fast tokenizer:\n",
    "Unable to create tensor returning overflowing tokens of different lengths. Please see if a fast version of this tokenizer is available to have this feature available."
   ]
  },
  {
   "cell_type": "markdown",
   "id": "c81299f2-38eb-4d61-a0c8-8ba70054b876",
   "metadata": {},
   "source": [
    "Computing perplexity on dataset frenchtext/banque-fr-2311:valid for 01-ai/Yi-6B\n",
    "- model vocabulary: 64000\n",
    "- model sequence length: 4096\n",
    "- model torch dtype: torch.bfloat16\n",
    "- dataset examples: 8522\n",
    "- batch_size=3, stride=256\n",
    "- 16,978,029 tokens in 38 sec\n",
    "- perplexity = 4.108\n",
    "- unigram-normalized perplexity = 6.828 (x1000)\n",
    "\n",
    "37 min 2 sec"
   ]
  },
  {
   "cell_type": "markdown",
   "id": "ff5dd796-04e1-47a3-b41b-d426b8a3e24c",
   "metadata": {},
   "source": [
    "Computing perplexity on dataset frenchtext/banque-fr-2311:valid for Deci/DeciLM-7B\n",
    "- model vocabulary: 32000\n",
    "- model sequence length: 4096\n",
    "- model torch dtype: torch.bfloat16\n",
    "- dataset examples: 8522\n",
    "- batch_size=2, stride=256\n",
    "- 15,453,930 tokens in 34 sec\n",
    "- perplexity = 5.827\n",
    "- unigram-normalized perplexity = 7.595 (x1000)\n",
    "\n",
    "46 min 25 sec"
   ]
  },
  {
   "cell_type": "markdown",
   "id": "cac06b0a-dbaa-434e-b67c-ce3c9e29e52a",
   "metadata": {},
   "source": [
    "Computing perplexity on dataset frenchtext/banque-fr-2311:valid for openlm-research/open_llama_13b\n",
    "- **load_in_8bit=True**\n",
    "- model vocabulary: 32000\n",
    "- model sequence length: 2048\n",
    "- model torch dtype: torch.float16\n",
    "- dataset examples: 8522\n",
    "- batch_size=6, stride=256\n",
    "- 16,739,789 tokens in 35 sec\n",
    "- perplexity = 4.236\n",
    "- unigram-normalized perplexity = 6.540 (x1000)\n",
    "\n",
    "1 h 4 min"
   ]
  },
  {
   "cell_type": "markdown",
   "id": "1d7f07d8-d1f3-4b39-b718-c8d4f9caa198",
   "metadata": {},
   "source": [
    "Computing perplexity on dataset frenchtext/banque-fr-2311:valid for meta-llama/Llama-2-13b-hf\n",
    "- **load_in_8bit=True**\n",
    "- model vocabulary: 32000\n",
    "- model sequence length: 4096\n",
    "- model torch dtype: torch.float16\n",
    "- dataset examples: 8522\n",
    "- batch_size=3, stride=256\n",
    "- 15,042,809 tokens in 35 sec\n",
    "- perplexity = 3.923\n",
    "- unigram-normalized perplexity = 4.898 (x1000)\n",
    "\n",
    "59 min 19 sec"
   ]
  },
  {
   "cell_type": "markdown",
   "id": "33d6b877-a952-4073-b64c-4f7f64fa8d2b",
   "metadata": {},
   "source": [
    "Computing perplexity on dataset frenchtext/banque-fr-2311:valid for upstage/SOLAR-10.7B-v1.0\n",
    "- **load_in_8bit=True**\n",
    "- model vocabulary: 32000\n",
    "- model sequence length: 4096\n",
    "- model torch dtype: torch.float16\n",
    "- dataset examples: 8522\n",
    "- batch_size=2, stride=256\n",
    "- 15,453,930 tokens in 36 sec\n",
    "- perplexity = 4.056\n",
    "- unigram-normalized perplexity = 5.286 (x1000)\n",
    "\n",
    "1h 29 min"
   ]
  },
  {
   "cell_type": "markdown",
   "id": "bda0d2e8-38e2-4f6e-9ee4-5b882b331422",
   "metadata": {},
   "source": [
    "Computing perplexity on dataset frenchtext/bank-en-2401:valid for TinyLlama/TinyLlama-1.1B-intermediate-step-1195k-token-2.5T\n",
    "- model vocabulary: 32000\n",
    "- model sequence length: 2048\n",
    "- model torch dtype: torch.float16\n",
    "- dataset examples: 2555\n",
    "- batch_size=16, stride=256\n",
    "- 10,523,047 tokens in 4 min 37 sec\n",
    "- perplexity = 5.699\n",
    "- unigram-normalized perplexity = 8.742 (x1000)\n",
    "\n",
    "9 min 28 sec"
   ]
  },
  {
   "cell_type": "markdown",
   "id": "5375c038-a45a-4d61-a1c9-8ba2d735833e",
   "metadata": {},
   "source": [
    "Computing perplexity on dataset frenchtext/bank-en-2401:valid for togethercomputer/RedPajama-INCITE-Base-3B-v1\n",
    "- model vocabulary: 50277\n",
    "- model sequence length: 2048\n",
    "- model torch dtype: torch.float16\n",
    "- dataset examples: 2555\n",
    "- batch_size=16, stride=256\n",
    "- 8,530,699 tokens in 9 sec\n",
    "- perplexity = 7.313\n",
    "- unigram-normalized perplexity = 6.479 (x1000)\n",
    "\n",
    "8 min 11 sec"
   ]
  },
  {
   "cell_type": "markdown",
   "id": "2785e774-d41d-48f9-a613-34fcbec1362e",
   "metadata": {},
   "source": [
    "Computing perplexity on dataset frenchtext/bank-en-2401:valid for cerebras/btlm-3b-8k-base\n",
    "- model vocabulary: 50257\n",
    "- model sequence length: 4096\n",
    "- model torch dtype: torch.bfloat16\n",
    "- model sequence length: 4096\n",
    "- model torch dtype: torch.bfloat16\n",
    "- dataset examples: 2555\n",
    "- batch_size=4, stride=256\n",
    "- 9,179,425 tokens in 8 sec\n",
    "- perplexity = 12.594\n",
    "- unigram-normalized perplexity = 15.200 (x1000)\n",
    "\n",
    "29 min 16 sec"
   ]
  },
  {
   "cell_type": "markdown",
   "id": "06664176-056a-445b-8128-9781705cbbac",
   "metadata": {},
   "source": [
    "Computing perplexity on dataset frenchtext/bank-en-2401:valid for openlm-research/open_llama_3b_v2\n",
    "- model vocabulary: 32000\n",
    "- model sequence length: 2048\n",
    "- model torch dtype: torch.float16\n",
    "- model sequence length: 2048\n",
    "- model torch dtype: torch.float16\n",
    "- dataset examples: 2555\n",
    "- batch_size=16, stride=256\n",
    "- 9,911,960 tokens in 5 min 40 sec\n",
    "- perplexity = 5.761\n",
    "- unigram-normalized perplexity = 8.875 (x1000)\n",
    "\n",
    "20 min 38 sec"
   ]
  },
  {
   "cell_type": "markdown",
   "id": "b36e0231-cce3-4457-ab2c-5c4c6638d6e6",
   "metadata": {
    "execution": {
     "iopub.execute_input": "2024-01-12T05:50:30.063288Z",
     "iopub.status.busy": "2024-01-12T05:50:30.062340Z",
     "iopub.status.idle": "2024-01-12T05:50:30.068792Z",
     "shell.execute_reply": "2024-01-12T05:50:30.067956Z",
     "shell.execute_reply.started": "2024-01-12T05:50:30.063250Z"
    }
   },
   "source": [
    "Computing perplexity on dataset frenchtext/bank-en-2401:valid for stabilityai/stablelm-3b-4e1t\n",
    "- model vocabulary: 50277\n",
    "- model sequence length: 4096\n",
    "- model torch dtype: torch.bfloat16\n",
    "- dataset examples: 2555\n",
    "- batch_size=6, stride=256\n",
    "- 8,530,699 tokens in 15 sec\n",
    "- perplexity = 5.947\n",
    "- unigram-normalized perplexity = 5.249 (x1000)\n",
    "\n",
    "8 min 50 sec"
   ]
  },
  {
   "cell_type": "markdown",
   "id": "dea69096-f749-4930-a39d-4a8facb66a46",
   "metadata": {},
   "source": [
    "Computing perplexity on dataset frenchtext/bank-en-2401:valid for microsoft/phi-2\n",
    "- model vocabulary: 50295\n",
    "- model sequence length: 2048\n",
    "- model torch dtype: torch.float16\n",
    "- dataset examples: 2555\n",
    "- batch_size=6, stride=256\n",
    "- 9,135,636 tokens in 18 sec\n",
    "- perplexity = 8.090\n",
    "- unigram-normalized perplexity = 9.720 (x1000)\n",
    "\n",
    "24 min 55 sec"
   ]
  },
  {
   "cell_type": "markdown",
   "id": "4cfc38e9-0f5a-4432-b2a0-bc47653fa3eb",
   "metadata": {
    "execution": {
     "iopub.execute_input": "2024-01-12T22:47:14.566649Z",
     "iopub.status.busy": "2024-01-12T22:47:14.566144Z",
     "iopub.status.idle": "2024-01-12T22:47:14.572894Z",
     "shell.execute_reply": "2024-01-12T22:47:14.572410Z",
     "shell.execute_reply.started": "2024-01-12T22:47:14.566615Z"
    }
   },
   "source": [
    "Computing perplexity on dataset frenchtext/bank-en-2401:valid for bigscience/bloomz-7b1-mt\n",
    "- model vocabulary: 250680\n",
    "- model sequence length: 2048\n",
    "- model torch dtype: torch.float16\n",
    "- dataset examples: 2555\n",
    "- batch_size=2, stride=256\n",
    "- 8,014,168 tokens in 23 sec\n",
    "- perplexity = 13.149\n",
    "- unigram-normalized perplexity = 8.554 (x1000)\n",
    "\n",
    "44 min 6 sec"
   ]
  },
  {
   "cell_type": "markdown",
   "id": "a025a277-833a-4bd7-a34e-920d30a67211",
   "metadata": {},
   "source": [
    "Computing perplexity on dataset frenchtext/bank-en-2401:valid for tiiuae/falcon-7b\n",
    "- model vocabulary: 65024\n",
    "- model sequence length: 2048\n",
    "- model torch dtype: torch.bfloat16\n",
    "- dataset examples: 2555\n",
    "- batch_size=6, stride=256\n",
    "- 9,243,615 tokens in 8 sec\n",
    "- perplexity = 5.713\n",
    "- unigram-normalized perplexity = 7.689 (x1000)\n",
    "\n",
    "19 min 27 sec"
   ]
  },
  {
   "cell_type": "markdown",
   "id": "5bfab4fc-62c6-447b-890f-374b6ccc6a5c",
   "metadata": {},
   "source": [
    "Computing perplexity on dataset frenchtext/bank-en-2401:valid for togethercomputer/RedPajama-INCITE-7B-Base\n",
    "- model vocabulary: 50277\n",
    "- model sequence length: 2048\n",
    "- model torch dtype: torch.float16\n",
    "- dataset examples: 2555\n",
    "- batch_size=8, stride=256\n",
    "- 8,530,699 tokens in 7 sec\n",
    "- perplexity = 6.799\n",
    "- unigram-normalized perplexity = 6.024 (x1000)\n",
    "\n",
    "17 min 18 sec"
   ]
  },
  {
   "cell_type": "markdown",
   "id": "9b13f1f7-4205-4f01-a9cb-5d81318f2e25",
   "metadata": {},
   "source": [
    "Computing perplexity on dataset frenchtext/bank-en-2401:valid for mosaicml/mpt-7b\n",
    "- model vocabulary: 50277\n",
    "- model sequence length: 2048\n",
    "- model torch dtype: torch.bfloat16\n",
    "- dataset examples: 2555\n",
    "- batch_size=6, stride=256\n",
    "- 8,530,699 tokens in 7 sec\n",
    "- perplexity = 6.455\n",
    "- unigram-normalized perplexity = 5.719 (x1000)\n",
    "\n",
    "31 min 50 sec"
   ]
  },
  {
   "cell_type": "markdown",
   "id": "6a77e2be-b1b7-4016-bd4a-babf98fbea0a",
   "metadata": {},
   "source": [
    "Computing perplexity on dataset frenchtext/bank-en-2401:valid for meta-llama/Llama-2-7b-hf\n",
    "- model vocabulary: 32000\n",
    "- model sequence length: 4096\n",
    "- model torch dtype: torch.float16\n",
    "- dataset examples: 2555\n",
    "- batch_size=4, stride=256\n",
    "- 10,523,047 tokens in 4 min 38 sec\n",
    "- perplexity = 4.123\n",
    "- unigram-normalized perplexity = 6.273 (x1000)\n",
    "\n",
    "26 min 38 sec"
   ]
  },
  {
   "cell_type": "markdown",
   "id": "cfa117d4-0e3a-4a0a-bbf8-854d57d65e87",
   "metadata": {},
   "source": [
    "Computing perplexity on dataset frenchtext/bank-en-2401:valid for togethercomputer/LLaMA-2-7B-32K\n",
    "- model vocabulary: 32000\n",
    "- model sequence length: 8192\n",
    "- model torch dtype: torch.float16\n",
    "- dataset examples: 2555\n",
    "- batch_size=2, stride=256\n",
    "- 10,520,590 tokens in 4 min 39 sec\n",
    "- perplexity = 4.059\n",
    "- unigram-normalized perplexity = 6.195 (x1000)\n",
    "\n",
    "27 min 58 sec"
   ]
  },
  {
   "cell_type": "markdown",
   "id": "668ba341-4258-444a-a208-6b30fdf0ef68",
   "metadata": {},
   "source": [
    "Computing perplexity on dataset frenchtext/bank-en-2401:valid for mistralai/Mistral-7B-v0.1\n",
    "- model vocabulary: 32000\n",
    "- model sequence length: 8192\n",
    "- model torch dtype: torch.bfloat16\n",
    "- dataset examples: 2555\n",
    "- batch_size=2, stride=256\n",
    "- 10,159,135 tokens in 4 min 38 sec\n",
    "- perplexity = 3.927\n",
    "- unigram-normalized perplexity = 5.991 (x1000)\n",
    "\n",
    "29 min 7 sec"
   ]
  },
  {
   "cell_type": "markdown",
   "id": "aee3f7f3-bed4-4831-b7db-f5186f006173",
   "metadata": {},
   "source": [
    "Computing perplexity on dataset frenchtext/bank-en-2401:valid for 01-ai/Yi-6B\n",
    "- model vocabulary: 64000\n",
    "- model sequence length: 4096\n",
    "- model torch dtype: torch.bfloat16\n",
    "- dataset examples: 2555\n",
    "- batch_size=3, stride=256\n",
    "- 9,943,316 tokens in 4 min 39 sec\n",
    "- dataset examples: 2555\n",
    "- batch_size=3, stride=256\n",
    "- perplexity = 4.640\n",
    "- unigram-normalized perplexity = 7.918 (x1000)\n",
    "\n",
    "27 min 20 sec"
   ]
  },
  {
   "cell_type": "markdown",
   "id": "40ff228f-9f1d-4598-89a9-932d5436453f",
   "metadata": {},
   "source": [
    "Computing perplexity on dataset frenchtext/bank-en-2401:valid for Deci/DeciLM-7B\n",
    "- model vocabulary: 32000\n",
    "- model sequence length: 4096\n",
    "- model torch dtype: torch.bfloat16\n",
    "- dataset examples: 2555\n",
    "- batch_size=2, stride=256\n",
    "- 10,159,135 tokens in 4 min 45 sec\n",
    "- perplexity = 5.106\n",
    "- unigram-normalized perplexity = 7.814 (x1000)\n",
    "\n",
    "35 min 44 sec"
   ]
  },
  {
   "cell_type": "markdown",
   "id": "56c6f132-93d7-481a-a691-b8960559e1f6",
   "metadata": {},
   "source": [
    "Computing perplexity on dataset frenchtext/bank-en-2401:valid for openlm-research/open_llama_13b\n",
    "- model vocabulary: 32000\n",
    "- model sequence length: 2048\n",
    "- model torch dtype: torch.float16\n",
    "- dataset examples: 2555\n",
    "- batch_size=6, stride=256\n",
    "- 9,907,182 tokens in 4 min 38 sec\n",
    "- perplexity = 5.011\n",
    "- unigram-normalized perplexity = 7.895 (x1000)\n",
    "\n",
    "41 min 7 sec"
   ]
  },
  {
   "cell_type": "markdown",
   "id": "28581052-8949-4b00-8167-4b714d69f603",
   "metadata": {
    "execution": {
     "iopub.execute_input": "2024-01-13T17:14:09.324802Z",
     "iopub.status.busy": "2024-01-13T17:14:09.323927Z",
     "iopub.status.idle": "2024-01-13T17:14:09.331905Z",
     "shell.execute_reply": "2024-01-13T17:14:09.331127Z",
     "shell.execute_reply.started": "2024-01-13T17:14:09.324763Z"
    },
    "tags": []
   },
   "source": [
    "Computing perplexity on dataset frenchtext/bank-en-2401:valid for meta-llama/Llama-2-13b-hf\n",
    "- model vocabulary: 32000\n",
    "- model sequence length: 4096\n",
    "- model torch dtype: torch.float16\n",
    "- dataset examples: 2555\n",
    "- batch_size=3, stride=256\n",
    "- 10,523,047 tokens in 4 min 47 sec\n",
    "- perplexity = 3.883\n",
    "- unigram-normalized perplexity = 5.948 (x1000)\n",
    "\n",
    "43 min 47 sec"
   ]
  },
  {
   "cell_type": "markdown",
   "id": "62936a28-ab08-4edb-a4fd-c7f62eabf90f",
   "metadata": {},
   "source": [
    "Computing perplexity on dataset frenchtext/bank-en-2401:valid for upstage/SOLAR-10.7B-v1.0\n",
    "- model vocabulary: 32000\n",
    "- model sequence length: 4096\n",
    "- model torch dtype: torch.float16\n",
    "- dataset examples: 2555\n",
    "- batch_size=2, stride=256\n",
    "- 10,159,135 tokens in 4 min 40 sec\n",
    "- perplexity = 4.251\n",
    "- unigram-normalized perplexity = 6.504 (x1000)\n",
    "\n",
    "55 min 52 sec"
   ]
  },
  {
   "cell_type": "markdown",
   "id": "671c8a50-371f-4d2d-9286-b5ffa38408f8",
   "metadata": {},
   "source": [
    "[RTX A6000 Ada 48GB]\n",
    "\n",
    "Computing perplexity on dataset frenchtext/banque-fr-2311:valid for mistralai/Mixtral-8x7B-v0.1\n",
    "- model files size   : 86.99 GB\n",
    "- **load_in_4bit** => VRAM used: 25,978.5 MB \n",
    "- model vocabulary: 32000\n",
    "- model sequence length: 8192\n",
    "- model torch dtype: torch.bfloat16\n",
    "- dataset examples: 8522\n",
    "- batch_size=6, stride=256 => max VRAM used: 43,988.5 MB\n",
    "- 15,169,531 tokens in 25 sec\n",
    "- perplexity = 3.045\n",
    "- unigram-normalized perplexity = 3.967 (x1000)\n",
    "\n",
    "(time not measured)"
   ]
  },
  {
   "cell_type": "markdown",
   "id": "e8cc0ddc-86e5-49e4-8c37-dbb888dea2eb",
   "metadata": {
    "execution": {
     "iopub.status.busy": "2024-01-14T08:28:59.223324Z"
    },
    "tags": []
   },
   "source": [
    "[RTX A6000 Ada 48GB]\n",
    "\n",
    "Computing perplexity on dataset frenchtext/bank-en-2401:valid for mistralai/Mixtral-8x7B-v0.1\n",
    "- model files size   : 86.99 GB\n",
    "- **load_in_4bit** => VRAM used: 25,978.5 MB \n",
    "- model vocabulary: 32000\n",
    "- model sequence length: 8192\n",
    "- model torch dtype: torch.bfloat16\n",
    "- dataset examples: 8522\n",
    "- batch_size=6, stride=256 => max VRAM used: 43,988.5 MB\n",
    "- perplexity = 3.672\n",
    "- unigram-normalized perplexity = 5.603 (x1000)\n",
    "\n",
    "56 min 44 sec\n",
    "\n",
    "Max VRAM used : 43,988.5 MB -  90 %"
   ]
  },
  {
   "cell_type": "code",
   "execution_count": null,
   "id": "76bb228c-3d9c-43bc-8fe1-e00ea9ea52c4",
   "metadata": {},
   "outputs": [],
   "source": []
  }
 ],
 "metadata": {
  "kernelspec": {
   "display_name": "wordslab-llms",
   "language": "python",
   "name": "wordslab-llms"
  },
  "language_info": {
   "codemirror_mode": {
    "name": "ipython",
    "version": 3
   },
   "file_extension": ".py",
   "mimetype": "text/x-python",
   "name": "python",
   "nbconvert_exporter": "python",
   "pygments_lexer": "ipython3",
   "version": "3.11.9"
  }
 },
 "nbformat": 4,
 "nbformat_minor": 5
}
