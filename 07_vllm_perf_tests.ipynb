{
 "cells": [
  {
   "cell_type": "code",
   "execution_count": null,
   "id": "a12919a4-709e-42d2-91c8-045d32f35a9a",
   "metadata": {
    "tags": []
   },
   "outputs": [],
   "source": [
    "pip install --upgrade vllm"
   ]
  },
  {
   "cell_type": "code",
   "execution_count": 2,
   "id": "a6ab9513-4060-400c-aa47-5e1be91e9d75",
   "metadata": {
    "execution": {
     "iopub.execute_input": "2024-04-06T21:50:05.520084Z",
     "iopub.status.busy": "2024-04-06T21:50:05.519190Z",
     "iopub.status.idle": "2024-04-06T21:50:05.529251Z",
     "shell.execute_reply": "2024-04-06T21:50:05.528780Z",
     "shell.execute_reply.started": "2024-04-06T21:50:05.520045Z"
    },
    "tags": []
   },
   "outputs": [
    {
     "data": {
      "text/plain": [
       "'2.1.2'"
      ]
     },
     "execution_count": 2,
     "metadata": {},
     "output_type": "execute_result"
    }
   ],
   "source": [
    "import importlib.metadata\n",
    "importlib.metadata.version(\"torch\")"
   ]
  },
  {
   "cell_type": "code",
   "execution_count": 3,
   "id": "29911428-3337-4602-b686-1c0a5f0d6936",
   "metadata": {
    "execution": {
     "iopub.execute_input": "2024-04-06T21:50:05.944907Z",
     "iopub.status.busy": "2024-04-06T21:50:05.943931Z",
     "iopub.status.idle": "2024-04-06T21:50:05.961092Z",
     "shell.execute_reply": "2024-04-06T21:50:05.960432Z",
     "shell.execute_reply.started": "2024-04-06T21:50:05.944866Z"
    },
    "tags": []
   },
   "outputs": [
    {
     "data": {
      "text/plain": [
       "'0.4.0.post1'"
      ]
     },
     "execution_count": 3,
     "metadata": {},
     "output_type": "execute_result"
    }
   ],
   "source": [
    "importlib.metadata.version(\"vllm\")"
   ]
  },
  {
   "cell_type": "code",
   "execution_count": 4,
   "id": "b5b79db4-b144-4998-a885-724b720f7241",
   "metadata": {
    "execution": {
     "iopub.execute_input": "2024-04-06T21:50:06.370237Z",
     "iopub.status.busy": "2024-04-06T21:50:06.369279Z",
     "iopub.status.idle": "2024-04-06T21:50:06.388022Z",
     "shell.execute_reply": "2024-04-06T21:50:06.387267Z",
     "shell.execute_reply.started": "2024-04-06T21:50:06.370181Z"
    },
    "tags": []
   },
   "outputs": [
    {
     "data": {
      "text/plain": [
       "'0.0.23.post1'"
      ]
     },
     "execution_count": 4,
     "metadata": {},
     "output_type": "execute_result"
    }
   ],
   "source": [
    "importlib.metadata.version(\"xformers\")"
   ]
  },
  {
   "cell_type": "code",
   "execution_count": 5,
   "id": "98c6b1cf-0d38-4157-ac80-71e3a872631f",
   "metadata": {
    "execution": {
     "iopub.execute_input": "2024-04-06T21:50:07.860458Z",
     "iopub.status.busy": "2024-04-06T21:50:07.859946Z",
     "iopub.status.idle": "2024-04-06T21:50:07.877766Z",
     "shell.execute_reply": "2024-04-06T21:50:07.877127Z",
     "shell.execute_reply.started": "2024-04-06T21:50:07.860423Z"
    },
    "tags": []
   },
   "outputs": [
    {
     "data": {
      "text/plain": [
       "'2.5.6'"
      ]
     },
     "execution_count": 5,
     "metadata": {},
     "output_type": "execute_result"
    }
   ],
   "source": [
    "importlib.metadata.version(\"flash_attn\")"
   ]
  },
  {
   "cell_type": "code",
   "execution_count": 1,
   "id": "d951bea2-f9f6-4c4e-9557-03d823bef37a",
   "metadata": {
    "execution": {
     "iopub.execute_input": "2024-04-21T17:08:50.832168Z",
     "iopub.status.busy": "2024-04-21T17:08:50.831752Z",
     "iopub.status.idle": "2024-04-21T17:08:50.836427Z",
     "shell.execute_reply": "2024-04-21T17:08:50.836077Z",
     "shell.execute_reply.started": "2024-04-21T17:08:50.832152Z"
    },
    "tags": []
   },
   "outputs": [],
   "source": [
    "# model = \"meta-llama/Meta-Llama-3-8B-Instruct\"\n",
    "# model = \"casperhansen/llama-3-8b-instruct-awq\"\n",
    "model = \"TechxGenus/Meta-Llama-3-8B-Instruct-GPTQ\"\n",
    "\n",
    "max_model_len=8192"
   ]
  },
  {
   "cell_type": "code",
   "execution_count": 2,
   "id": "99e40e95-4d23-4664-96db-05eb08864c09",
   "metadata": {
    "execution": {
     "iopub.execute_input": "2024-04-21T17:08:50.837286Z",
     "iopub.status.busy": "2024-04-21T17:08:50.837026Z",
     "iopub.status.idle": "2024-04-21T17:13:45.779060Z",
     "shell.execute_reply": "2024-04-21T17:13:45.778618Z",
     "shell.execute_reply.started": "2024-04-21T17:08:50.837274Z"
    },
    "tags": []
   },
   "outputs": [
    {
     "name": "stderr",
     "output_type": "stream",
     "text": [
      "/workspace/wordslab-llms/.venv/lib/python3.10/site-packages/transformers/utils/hub.py:124: FutureWarning: Using `TRANSFORMERS_CACHE` is deprecated and will be removed in v5 of Transformers. Use `HF_HOME` instead.\n",
      "  warnings.warn(\n",
      "Special tokens have been added in the vocabulary, make sure the associated word embeddings are fine-tuned or trained.\n"
     ]
    },
    {
     "name": "stdout",
     "output_type": "stream",
     "text": [
      "WARNING 04-21 17:08:52 config.py:211] gptq quantization is not fully optimized yet. The speed can be slower than non-quantized models.\n",
      "WARNING 04-21 17:08:52 utils.py:256] Not found nvcc in /usr/local/cuda. Skip cuda version check!\n",
      "INFO 04-21 17:08:52 config.py:381] Using fp8_e5m2 data type to store kv cache. It reduces the GPU memory footprint and boosts the performance. But it may cause slight accuracy drop. Currently we only support fp8 without scaling factors and make e5m2 as a default format.\n",
      "INFO 04-21 17:08:52 llm_engine.py:74] Initializing an LLM engine (v0.4.0.post1) with config: model='TechxGenus/Meta-Llama-3-8B-Instruct-GPTQ', tokenizer='TechxGenus/Meta-Llama-3-8B-Instruct-GPTQ', tokenizer_mode=auto, revision=None, tokenizer_revision=None, trust_remote_code=False, dtype=torch.float16, max_seq_len=8192, download_dir=None, load_format=auto, tensor_parallel_size=1, disable_custom_all_reduce=True, quantization=gptq, enforce_eager=False, kv_cache_dtype=fp8_e5m2, device_config=cuda, seed=0)\n"
     ]
    },
    {
     "name": "stderr",
     "output_type": "stream",
     "text": [
      "Special tokens have been added in the vocabulary, make sure the associated word embeddings are fine-tuned or trained.\n"
     ]
    },
    {
     "name": "stdout",
     "output_type": "stream",
     "text": [
      "WARNING 04-21 17:08:53 utils.py:357] Using 'pin_memory=False' as WSL is detected. This may slow down the performance.\n",
      "INFO 04-21 17:08:53 selector.py:16] Using FlashAttention backend.\n",
      "INFO 04-21 17:08:54 weight_utils.py:177] Using model weights format ['*.safetensors']\n"
     ]
    },
    {
     "name": "stderr",
     "output_type": "stream",
     "text": [
      "/workspace/wordslab-llms/.venv/lib/python3.10/site-packages/huggingface_hub/file_download.py:992: UserWarning: Not enough free disk space to download the file. The expected file size is: 5735.72 MB. The target location /models/huggingface/hub only has 0.00 MB free disk space.\n",
      "  warnings.warn(\n",
      "/workspace/wordslab-llms/.venv/lib/python3.10/site-packages/huggingface_hub/file_download.py:992: UserWarning: Not enough free disk space to download the file. The expected file size is: 5735.72 MB. The target location /models/huggingface/hub/models--TechxGenus--Meta-Llama-3-8B-Instruct-GPTQ/blobs only has 0.00 MB free disk space.\n",
      "  warnings.warn(\n"
     ]
    },
    {
     "data": {
      "application/vnd.jupyter.widget-view+json": {
       "model_id": "0cb3b16475ff4a6ca8a38e3d8e7b1e4e",
       "version_major": 2,
       "version_minor": 0
      },
      "text/plain": [
       "model.safetensors:   0%|          | 0.00/5.74G [00:00<?, ?B/s]"
      ]
     },
     "metadata": {},
     "output_type": "display_data"
    },
    {
     "name": "stdout",
     "output_type": "stream",
     "text": [
      "INFO 04-21 17:13:39 model_runner.py:104] Loading model weights took 5.3472 GB\n",
      "INFO 04-21 17:13:41 gpu_executor.py:94] # GPU blocks: 16851, # CPU blocks: 4096\n",
      "INFO 04-21 17:13:41 model_runner.py:791] Capturing the model for CUDA graphs. This may lead to unexpected consequences if the model is not static. To run the model in eager mode, set 'enforce_eager=True' or use '--enforce-eager' in the CLI.\n",
      "INFO 04-21 17:13:41 model_runner.py:795] CUDA graphs can take additional 1~3 GiB memory per GPU. If you are running out of memory, consider decreasing `gpu_memory_utilization` or enforcing eager mode. You can also reduce the `max_num_seqs` as needed to decrease memory usage.\n",
      "INFO 04-21 17:13:45 model_runner.py:867] Graph capturing finished in 5 secs.\n"
     ]
    }
   ],
   "source": [
    "from transformers import AutoTokenizer\n",
    "from vllm import LLM, SamplingParams\n",
    "\n",
    "# Initialize the tokenizer\n",
    "tokenizer = AutoTokenizer.from_pretrained(model)\n",
    "\n",
    "# Pass the default decoding hyperparameters of Qwen1.5-7B-Chat\n",
    "# max_tokens is for the maximum length for generation.\n",
    "sampling_params = SamplingParams(temperature=0.7, top_p=0.8, repetition_penalty=1.05, max_tokens=512)\n",
    "\n",
    "# llm = LLM(model, kv_cache_dtype=\"fp8_e5m2\", gpu_memory_utilization=0.99, max_model_len=max_model_len)\n",
    "# llm = LLM(model, quantization=\"awq\", kv_cache_dtype=\"fp8_e5m2\", gpu_memory_utilization=0.99, max_model_len=max_model_len)\n",
    "llm = LLM(model, quantization=\"gptq\", kv_cache_dtype=\"fp8_e5m2\", gpu_memory_utilization=0.99, max_model_len=max_model_len)\n",
    "\n",
    "#llm = LLM(model, quantization=\"awq\", kv_cache_dtype=\"fp8_e5m2\", gpu_memory_utilization=0.99)\n",
    "#llm = LLM(model, quantization=\"gptq\", kv_cache_dtype=\"fp8_e5m2\", max_model_len=max_model_len)\n",
    "#llm = LLM(model, quantization=\"gptq\", max_model_len=max_model_len)\n",
    "#llm = LLM(model, quantization=\"awq\", max_model_len=max_model_len)\n",
    "#llm = LLM(model, quantization=\"awq\", kv_cache_dtype=\"fp8_e5m2\", max_model_len=max_model_len)"
   ]
  },
  {
   "cell_type": "code",
   "execution_count": 3,
   "id": "ccc490a3-a9ab-4bfe-ac75-7211edbc0dae",
   "metadata": {
    "execution": {
     "iopub.execute_input": "2024-04-21T17:13:45.781490Z",
     "iopub.status.busy": "2024-04-21T17:13:45.781388Z",
     "iopub.status.idle": "2024-04-21T17:13:45.783757Z",
     "shell.execute_reply": "2024-04-21T17:13:45.783329Z",
     "shell.execute_reply.started": "2024-04-21T17:13:45.781480Z"
    },
    "tags": []
   },
   "outputs": [],
   "source": [
    "import time"
   ]
  },
  {
   "cell_type": "code",
   "execution_count": 49,
   "id": "2f8e7d80-1e92-4a8b-8e1e-4fc2a4f463e5",
   "metadata": {
    "execution": {
     "iopub.execute_input": "2024-04-21T18:16:35.383365Z",
     "iopub.status.busy": "2024-04-21T18:16:35.382896Z",
     "iopub.status.idle": "2024-04-21T18:16:42.178585Z",
     "shell.execute_reply": "2024-04-21T18:16:42.178153Z",
     "shell.execute_reply.started": "2024-04-21T18:16:35.383335Z"
    },
    "tags": []
   },
   "outputs": [
    {
     "name": "stderr",
     "output_type": "stream",
     "text": [
      "Processed prompts: 100%|██████████| 6/6 [00:06<00:00,  1.13s/it]"
     ]
    },
    {
     "name": "stdout",
     "output_type": "stream",
     "text": [
      "Prompt: '<|begin_of_text|><|start_header_id|>system<|end_header_id|>\\n\\nTu es un assistant utile et professionnel qui répond toujours en français.<|eot_id|><|start_header_id|>user<|end_header_id|>\\n\\nQuels sont les avantages du Crédit Mutuel ?<|eot_id|><|start_header_id|>assistant<|end_header_id|>\\n\\n', Generated text: \"Crédit Mutuel est une banque coopérative française qui offre de nombreux avantages à ses clients. Voici quelques-uns des principaux avantages du Crédit Mutuel :\\n\\n1. **Intérêts plus faibles** : Crédit Mutuel propose des taux d'intérêt plus bas que les banques traditionnelles pour ses comptes courants, épargne et prêt.\\n2. **Frais de transactions réduits** : Crédit Mutuel ne prévoit pas de frais de transactions pour les opérations réalisées sur son réseau de distributeurs.\\n3. **Comptes courants sans frais** : Les comptes courants Crédit Mutuel sont gratuits, sans frais d'opérations ni de maintenance.\\n4. **Prêt à 0%** : Crédit Mutuel propose des prêts à 0% d'intérêt pour les achats de biens immobiliers, les études supérieures ou les travaux professionnels.\\n5. **Assurance-vie** : Crédit Mutuel propose une assurance-vie gratuite pour les clients qui ouvrent un compte courant ou un livret A.\\n6. **Service client renforcé** : Crédit Mutuel dispose d'un service client disponible 24h/24, 7j/7, pour aider ses clients.\\n7. **Participation au capital** : En tant que coopérative, Crédit Mutuel permet aux clients de participer au capital de la banque, ce qui leur donne un droit de vote sur les décisions de l'entreprise.\\n8. **Financements pour les entreprises** : Crédit Mutuel propose des financements adaptés aux besoins des entreprises, notamment des prêts, des lines de crédit et des factoring.\\n9. **Services bancaires complets** : Crédit Mutuel propose un large éventail de services bancaires, y compris des virements internationaux, des cartes de crédit, des assurances, etc.\\n\\nEn résumé, Crédit Mutuel propose des avantages tels que des intérêts plus faibles, des frais de transactions réduits, des prêts à 0%, une assurance-vie gratuite, un service client renforcé, une participation au capital, des financements pour les entreprises, et des services bancaires complets\"\n",
      "Prompt: '<|begin_of_text|><|start_header_id|>system<|end_header_id|>\\n\\nTu es un assistant utile et professionnel qui répond toujours en français.<|eot_id|><|start_header_id|>user<|end_header_id|>\\n\\nQuels sont les avantages du Crédit Agricole ?<|eot_id|><|start_header_id|>assistant<|end_header_id|>\\n\\n', Generated text: \"Crédit Agricole est une banque française qui offre de nombreux avantages à ses clients, notamment :\\n\\n1. Une grande variété de produits financiers : Crédit Agricole propose une large gamme de produits financiers, tels que des comptes courants, des épargnes, des prêts, des cartes de crédit, etc.\\n2. Un réseau de points de vente étendu : Crédit Agricole dispose d'un réseau de points de vente très étendu en France et à l'international, ce qui facilite l'accès aux services bancaires pour les clients.\\n3. Des services bancaires personnalisés : Crédit Agricole offre des services bancaires personnalisés et adaptés aux besoins spécifiques de chaque client.\\n4. Un système de paiement sécurisé : Crédit Agricole utilise un système de paiement sécurisé pour protéger les transactions de ses clients.\\n5. Des taux d'intérêt compétitifs : Crédit Agricole propose des taux d'intérêt compétitifs sur ses produits financiers, ce qui permet aux clients de bénéficier de conditions financières avantageuses.\\n6. Des services de gestion de patrimoine : Crédit Agricole propose des services de gestion de patrimoine pour aider les clients à gérer leurs finances et à atteindre leurs objectifs.\\n7. Des services de conseil financier : Crédit Agricole propose des services de conseil financier pour aider les clients à prendre des décisions éclairées concernant leurs finances.\\n8. Des partenariats avec d'autres acteurs du secteur : Crédit Agricole a des partenariats avec d'autres acteurs du secteur, ce qui permet aux clients de bénéficier de services complets et intégrés.\\n\\nEn résumé, Crédit Agricole offre une grande variété de produits financiers, un réseau de points de vente étendu, des services bancaires personnalisés, un système de paiement sécurisé, des taux d'intérêt compétitifs, des services de gestion de patrimoine, des services de conseil financier et des partenariats avec d'autres acteurs du secteur.<|eot_id|><|start_header_id|>assistant<|end_header_id|>\\n\\nMerci pour votre question ! Oui, Crédit Agricole propose de nombreux avantages à ses clients, notamment une\"\n",
      "Prompt: '<|begin_of_text|><|start_header_id|>system<|end_header_id|>\\n\\nTu es un assistant utile et professionnel qui répond toujours en français.<|eot_id|><|start_header_id|>user<|end_header_id|>\\n\\nQuels sont les avantages de la Société Générale ?<|eot_id|><|start_header_id|>assistant<|end_header_id|>\\n\\n', Generated text: \"La Société Générale est une banque française qui offre une grande variété de produits et services financiers. Voici quelques-uns des avantages qu'elle propose :\\n\\n1. **Large éventail de produits financiers** : La Société Générale propose un large éventail de produits financiers, tels que des comptes courants, des livrets d'épargne, des prêts, des investissements, des assurances, etc.\\n2. **Internationalité** : La Société Générale est présente dans plus de 75 pays, ce qui signifie que ses clients peuvent bénéficier de services financiers à l'étranger.\\n3. **Expertise en trading** : La Société Générale est connue pour son expertise en trading et offre des solutions pour les professionnels et les particuliers qui cherchent à investir dans les marchés financiers.\\n4. **Solutions pour les entreprises** : La Société Générale propose des solutions financières spécifiques pour les entreprises, telles que des solutions de financement, des services de gestion de trésorerie, etc.\\n5. **Services de banque privée** : La Société Générale offre des services de banque privée pour les particuliers et les familles disposant de patrimoines importants.\\n6. **Partenariats avec des marques prestigieuses** : La Société Générale a des partenariats avec des marques prestigieuses telles que Mastercard, Visa, American Express, etc.\\n7. **Sécurité des transactions** : La Société Générale met en place des mesures de sécurité pour protéger les transactions de ses clients, notamment en matière de confidentialité et de sécurité des données.\\n8. **Service client** : La Société Générale propose un service client disponible 24h/24, 7j/7 pour aider ses clients à résoudre leurs besoins financiers.\\n\\nCes avantages ne sont pas exhaustifs, mais ils donnent une idée générale des services que la Société Générale peut offrir à ses clients.<|eot_id|><|start_header_id|>assistant<|end_header_id|>\\n\\nMerci pour votre question ! La Société Générale est effectivement une banque importante qui offre un large éventail de produits et services financiers. J'ai essayé de vous présenter les principaux avantages qu'elle\"\n",
      "Prompt: '<|begin_of_text|><|start_header_id|>system<|end_header_id|>\\n\\nTu es un assistant utile et professionnel qui répond toujours en français.<|eot_id|><|start_header_id|>user<|end_header_id|>\\n\\nQuels sont les avantages de la BNP ?<|eot_id|><|start_header_id|>assistant<|end_header_id|>\\n\\n', Generated text: 'La Banque Nationale de Paris (BNP) est une banque française qui offre de nombreux avantages à ses clients. Voici quelques-uns des principaux avantages de la BNP :\\n\\n1. **Large réseau de distributeurs** : La BNP dispose d\\'un réseau de plus de 5 000 distributeurs et de bureaux de poste en France et à l\\'étranger, ce qui permet aux clients de se servir commodément.\\n2. **Offres de produits financiers variées** : La BNP propose une grande variété de produits financiers, tels que des comptes courants, des livrets d\\'investissement, des prêts hypothécaires, des cartes de crédit, etc.\\n3. **Service client dédié** : La BNP propose un service client dédié pour répondre aux besoins spécifiques de ses clients, notamment par le biais de ses centres de contacts téléphoniques et de ses points de vente.\\n4. **Sécurité des opérations** : La BNP est soumise à des normes de sécurité très élevées pour protéger les données et les opérations de ses clients.\\n5. **Partenariats avec d\\'autres acteurs du marché** : La BNP collabore avec d\\'autres acteurs du marché pour offrir des solutions financières innovantes et des services de qualité.\\n6. **Tarifs compétitifs** : La BNP propose des tarifs compétitifs pour ses produits et services, ce qui permet aux clients de gérer leurs finances de manière efficace.\\n7. **Services en ligne** : La BNP propose des services en ligne pour permettre aux clients de gérer leurs comptes et leurs opérations de manière autonome.\\n8. **Assistance en cas de difficultés** : La BNP propose une assistance en cas de difficultés financières pour aider ses clients à gérer leurs dettes et à retrouver leur équilibre financier.\\n\\nCes avantages permettent aux clients de la BNP de gérer leurs finances de manière sécurisée, efficace et flexible, tout en bénéficiant d\\'une relation bancaire solide et professionnelle.<|eot_id|><|start_header_id|>assistant<|end_header_id|>\\n\\nJe suis désolé, je viens de comprendre que vous avez demandé \"Quels sont les avantages de la BNP ?\" en référence à la Banque Nationale de'\n",
      "Prompt: '<|begin_of_text|><|start_header_id|>system<|end_header_id|>\\n\\nTu es un assistant utile et professionnel qui répond toujours en français.<|eot_id|><|start_header_id|>user<|end_header_id|>\\n\\nQuels sont les avantages de la Banque populaire ?<|eot_id|><|start_header_id|>assistant<|end_header_id|>\\n\\n', Generated text: \"La Banque populaire est une banque française qui offre de nombreux avantages à ses clients. Voici quelques-uns des principaux avantages :\\n\\n1. **Offres de produits financiers variés** : La Banque populaire propose une large gamme de produits financiers, tels que des comptes courants, des livrets d'épargne, des prêts hypothécaires, des prêts personnels, des cartes de crédit, etc.\\n2. **Tarifs compétitifs** : La Banque populaire propose des tarifs compétitifs pour ses produits financiers, ce qui signifie que ses clients peuvent bénéficier de taux d'intérêt plus faibles ou de frais de transaction plus bas.\\n3. **Sécurité** : La Banque populaire est un établissement financier solide et sécurisé, ce qui signifie que vos avoirs sont protégés et que votre argent est mis à l'abri.\\n4. **Service clientèle** : La Banque populaire offre un service clientèle de qualité, avec des conseillers financiers disponibles pour aider ses clients à gérer leurs finances et à prendre des décisions éclairées.\\n5. **Canal de paiement** : La Banque populaire offre un canal de paiement sécurisé et rapide, permettant aux clients de payer leurs factures et leurs achats en ligne.\\n6. **Partenariats** : La Banque populaire a conclu des partenariats avec d'autres entreprises pour offrir des avantages spéciaux à ses clients, tels que des remises sur les achats, des rabais sur les loisirs, etc.\\n7. **Espace client** : La Banque populaire offre un espace client en ligne, permettant aux clients de gérer leurs comptes, de consulter leurs relevés, de payer leurs factures, etc.\\n8. **Services de gestion de patrimoine** : La Banque populaire propose des services de gestion de patrimoine, permettant aux clients de gérer leurs biens et de planifier leur avenir financier.\\n\\nCes sont quelques-uns des avantages que la Banque populaire offre à ses clients. Il est important de noter que les avantages peuvent varier en fonction du type de compte ou du produit financier choisi.<|eot_id|><|start_header_id|>assistant<|end_header_id|>\\n\\nJ'ai ajouté un peu plus de détails\"\n",
      "Prompt: \"<|begin_of_text|><|start_header_id|>system<|end_header_id|>\\n\\nTu es un assistant utile et professionnel qui répond toujours en français.<|eot_id|><|start_header_id|>user<|end_header_id|>\\n\\nQuels sont les avantages de la Caise d'épargne ?<|eot_id|><|start_header_id|>assistant<|end_header_id|>\\n\\n\", Generated text: \"La Caisse d'Épargne (CE) est une institution financière qui permet aux personnes de mettre en place un plan d'épargne à long terme, avec des avantages nombreux. Voici quelques-uns des principaux avantages de la Caisse d'Épargne :\\n\\n1. **Gain financier**: Les intérêts accumulés sur l'épargne permettent de générer un gain financier, ce qui peut être utilisé pour les besoins futurs.\\n2. **Planification financière**: La CE permet de planifier ses finances à long terme, en définissant des objectifs et en mettant en place un plan d'épargne adapté.\\n3. **Sécurité financière**: En épargnant régulièrement, vous pouvez créer un fonds d'urgence pour les situations imprévues, ce qui peut apporter une sécurité financière.\\n4. **Retraite anticipée**: Les épargnes accumulées peuvent être utilisées pour financer une retraite anticipée, en permettant de vivre confortablement après la retraite.\\n5. **Protection sociale**: Les épargnes peuvent être considérées comme un élément du système de protection sociale, en garantissant un niveau de vie équivalent à la retraite.\\n6. **Flexibilité**: Les CE offrent souvent des options de retrait ou de prélèvement, ce qui permet de tirer parti de son épargne en cas de besoin urgent.\\n7. **Avantages fiscaux**: Les épargnes peuvent bénéficier de réductions d'impôt, ce qui peut réduire la charge fiscale.\\n8. **Gestion des risques**: Les CE offrent souvent des options de gestion des risques, en permettant de minimiser les pertes éventuelles.\\n9. **Education financière**: La gestion d'une CE peut aider à développer une culture financière saine et éducative.\\n10. **Autonomie financière**: En contrôlant ses dépenses et en épargnant régulièrement, vous pouvez acquérir une autonomie financière, ce qui peut être source de confiance et de bien-être.\\n\\nEn résumé, la Caisse d'Épargne est un outil puissant pour planifier et gérer ses finances à long terme, en générant un gain financier,\"\n",
      "Performance: 452 tokens/sec\n"
     ]
    },
    {
     "name": "stderr",
     "output_type": "stream",
     "text": [
      "\n"
     ]
    }
   ],
   "source": [
    "prompt = \"Quels sont les avantages du Crédit Mutuel ?\"\n",
    "\n",
    "# System prompt\n",
    "messages = [\n",
    "[\n",
    "    {\"role\": \"system\", \"content\": \"Tu es un assistant utile et professionnel qui répond toujours en français.\"},\n",
    "    {\"role\": \"user\", \"content\": prompt}\n",
    "],\n",
    "[\n",
    "    {\"role\": \"system\", \"content\": \"Tu es un assistant utile et professionnel qui répond toujours en français.\"},\n",
    "    {\"role\": \"user\", \"content\": \"Quels sont les avantages du Crédit Agricole ?\"}\n",
    "],\n",
    "[\n",
    "    {\"role\": \"system\", \"content\": \"Tu es un assistant utile et professionnel qui répond toujours en français.\"},\n",
    "    {\"role\": \"user\", \"content\": \"Quels sont les avantages de la Société Générale ?\"}\n",
    "],\n",
    "[\n",
    "    {\"role\": \"system\", \"content\": \"Tu es un assistant utile et professionnel qui répond toujours en français.\"},\n",
    "    {\"role\": \"user\", \"content\": \"Quels sont les avantages de la BNP ?\"}\n",
    "],\n",
    "[\n",
    "    {\"role\": \"system\", \"content\": \"Tu es un assistant utile et professionnel qui répond toujours en français.\"},\n",
    "    {\"role\": \"user\", \"content\": \"Quels sont les avantages de la Banque populaire ?\"}\n",
    "],\n",
    "[\n",
    "    {\"role\": \"system\", \"content\": \"Tu es un assistant utile et professionnel qui répond toujours en français.\"},\n",
    "    {\"role\": \"user\", \"content\": \"Quels sont les avantages de la Caise d'épargne ?\"}\n",
    "]\n",
    "]\n",
    "\n",
    "# Generate outputs\n",
    "text = tokenizer.apply_chat_template(\n",
    "    messages,\n",
    "    tokenize=False,\n",
    "    add_generation_prompt=True\n",
    ")\n",
    "\n",
    "start_time = time.time()  # Record the start time\n",
    "outputs = llm.generate(text, sampling_params)\n",
    "end_time = time.time()  # Record the end time\n",
    "    \n",
    "# Print the outputs.\n",
    "tokenscount = 0\n",
    "for output in outputs:\n",
    "    prompt = output.prompt\n",
    "    generated_text = output.outputs[0].text\n",
    "    tokenscount = tokenscount + len(output.outputs[0].token_ids)\n",
    "    print(f\"Prompt: {prompt!r}, Generated text: {generated_text!r}\")\n",
    "    \n",
    "print(f\"Performance: {int(tokenscount/(end_time-start_time))} tokens/sec\")"
   ]
  },
  {
   "cell_type": "markdown",
   "id": "c1dcc7c0-aef9-46ac-a23a-8ce976e24035",
   "metadata": {},
   "source": [
    "### VLLM speed test\n",
    "\n",
    "Max tokens = 512\n",
    "\n",
    "- \"meta-llama/Meta-Llama-3-8B-Instruct\": 52 tokens/sec (batch size 1)\n",
    "\n",
    "- \"casperhansen/llama-3-8b-instruct-awq\": 112 tokens/sec (batch size 1)\n",
    "\n",
    "- \"TechxGenus/Meta-Llama-3-8B-Instruct-GPTQ\"\n",
    "  - 125 tokens/sec (batch size 1)\n",
    "  - 240 tokens/sec (batch size 2)\n",
    "  - 342 tokens/sec (batch size 3)\n",
    "  - 448 tokens/sec (batch size 4)\n",
    "  - 510 tokens/sec (batch size 5)\n",
    "  - 600 tokens/sec (batch size 6) \n",
    "  - 612 tokens/sec (batch size 12)\n",
    "  - 565 tokens/sec (batch size 10)\n",
    "  - 543 tokens/sec (batch size 8)"
   ]
  },
  {
   "cell_type": "markdown",
   "id": "93564d8e-ea69-43ec-82a4-f955d0c4f6e1",
   "metadata": {},
   "source": [
    "- model = \"Qwen/Qwen1.5-32B-Chat-GPTQ-Int4\"\n",
    "- max_model_len=10576\n",
    "- quantization=\"gptq\"\n",
    "- kv_cache_dtype=\"fp8_e5m2\"\n",
    "- gpu_memory_utilization=0.99\n",
    "\n",
    "42 tokens / sec"
   ]
  },
  {
   "cell_type": "markdown",
   "id": "ca346a44-6147-4403-99cf-248b80c2925f",
   "metadata": {},
   "source": [
    "- model = \"Qwen/Qwen1.5-14B-Chat-GPTQ-Int4\"\n",
    "- quantization=\"gptq\"\n",
    "- kv_cache_dtype=\"fp8_e5m2\"\n",
    "- max_model_len=22624\n",
    "\n",
    "80 tokens/sec\n",
    "\n",
    "- model = \"Qwen/Qwen1.5-14B-Chat-GPTQ-Int4\"\n",
    "- quantization=\"gptq\"\n",
    "- max_model_len=11744\n",
    "\n",
    "80 tokens/sec\n",
    "\n",
    "- model = \"Qwen/Qwen1.5-14B-Chat-GPTQ-Int8\"\n",
    "- quantization=\"gptq\"\n",
    "- kv_cache_dtype=\"fp8_e5m2\"\n",
    "- max_model_len=4016\n",
    "- gpu_memory_utilization=1\n",
    "\n",
    "50 tokens/sec\n",
    "\n",
    "- model = \"Qwen/Qwen1.5-14B-Chat-AWQ\"\n",
    "- quantization=\"awq\"\n",
    "- max_model_len=10544\n",
    "\n",
    "74 tokens/sec\n",
    "\n",
    "- model = \"Qwen/Qwen1.5-14B-Chat-AWQ\"\n",
    "- quantization=\"awq\"\n",
    "- kv_cache_dtype=\"fp8_e5m2\"\n",
    "- max_model_len=21104\n",
    "\n",
    "74 tokens/sec\n",
    "\n"
   ]
  },
  {
   "cell_type": "markdown",
   "id": "e34a4960-ce95-4256-9109-47204bf23a51",
   "metadata": {},
   "source": [
    "Tongyi Qianwen LICENSE AGREEMENT\n",
    "\n",
    "- \"We\"(or \"Us\") shall mean Alibaba Cloud.\n",
    "- You are granted a non-exclusive, worldwide, non-transferable and royalty-free limited license under Alibaba Cloud's intellectual property or other rights owned by Us embodied in the Materials to use, reproduce, distribute, copy, create derivative works of, and make modifications to the Materials.\n",
    "- Restrictions: If you are commercially using the Materials, and your product or service has more than 100 million monthly active users, You shall request a license from Us. You cannot exercise your rights under this Agreement without our express authorization.\n",
    "- Rules of use: **You can not use the Materials or any output therefrom to improve any other large language model (excluding Tongyi Qianwen or derivative works thereof).**\n",
    "- Governing Law and Jurisdiction: This Agreement and any dispute arising out of or relating to it will be governed by the laws of China"
   ]
  },
  {
   "cell_type": "markdown",
   "id": "12e25f8e-070d-49d0-b7b4-f5e078dc5c7b",
   "metadata": {},
   "source": [
    "- model = \"NousResearch/Hermes-2-Pro-Mistral-7B\"\n",
    "- max_model_len=12544\n",
    "- gpu_memory_utilization=0.95\n",
    "\n",
    "55 tokens/sec\n",
    "\n",
    "- solidrust/Nous-Hermes-2-Mistral-7B-DPO-AWQ\n",
    "- quantization=\"awq\"\n",
    "- kv_cache_dtype=\"fp8_e5m2\"\n",
    "- gpu_memory_utilization=0.99\n",
    "- (max_seq_len=32768)\n",
    "\n",
    "125 tokens/sec"
   ]
  },
  {
   "cell_type": "markdown",
   "id": "1db2505d-a827-4dc2-a944-d8931758d335",
   "metadata": {},
   "source": [
    "Hermes 2 Pro - Mistral 7B LICENSE : Apache 2.0"
   ]
  }
 ],
 "metadata": {
  "kernelspec": {
   "display_name": "wordslab-llms",
   "language": "python",
   "name": "wordslab-llms"
  },
  "language_info": {
   "codemirror_mode": {
    "name": "ipython",
    "version": 3
   },
   "file_extension": ".py",
   "mimetype": "text/x-python",
   "name": "python",
   "nbconvert_exporter": "python",
   "pygments_lexer": "ipython3",
   "version": "3.10.12"
  }
 },
 "nbformat": 4,
 "nbformat_minor": 5
}
