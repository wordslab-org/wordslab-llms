{
 "cells": [
  {
   "cell_type": "code",
   "execution_count": 1,
   "id": "9e048850-79d8-45b4-aa66-65566c19f6a5",
   "metadata": {
    "execution": {
     "iopub.execute_input": "2023-12-17T07:56:29.011697Z",
     "iopub.status.busy": "2023-12-17T07:56:29.010559Z",
     "iopub.status.idle": "2023-12-17T07:56:30.565730Z",
     "shell.execute_reply": "2023-12-17T07:56:30.565263Z",
     "shell.execute_reply.started": "2023-12-17T07:56:29.011642Z"
    },
    "tags": []
   },
   "outputs": [
    {
     "name": "stdout",
     "output_type": "stream",
     "text": [
      "Collecting environment information...\n",
      "PyTorch version: 2.0.1\n",
      "Is debug build: False\n",
      "CUDA used to build PyTorch: 12.2\n",
      "ROCM used to build PyTorch: N/A\n",
      "\n",
      "OS: Ubuntu 22.04.3 LTS (x86_64)\n",
      "GCC version: (Ubuntu 11.4.0-1ubuntu1~22.04) 11.4.0\n",
      "Clang version: Could not collect\n",
      "CMake version: version 3.22.1\n",
      "Libc version: glibc-2.35\n",
      "\n",
      "Python version: 3.10.12 (main, Jun 11 2023, 05:26:28) [GCC 11.4.0] (64-bit runtime)\n",
      "Python platform: Linux-5.15.133.1-microsoft-standard-WSL2-x86_64-with-glibc2.35\n",
      "Is CUDA available: True\n",
      "CUDA runtime version: 12.2.128\n",
      "CUDA_MODULE_LOADING set to: LAZY\n",
      "GPU models and configuration: GPU 0: NVIDIA GeForce RTX 4090\n",
      "Nvidia driver version: 546.33\n",
      "cuDNN version: Could not collect\n",
      "HIP runtime version: N/A\n",
      "MIOpen runtime version: N/A\n",
      "Is XNNPACK available: True\n",
      "\n",
      "CPU:\n",
      "Architecture:                       x86_64\n",
      "CPU op-mode(s):                     32-bit, 64-bit\n",
      "Address sizes:                      46 bits physical, 48 bits virtual\n",
      "Byte Order:                         Little Endian\n",
      "CPU(s):                             24\n",
      "On-line CPU(s) list:                0-23\n",
      "Vendor ID:                          GenuineIntel\n",
      "Model name:                         13th Gen Intel(R) Core(TM) i7-13700K\n",
      "CPU family:                         6\n",
      "Model:                              183\n",
      "Thread(s) per core:                 2\n",
      "Core(s) per socket:                 12\n",
      "Socket(s):                          1\n",
      "Stepping:                           1\n",
      "BogoMIPS:                           6835.20\n",
      "Flags:                              fpu vme de pse tsc msr pae mce cx8 apic sep mtrr pge mca cmov pat pse36 clflush mmx fxsr sse sse2 ss ht syscall nx pdpe1gb rdtscp lm constant_tsc rep_good nopl xtopology tsc_reliable nonstop_tsc cpuid pni pclmulqdq vmx ssse3 fma cx16 sse4_1 sse4_2 x2apic movbe popcnt tsc_deadline_timer aes xsave avx f16c rdrand hypervisor lahf_lm abm 3dnowprefetch ssbd ibrs ibpb stibp ibrs_enhanced tpr_shadow vnmi ept vpid ept_ad fsgsbase tsc_adjust bmi1 avx2 smep bmi2 erms invpcid rdseed adx smap clflushopt clwb sha_ni xsaveopt xsavec xgetbv1 xsaves avx_vnni umip waitpkg gfni vaes vpclmulqdq rdpid movdiri movdir64b fsrm serialize flush_l1d arch_capabilities\n",
      "Virtualization:                     VT-x\n",
      "Hypervisor vendor:                  Microsoft\n",
      "Virtualization type:                full\n",
      "L1d cache:                          576 KiB (12 instances)\n",
      "L1i cache:                          384 KiB (12 instances)\n",
      "L2 cache:                           24 MiB (12 instances)\n",
      "L3 cache:                           30 MiB (1 instance)\n",
      "Vulnerability Gather data sampling: Not affected\n",
      "Vulnerability Itlb multihit:        Not affected\n",
      "Vulnerability L1tf:                 Not affected\n",
      "Vulnerability Mds:                  Not affected\n",
      "Vulnerability Meltdown:             Not affected\n",
      "Vulnerability Mmio stale data:      Not affected\n",
      "Vulnerability Retbleed:             Mitigation; Enhanced IBRS\n",
      "Vulnerability Spec rstack overflow: Not affected\n",
      "Vulnerability Spec store bypass:    Mitigation; Speculative Store Bypass disabled via prctl and seccomp\n",
      "Vulnerability Spectre v1:           Mitigation; usercopy/swapgs barriers and __user pointer sanitization\n",
      "Vulnerability Spectre v2:           Mitigation; Enhanced IBRS, IBPB conditional, RSB filling, PBRSB-eIBRS SW sequence\n",
      "Vulnerability Srbds:                Not affected\n",
      "Vulnerability Tsx async abort:      Not affected\n",
      "\n",
      "Versions of relevant libraries:\n",
      "[pip3] numpy==1.21.5\n",
      "[pip3] torch==2.0.1\n",
      "[pip3] torchvision==0.15.2\n",
      "[conda] Could not collect\n"
     ]
    }
   ],
   "source": [
    "from torch.utils import collect_env\n",
    "\n",
    "collect_env.main()"
   ]
  },
  {
   "cell_type": "markdown",
   "id": "8794cd0e-5bf7-4d56-9ac4-42df6a697b15",
   "metadata": {},
   "source": [
    "# Pytorch performance analyzer"
   ]
  },
  {
   "cell_type": "code",
   "execution_count": 6,
   "id": "994afb8b-cd96-4695-abb2-92e2a2bd622d",
   "metadata": {
    "execution": {
     "iopub.execute_input": "2023-12-16T07:09:39.319009Z",
     "iopub.status.busy": "2023-12-16T07:09:39.318650Z",
     "iopub.status.idle": "2023-12-16T07:09:39.324706Z",
     "shell.execute_reply": "2023-12-16T07:09:39.324221Z",
     "shell.execute_reply.started": "2023-12-16T07:09:39.318986Z"
    },
    "tags": []
   },
   "outputs": [
    {
     "name": "stdout",
     "output_type": "stream",
     "text": [
      "Original method with val1 and val2.\n",
      "Replaced method with val1 and val2.\n"
     ]
    }
   ],
   "source": [
    "import inspect\n",
    "import types\n",
    "\n",
    "class ExampleClass:\n",
    "    def original_method(self, param1, param2):\n",
    "        print(f\"Original method with {param1} and {param2}.\")\n",
    "\n",
    "obj = ExampleClass()\n",
    "obj.original_method(\"val1\", \"val2\")\n",
    "\n",
    "# Retrieve the source code of the method\n",
    "source = textwrap.dedent(inspect.getsource(ExampleClass.original_method))\n",
    "\n",
    "# Modify the source code\n",
    "modified_source = source.replace(\n",
    "    '    print(f\"Original method with {param1} and {param2}.\")',\n",
    "    '    print(f\"Replaced method with {param1} and {param2}.\")'\n",
    ")\n",
    "\n",
    "# Compile the modified source code\n",
    "code = compile(modified_source, \"<string>\", \"exec\")\n",
    "new_method = types.FunctionType(code.co_consts[0], globals(), \"original_method\")\n",
    "\n",
    "# Replace the original method with the modified method\n",
    "ExampleClass.original_method = new_method\n",
    "\n",
    "# Test the modified method\n",
    "obj.original_method(\"val1\", \"val2\")"
   ]
  },
  {
   "cell_type": "code",
   "execution_count": 4,
   "id": "d1baa49c-a22a-4a18-9b1c-d6598d4dafa5",
   "metadata": {
    "execution": {
     "iopub.execute_input": "2023-12-16T07:08:41.031908Z",
     "iopub.status.busy": "2023-12-16T07:08:41.031111Z",
     "iopub.status.idle": "2023-12-16T07:08:41.037545Z",
     "shell.execute_reply": "2023-12-16T07:08:41.036823Z",
     "shell.execute_reply.started": "2023-12-16T07:08:41.031875Z"
    },
    "tags": []
   },
   "outputs": [
    {
     "name": "stdout",
     "output_type": "stream",
     "text": [
      "    def original_method(self, param1, param2):\n",
      "        print(f\"Original method with {param1} and {param2}.\")\n",
      "\n",
      "def original_method(self, param1, param2):\n",
      "    print(f\"Original method with {param1} and {param2}.\")\n",
      "\n"
     ]
    }
   ],
   "source": [
    "import textwrap\n",
    "\n",
    "print(source)\n",
    "\n",
    "unindented_source = textwrap.dedent(source)\n",
    "\n",
    "print(unindented_source)"
   ]
  },
  {
   "cell_type": "code",
   "execution_count": null,
   "id": "1054fb45-81cb-426d-8356-5e921e612fa7",
   "metadata": {},
   "outputs": [],
   "source": []
  }
 ],
 "metadata": {
  "kernelspec": {
   "display_name": "Python 3 (ipykernel)",
   "language": "python",
   "name": "python3"
  },
  "language_info": {
   "codemirror_mode": {
    "name": "ipython",
    "version": 3
   },
   "file_extension": ".py",
   "mimetype": "text/x-python",
   "name": "python",
   "nbconvert_exporter": "python",
   "pygments_lexer": "ipython3",
   "version": "3.10.12"
  }
 },
 "nbformat": 4,
 "nbformat_minor": 5
}
